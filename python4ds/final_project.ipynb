{
 "cells": [
  {
   "cell_type": "code",
   "execution_count": 26,
   "metadata": {},
   "outputs": [],
   "source": [
    "import os\n",
    "import tweepy\n",
    "import json\n",
    "import pandas as pd\n",
    "import plotly.express as px\n",
    "import svgutils.compose as sc\n",
    "import pylustrator\n",
    "import re\n",
    "import nltk\n",
    "import string\n",
    "import random\n",
    "from retrying import retry\n",
    "from geopy.geocoders import Nominatim\n",
    "from textblob import TextBlob\n",
    "from wordcloud import WordCloud\n",
    "import matplotlib.pyplot as plt\n",
    "from nltk.classify import NaiveBayesClassifier\n",
    "from collections import Counter\n",
    "%matplotlib inline"
   ]
  },
  {
   "cell_type": "markdown",
   "metadata": {},
   "source": [
    "# What is overall attitude of Twitter users towards solar? "
   ]
  },
  {
   "cell_type": "markdown",
   "metadata": {},
   "source": [
    "Social networks can provide information about people's attitude regarding a particular topic. For this project I took Twitter data for the USA states with the supposedly greatest exposure to solar, i.e. states with the largest installed solar electricity capacity.\n",
    "\n",
    "First of all, let's create Twitter API instance."
   ]
  },
  {
   "cell_type": "code",
   "execution_count": 8,
   "metadata": {},
   "outputs": [],
   "source": [
    "path = r'd:/edx/sandiego/course1/Week-8-NLP-Databases/twitter'\n",
    "secrets_file = 'secret_twitter_credentials.json'"
   ]
  },
  {
   "cell_type": "code",
   "execution_count": 22,
   "metadata": {},
   "outputs": [],
   "source": [
    "with open(os.path.join(path, secrets_file), 'r') as f:\n",
    "    secrets = json.load(f)"
   ]
  },
  {
   "cell_type": "code",
   "execution_count": 23,
   "metadata": {},
   "outputs": [],
   "source": [
    "auth = tweepy.OAuthHandler(secrets['API_key'], secrets['API_secret_key'])\n",
    "auth.set_access_token(secrets['Access_token'], secrets['Access_token_secret'])\n",
    "\n",
    "api = tweepy.API(auth)"
   ]
  },
  {
   "cell_type": "markdown",
   "metadata": {},
   "source": [
    "## Best States For Solar Power by Installed Solar Capacity\n",
    "\n",
    "According to Google search results, the largest volume of installed solar panels belongs to these states:\n",
    "* California - 21,074 MW.\n",
    "* North Carolina - 4,308 MW.\n",
    "* Arizona - 3,400 MW.\n",
    "* Nevada - 2,595 MW.\n",
    "* New Jersey - 2,390 MW.\n",
    "* Massachusetts - 2,011 MW.\n",
    "* Texas - 1,874 MW.\n",
    "* Utah - 1,599 MW."
   ]
  },
  {
   "cell_type": "markdown",
   "metadata": {},
   "source": [
    "In order to identify these states for Twitter API request we need location latitude, longitude and distance around them."
   ]
  },
  {
   "cell_type": "code",
   "execution_count": 2,
   "metadata": {},
   "outputs": [
    {
     "name": "stdout",
     "output_type": "stream",
     "text": [
      "{'CA': '36.7014631,-118.755997,300mi', 'NC': '35.6729639,-79.0392919,300mi', 'AZ': '34.395342,-111.763275,300mi', 'NV': '39.5158825,-116.8537227,300mi', 'NJ': '40.0757384,-74.4041622,300mi', 'MA': '42.3788774,-72.032366,300mi', 'TX': '31.8160381,-99.5120986,300mi', 'UT': '39.4225192,-111.714358,300mi'}\n"
     ]
    }
   ],
   "source": [
    "geolocator = Nominatim(user_agent=\"ksu_python4ds\")\n",
    "states = ['CA', 'NC', 'AZ', 'NV', 'NJ', 'MA', 'TX', 'UT']\n",
    "locations = {}\n",
    "for state in states:\n",
    "    location = geolocator.geocode(state + ', USA')\n",
    "    locations[state] = str(location.latitude) + ',' + str(location.longitude) + ',300mi'\n",
    "print(locations)"
   ]
  },
  {
   "cell_type": "markdown",
   "metadata": {},
   "source": [
    "Let's also display these states on a map:"
   ]
  },
  {
   "cell_type": "code",
   "execution_count": 48,
   "metadata": {},
   "outputs": [
    {
     "data": {
      "application/vnd.plotly.v1+json": {
       "config": {
        "plotlyServerURL": "https://plot.ly"
       },
       "data": [
        {
         "colorscale": [
          [
           0,
           "#636efa"
          ],
          [
           1,
           "#636efa"
          ]
         ],
         "geo": "geo",
         "hovertemplate": "locations=%{location}<extra></extra>",
         "locationmode": "USA-states",
         "locations": [
          "CA",
          "NC",
          "AZ",
          "NV",
          "NJ",
          "MA",
          "TX",
          "UT"
         ],
         "name": "",
         "showlegend": true,
         "showscale": false,
         "type": "choropleth",
         "z": [
          1,
          1,
          1,
          1,
          1,
          1,
          1,
          1
         ]
        }
       ],
       "layout": {
        "geo": {
         "center": {},
         "domain": {
          "x": [
           0,
           1
          ],
          "y": [
           0,
           1
          ]
         },
         "scope": "usa"
        },
        "legend": {
         "tracegroupgap": 0
        },
        "margin": {
         "t": 60
        },
        "template": {
         "data": {
          "bar": [
           {
            "error_x": {
             "color": "#2a3f5f"
            },
            "error_y": {
             "color": "#2a3f5f"
            },
            "marker": {
             "line": {
              "color": "#E5ECF6",
              "width": 0.5
             }
            },
            "type": "bar"
           }
          ],
          "barpolar": [
           {
            "marker": {
             "line": {
              "color": "#E5ECF6",
              "width": 0.5
             }
            },
            "type": "barpolar"
           }
          ],
          "carpet": [
           {
            "aaxis": {
             "endlinecolor": "#2a3f5f",
             "gridcolor": "white",
             "linecolor": "white",
             "minorgridcolor": "white",
             "startlinecolor": "#2a3f5f"
            },
            "baxis": {
             "endlinecolor": "#2a3f5f",
             "gridcolor": "white",
             "linecolor": "white",
             "minorgridcolor": "white",
             "startlinecolor": "#2a3f5f"
            },
            "type": "carpet"
           }
          ],
          "choropleth": [
           {
            "colorbar": {
             "outlinewidth": 0,
             "ticks": ""
            },
            "type": "choropleth"
           }
          ],
          "contour": [
           {
            "colorbar": {
             "outlinewidth": 0,
             "ticks": ""
            },
            "colorscale": [
             [
              0,
              "#0d0887"
             ],
             [
              0.1111111111111111,
              "#46039f"
             ],
             [
              0.2222222222222222,
              "#7201a8"
             ],
             [
              0.3333333333333333,
              "#9c179e"
             ],
             [
              0.4444444444444444,
              "#bd3786"
             ],
             [
              0.5555555555555556,
              "#d8576b"
             ],
             [
              0.6666666666666666,
              "#ed7953"
             ],
             [
              0.7777777777777778,
              "#fb9f3a"
             ],
             [
              0.8888888888888888,
              "#fdca26"
             ],
             [
              1,
              "#f0f921"
             ]
            ],
            "type": "contour"
           }
          ],
          "contourcarpet": [
           {
            "colorbar": {
             "outlinewidth": 0,
             "ticks": ""
            },
            "type": "contourcarpet"
           }
          ],
          "heatmap": [
           {
            "colorbar": {
             "outlinewidth": 0,
             "ticks": ""
            },
            "colorscale": [
             [
              0,
              "#0d0887"
             ],
             [
              0.1111111111111111,
              "#46039f"
             ],
             [
              0.2222222222222222,
              "#7201a8"
             ],
             [
              0.3333333333333333,
              "#9c179e"
             ],
             [
              0.4444444444444444,
              "#bd3786"
             ],
             [
              0.5555555555555556,
              "#d8576b"
             ],
             [
              0.6666666666666666,
              "#ed7953"
             ],
             [
              0.7777777777777778,
              "#fb9f3a"
             ],
             [
              0.8888888888888888,
              "#fdca26"
             ],
             [
              1,
              "#f0f921"
             ]
            ],
            "type": "heatmap"
           }
          ],
          "heatmapgl": [
           {
            "colorbar": {
             "outlinewidth": 0,
             "ticks": ""
            },
            "colorscale": [
             [
              0,
              "#0d0887"
             ],
             [
              0.1111111111111111,
              "#46039f"
             ],
             [
              0.2222222222222222,
              "#7201a8"
             ],
             [
              0.3333333333333333,
              "#9c179e"
             ],
             [
              0.4444444444444444,
              "#bd3786"
             ],
             [
              0.5555555555555556,
              "#d8576b"
             ],
             [
              0.6666666666666666,
              "#ed7953"
             ],
             [
              0.7777777777777778,
              "#fb9f3a"
             ],
             [
              0.8888888888888888,
              "#fdca26"
             ],
             [
              1,
              "#f0f921"
             ]
            ],
            "type": "heatmapgl"
           }
          ],
          "histogram": [
           {
            "marker": {
             "colorbar": {
              "outlinewidth": 0,
              "ticks": ""
             }
            },
            "type": "histogram"
           }
          ],
          "histogram2d": [
           {
            "colorbar": {
             "outlinewidth": 0,
             "ticks": ""
            },
            "colorscale": [
             [
              0,
              "#0d0887"
             ],
             [
              0.1111111111111111,
              "#46039f"
             ],
             [
              0.2222222222222222,
              "#7201a8"
             ],
             [
              0.3333333333333333,
              "#9c179e"
             ],
             [
              0.4444444444444444,
              "#bd3786"
             ],
             [
              0.5555555555555556,
              "#d8576b"
             ],
             [
              0.6666666666666666,
              "#ed7953"
             ],
             [
              0.7777777777777778,
              "#fb9f3a"
             ],
             [
              0.8888888888888888,
              "#fdca26"
             ],
             [
              1,
              "#f0f921"
             ]
            ],
            "type": "histogram2d"
           }
          ],
          "histogram2dcontour": [
           {
            "colorbar": {
             "outlinewidth": 0,
             "ticks": ""
            },
            "colorscale": [
             [
              0,
              "#0d0887"
             ],
             [
              0.1111111111111111,
              "#46039f"
             ],
             [
              0.2222222222222222,
              "#7201a8"
             ],
             [
              0.3333333333333333,
              "#9c179e"
             ],
             [
              0.4444444444444444,
              "#bd3786"
             ],
             [
              0.5555555555555556,
              "#d8576b"
             ],
             [
              0.6666666666666666,
              "#ed7953"
             ],
             [
              0.7777777777777778,
              "#fb9f3a"
             ],
             [
              0.8888888888888888,
              "#fdca26"
             ],
             [
              1,
              "#f0f921"
             ]
            ],
            "type": "histogram2dcontour"
           }
          ],
          "mesh3d": [
           {
            "colorbar": {
             "outlinewidth": 0,
             "ticks": ""
            },
            "type": "mesh3d"
           }
          ],
          "parcoords": [
           {
            "line": {
             "colorbar": {
              "outlinewidth": 0,
              "ticks": ""
             }
            },
            "type": "parcoords"
           }
          ],
          "pie": [
           {
            "automargin": true,
            "type": "pie"
           }
          ],
          "scatter": [
           {
            "marker": {
             "colorbar": {
              "outlinewidth": 0,
              "ticks": ""
             }
            },
            "type": "scatter"
           }
          ],
          "scatter3d": [
           {
            "line": {
             "colorbar": {
              "outlinewidth": 0,
              "ticks": ""
             }
            },
            "marker": {
             "colorbar": {
              "outlinewidth": 0,
              "ticks": ""
             }
            },
            "type": "scatter3d"
           }
          ],
          "scattercarpet": [
           {
            "marker": {
             "colorbar": {
              "outlinewidth": 0,
              "ticks": ""
             }
            },
            "type": "scattercarpet"
           }
          ],
          "scattergeo": [
           {
            "marker": {
             "colorbar": {
              "outlinewidth": 0,
              "ticks": ""
             }
            },
            "type": "scattergeo"
           }
          ],
          "scattergl": [
           {
            "marker": {
             "colorbar": {
              "outlinewidth": 0,
              "ticks": ""
             }
            },
            "type": "scattergl"
           }
          ],
          "scattermapbox": [
           {
            "marker": {
             "colorbar": {
              "outlinewidth": 0,
              "ticks": ""
             }
            },
            "type": "scattermapbox"
           }
          ],
          "scatterpolar": [
           {
            "marker": {
             "colorbar": {
              "outlinewidth": 0,
              "ticks": ""
             }
            },
            "type": "scatterpolar"
           }
          ],
          "scatterpolargl": [
           {
            "marker": {
             "colorbar": {
              "outlinewidth": 0,
              "ticks": ""
             }
            },
            "type": "scatterpolargl"
           }
          ],
          "scatterternary": [
           {
            "marker": {
             "colorbar": {
              "outlinewidth": 0,
              "ticks": ""
             }
            },
            "type": "scatterternary"
           }
          ],
          "surface": [
           {
            "colorbar": {
             "outlinewidth": 0,
             "ticks": ""
            },
            "colorscale": [
             [
              0,
              "#0d0887"
             ],
             [
              0.1111111111111111,
              "#46039f"
             ],
             [
              0.2222222222222222,
              "#7201a8"
             ],
             [
              0.3333333333333333,
              "#9c179e"
             ],
             [
              0.4444444444444444,
              "#bd3786"
             ],
             [
              0.5555555555555556,
              "#d8576b"
             ],
             [
              0.6666666666666666,
              "#ed7953"
             ],
             [
              0.7777777777777778,
              "#fb9f3a"
             ],
             [
              0.8888888888888888,
              "#fdca26"
             ],
             [
              1,
              "#f0f921"
             ]
            ],
            "type": "surface"
           }
          ],
          "table": [
           {
            "cells": {
             "fill": {
              "color": "#EBF0F8"
             },
             "line": {
              "color": "white"
             }
            },
            "header": {
             "fill": {
              "color": "#C8D4E3"
             },
             "line": {
              "color": "white"
             }
            },
            "type": "table"
           }
          ]
         },
         "layout": {
          "annotationdefaults": {
           "arrowcolor": "#2a3f5f",
           "arrowhead": 0,
           "arrowwidth": 1
          },
          "autotypenumbers": "strict",
          "coloraxis": {
           "colorbar": {
            "outlinewidth": 0,
            "ticks": ""
           }
          },
          "colorscale": {
           "diverging": [
            [
             0,
             "#8e0152"
            ],
            [
             0.1,
             "#c51b7d"
            ],
            [
             0.2,
             "#de77ae"
            ],
            [
             0.3,
             "#f1b6da"
            ],
            [
             0.4,
             "#fde0ef"
            ],
            [
             0.5,
             "#f7f7f7"
            ],
            [
             0.6,
             "#e6f5d0"
            ],
            [
             0.7,
             "#b8e186"
            ],
            [
             0.8,
             "#7fbc41"
            ],
            [
             0.9,
             "#4d9221"
            ],
            [
             1,
             "#276419"
            ]
           ],
           "sequential": [
            [
             0,
             "#0d0887"
            ],
            [
             0.1111111111111111,
             "#46039f"
            ],
            [
             0.2222222222222222,
             "#7201a8"
            ],
            [
             0.3333333333333333,
             "#9c179e"
            ],
            [
             0.4444444444444444,
             "#bd3786"
            ],
            [
             0.5555555555555556,
             "#d8576b"
            ],
            [
             0.6666666666666666,
             "#ed7953"
            ],
            [
             0.7777777777777778,
             "#fb9f3a"
            ],
            [
             0.8888888888888888,
             "#fdca26"
            ],
            [
             1,
             "#f0f921"
            ]
           ],
           "sequentialminus": [
            [
             0,
             "#0d0887"
            ],
            [
             0.1111111111111111,
             "#46039f"
            ],
            [
             0.2222222222222222,
             "#7201a8"
            ],
            [
             0.3333333333333333,
             "#9c179e"
            ],
            [
             0.4444444444444444,
             "#bd3786"
            ],
            [
             0.5555555555555556,
             "#d8576b"
            ],
            [
             0.6666666666666666,
             "#ed7953"
            ],
            [
             0.7777777777777778,
             "#fb9f3a"
            ],
            [
             0.8888888888888888,
             "#fdca26"
            ],
            [
             1,
             "#f0f921"
            ]
           ]
          },
          "colorway": [
           "#636efa",
           "#EF553B",
           "#00cc96",
           "#ab63fa",
           "#FFA15A",
           "#19d3f3",
           "#FF6692",
           "#B6E880",
           "#FF97FF",
           "#FECB52"
          ],
          "font": {
           "color": "#2a3f5f"
          },
          "geo": {
           "bgcolor": "white",
           "lakecolor": "white",
           "landcolor": "#E5ECF6",
           "showlakes": true,
           "showland": true,
           "subunitcolor": "white"
          },
          "hoverlabel": {
           "align": "left"
          },
          "hovermode": "closest",
          "mapbox": {
           "style": "light"
          },
          "paper_bgcolor": "white",
          "plot_bgcolor": "#E5ECF6",
          "polar": {
           "angularaxis": {
            "gridcolor": "white",
            "linecolor": "white",
            "ticks": ""
           },
           "bgcolor": "#E5ECF6",
           "radialaxis": {
            "gridcolor": "white",
            "linecolor": "white",
            "ticks": ""
           }
          },
          "scene": {
           "xaxis": {
            "backgroundcolor": "#E5ECF6",
            "gridcolor": "white",
            "gridwidth": 2,
            "linecolor": "white",
            "showbackground": true,
            "ticks": "",
            "zerolinecolor": "white"
           },
           "yaxis": {
            "backgroundcolor": "#E5ECF6",
            "gridcolor": "white",
            "gridwidth": 2,
            "linecolor": "white",
            "showbackground": true,
            "ticks": "",
            "zerolinecolor": "white"
           },
           "zaxis": {
            "backgroundcolor": "#E5ECF6",
            "gridcolor": "white",
            "gridwidth": 2,
            "linecolor": "white",
            "showbackground": true,
            "ticks": "",
            "zerolinecolor": "white"
           }
          },
          "shapedefaults": {
           "line": {
            "color": "#2a3f5f"
           }
          },
          "ternary": {
           "aaxis": {
            "gridcolor": "white",
            "linecolor": "white",
            "ticks": ""
           },
           "baxis": {
            "gridcolor": "white",
            "linecolor": "white",
            "ticks": ""
           },
           "bgcolor": "#E5ECF6",
           "caxis": {
            "gridcolor": "white",
            "linecolor": "white",
            "ticks": ""
           }
          },
          "title": {
           "x": 0.05
          },
          "xaxis": {
           "automargin": true,
           "gridcolor": "white",
           "linecolor": "white",
           "ticks": "",
           "title": {
            "standoff": 15
           },
           "zerolinecolor": "white",
           "zerolinewidth": 2
          },
          "yaxis": {
           "automargin": true,
           "gridcolor": "white",
           "linecolor": "white",
           "ticks": "",
           "title": {
            "standoff": 15
           },
           "zerolinecolor": "white",
           "zerolinewidth": 2
          }
         }
        },
        "title": {
         "text": "States with largest installed solar capacity"
        }
       }
      },
      "text/html": [
       "<div>                            <div id=\"a5825f73-661a-406e-8de1-c0e2a65dca4f\" class=\"plotly-graph-div\" style=\"height:525px; width:100%;\"></div>            <script type=\"text/javascript\">                require([\"plotly\"], function(Plotly) {                    window.PLOTLYENV=window.PLOTLYENV || {};                                    if (document.getElementById(\"a5825f73-661a-406e-8de1-c0e2a65dca4f\")) {                    Plotly.newPlot(                        \"a5825f73-661a-406e-8de1-c0e2a65dca4f\",                        [{\"colorscale\": [[0.0, \"#636efa\"], [1.0, \"#636efa\"]], \"geo\": \"geo\", \"hovertemplate\": \"locations=%{location}<extra></extra>\", \"locationmode\": \"USA-states\", \"locations\": [\"CA\", \"NC\", \"AZ\", \"NV\", \"NJ\", \"MA\", \"TX\", \"UT\"], \"name\": \"\", \"showlegend\": true, \"showscale\": false, \"type\": \"choropleth\", \"z\": [1, 1, 1, 1, 1, 1, 1, 1]}],                        {\"geo\": {\"center\": {}, \"domain\": {\"x\": [0.0, 1.0], \"y\": [0.0, 1.0]}, \"scope\": \"usa\"}, \"legend\": {\"tracegroupgap\": 0}, \"margin\": {\"t\": 60}, \"template\": {\"data\": {\"bar\": [{\"error_x\": {\"color\": \"#2a3f5f\"}, \"error_y\": {\"color\": \"#2a3f5f\"}, \"marker\": {\"line\": {\"color\": \"#E5ECF6\", \"width\": 0.5}}, \"type\": \"bar\"}], \"barpolar\": [{\"marker\": {\"line\": {\"color\": \"#E5ECF6\", \"width\": 0.5}}, \"type\": \"barpolar\"}], \"carpet\": [{\"aaxis\": {\"endlinecolor\": \"#2a3f5f\", \"gridcolor\": \"white\", \"linecolor\": \"white\", \"minorgridcolor\": \"white\", \"startlinecolor\": \"#2a3f5f\"}, \"baxis\": {\"endlinecolor\": \"#2a3f5f\", \"gridcolor\": \"white\", \"linecolor\": \"white\", \"minorgridcolor\": \"white\", \"startlinecolor\": \"#2a3f5f\"}, \"type\": \"carpet\"}], \"choropleth\": [{\"colorbar\": {\"outlinewidth\": 0, \"ticks\": \"\"}, \"type\": \"choropleth\"}], \"contour\": [{\"colorbar\": {\"outlinewidth\": 0, \"ticks\": \"\"}, \"colorscale\": [[0.0, \"#0d0887\"], [0.1111111111111111, \"#46039f\"], [0.2222222222222222, \"#7201a8\"], [0.3333333333333333, \"#9c179e\"], [0.4444444444444444, \"#bd3786\"], [0.5555555555555556, \"#d8576b\"], [0.6666666666666666, \"#ed7953\"], [0.7777777777777778, \"#fb9f3a\"], [0.8888888888888888, \"#fdca26\"], [1.0, \"#f0f921\"]], \"type\": \"contour\"}], \"contourcarpet\": [{\"colorbar\": {\"outlinewidth\": 0, \"ticks\": \"\"}, \"type\": \"contourcarpet\"}], \"heatmap\": [{\"colorbar\": {\"outlinewidth\": 0, \"ticks\": \"\"}, \"colorscale\": [[0.0, \"#0d0887\"], [0.1111111111111111, \"#46039f\"], [0.2222222222222222, \"#7201a8\"], [0.3333333333333333, \"#9c179e\"], [0.4444444444444444, \"#bd3786\"], [0.5555555555555556, \"#d8576b\"], [0.6666666666666666, \"#ed7953\"], [0.7777777777777778, \"#fb9f3a\"], [0.8888888888888888, \"#fdca26\"], [1.0, \"#f0f921\"]], \"type\": \"heatmap\"}], \"heatmapgl\": [{\"colorbar\": {\"outlinewidth\": 0, \"ticks\": \"\"}, \"colorscale\": [[0.0, \"#0d0887\"], [0.1111111111111111, \"#46039f\"], [0.2222222222222222, \"#7201a8\"], [0.3333333333333333, \"#9c179e\"], [0.4444444444444444, \"#bd3786\"], [0.5555555555555556, \"#d8576b\"], [0.6666666666666666, \"#ed7953\"], [0.7777777777777778, \"#fb9f3a\"], [0.8888888888888888, \"#fdca26\"], [1.0, \"#f0f921\"]], \"type\": \"heatmapgl\"}], \"histogram\": [{\"marker\": {\"colorbar\": {\"outlinewidth\": 0, \"ticks\": \"\"}}, \"type\": \"histogram\"}], \"histogram2d\": [{\"colorbar\": {\"outlinewidth\": 0, \"ticks\": \"\"}, \"colorscale\": [[0.0, \"#0d0887\"], [0.1111111111111111, \"#46039f\"], [0.2222222222222222, \"#7201a8\"], [0.3333333333333333, \"#9c179e\"], [0.4444444444444444, \"#bd3786\"], [0.5555555555555556, \"#d8576b\"], [0.6666666666666666, \"#ed7953\"], [0.7777777777777778, \"#fb9f3a\"], [0.8888888888888888, \"#fdca26\"], [1.0, \"#f0f921\"]], \"type\": \"histogram2d\"}], \"histogram2dcontour\": [{\"colorbar\": {\"outlinewidth\": 0, \"ticks\": \"\"}, \"colorscale\": [[0.0, \"#0d0887\"], [0.1111111111111111, \"#46039f\"], [0.2222222222222222, \"#7201a8\"], [0.3333333333333333, \"#9c179e\"], [0.4444444444444444, \"#bd3786\"], [0.5555555555555556, \"#d8576b\"], [0.6666666666666666, \"#ed7953\"], [0.7777777777777778, \"#fb9f3a\"], [0.8888888888888888, \"#fdca26\"], [1.0, \"#f0f921\"]], \"type\": \"histogram2dcontour\"}], \"mesh3d\": [{\"colorbar\": {\"outlinewidth\": 0, \"ticks\": \"\"}, \"type\": \"mesh3d\"}], \"parcoords\": [{\"line\": {\"colorbar\": {\"outlinewidth\": 0, \"ticks\": \"\"}}, \"type\": \"parcoords\"}], \"pie\": [{\"automargin\": true, \"type\": \"pie\"}], \"scatter\": [{\"marker\": {\"colorbar\": {\"outlinewidth\": 0, \"ticks\": \"\"}}, \"type\": \"scatter\"}], \"scatter3d\": [{\"line\": {\"colorbar\": {\"outlinewidth\": 0, \"ticks\": \"\"}}, \"marker\": {\"colorbar\": {\"outlinewidth\": 0, \"ticks\": \"\"}}, \"type\": \"scatter3d\"}], \"scattercarpet\": [{\"marker\": {\"colorbar\": {\"outlinewidth\": 0, \"ticks\": \"\"}}, \"type\": \"scattercarpet\"}], \"scattergeo\": [{\"marker\": {\"colorbar\": {\"outlinewidth\": 0, \"ticks\": \"\"}}, \"type\": \"scattergeo\"}], \"scattergl\": [{\"marker\": {\"colorbar\": {\"outlinewidth\": 0, \"ticks\": \"\"}}, \"type\": \"scattergl\"}], \"scattermapbox\": [{\"marker\": {\"colorbar\": {\"outlinewidth\": 0, \"ticks\": \"\"}}, \"type\": \"scattermapbox\"}], \"scatterpolar\": [{\"marker\": {\"colorbar\": {\"outlinewidth\": 0, \"ticks\": \"\"}}, \"type\": \"scatterpolar\"}], \"scatterpolargl\": [{\"marker\": {\"colorbar\": {\"outlinewidth\": 0, \"ticks\": \"\"}}, \"type\": \"scatterpolargl\"}], \"scatterternary\": [{\"marker\": {\"colorbar\": {\"outlinewidth\": 0, \"ticks\": \"\"}}, \"type\": \"scatterternary\"}], \"surface\": [{\"colorbar\": {\"outlinewidth\": 0, \"ticks\": \"\"}, \"colorscale\": [[0.0, \"#0d0887\"], [0.1111111111111111, \"#46039f\"], [0.2222222222222222, \"#7201a8\"], [0.3333333333333333, \"#9c179e\"], [0.4444444444444444, \"#bd3786\"], [0.5555555555555556, \"#d8576b\"], [0.6666666666666666, \"#ed7953\"], [0.7777777777777778, \"#fb9f3a\"], [0.8888888888888888, \"#fdca26\"], [1.0, \"#f0f921\"]], \"type\": \"surface\"}], \"table\": [{\"cells\": {\"fill\": {\"color\": \"#EBF0F8\"}, \"line\": {\"color\": \"white\"}}, \"header\": {\"fill\": {\"color\": \"#C8D4E3\"}, \"line\": {\"color\": \"white\"}}, \"type\": \"table\"}]}, \"layout\": {\"annotationdefaults\": {\"arrowcolor\": \"#2a3f5f\", \"arrowhead\": 0, \"arrowwidth\": 1}, \"autotypenumbers\": \"strict\", \"coloraxis\": {\"colorbar\": {\"outlinewidth\": 0, \"ticks\": \"\"}}, \"colorscale\": {\"diverging\": [[0, \"#8e0152\"], [0.1, \"#c51b7d\"], [0.2, \"#de77ae\"], [0.3, \"#f1b6da\"], [0.4, \"#fde0ef\"], [0.5, \"#f7f7f7\"], [0.6, \"#e6f5d0\"], [0.7, \"#b8e186\"], [0.8, \"#7fbc41\"], [0.9, \"#4d9221\"], [1, \"#276419\"]], \"sequential\": [[0.0, \"#0d0887\"], [0.1111111111111111, \"#46039f\"], [0.2222222222222222, \"#7201a8\"], [0.3333333333333333, \"#9c179e\"], [0.4444444444444444, \"#bd3786\"], [0.5555555555555556, \"#d8576b\"], [0.6666666666666666, \"#ed7953\"], [0.7777777777777778, \"#fb9f3a\"], [0.8888888888888888, \"#fdca26\"], [1.0, \"#f0f921\"]], \"sequentialminus\": [[0.0, \"#0d0887\"], [0.1111111111111111, \"#46039f\"], [0.2222222222222222, \"#7201a8\"], [0.3333333333333333, \"#9c179e\"], [0.4444444444444444, \"#bd3786\"], [0.5555555555555556, \"#d8576b\"], [0.6666666666666666, \"#ed7953\"], [0.7777777777777778, \"#fb9f3a\"], [0.8888888888888888, \"#fdca26\"], [1.0, \"#f0f921\"]]}, \"colorway\": [\"#636efa\", \"#EF553B\", \"#00cc96\", \"#ab63fa\", \"#FFA15A\", \"#19d3f3\", \"#FF6692\", \"#B6E880\", \"#FF97FF\", \"#FECB52\"], \"font\": {\"color\": \"#2a3f5f\"}, \"geo\": {\"bgcolor\": \"white\", \"lakecolor\": \"white\", \"landcolor\": \"#E5ECF6\", \"showlakes\": true, \"showland\": true, \"subunitcolor\": \"white\"}, \"hoverlabel\": {\"align\": \"left\"}, \"hovermode\": \"closest\", \"mapbox\": {\"style\": \"light\"}, \"paper_bgcolor\": \"white\", \"plot_bgcolor\": \"#E5ECF6\", \"polar\": {\"angularaxis\": {\"gridcolor\": \"white\", \"linecolor\": \"white\", \"ticks\": \"\"}, \"bgcolor\": \"#E5ECF6\", \"radialaxis\": {\"gridcolor\": \"white\", \"linecolor\": \"white\", \"ticks\": \"\"}}, \"scene\": {\"xaxis\": {\"backgroundcolor\": \"#E5ECF6\", \"gridcolor\": \"white\", \"gridwidth\": 2, \"linecolor\": \"white\", \"showbackground\": true, \"ticks\": \"\", \"zerolinecolor\": \"white\"}, \"yaxis\": {\"backgroundcolor\": \"#E5ECF6\", \"gridcolor\": \"white\", \"gridwidth\": 2, \"linecolor\": \"white\", \"showbackground\": true, \"ticks\": \"\", \"zerolinecolor\": \"white\"}, \"zaxis\": {\"backgroundcolor\": \"#E5ECF6\", \"gridcolor\": \"white\", \"gridwidth\": 2, \"linecolor\": \"white\", \"showbackground\": true, \"ticks\": \"\", \"zerolinecolor\": \"white\"}}, \"shapedefaults\": {\"line\": {\"color\": \"#2a3f5f\"}}, \"ternary\": {\"aaxis\": {\"gridcolor\": \"white\", \"linecolor\": \"white\", \"ticks\": \"\"}, \"baxis\": {\"gridcolor\": \"white\", \"linecolor\": \"white\", \"ticks\": \"\"}, \"bgcolor\": \"#E5ECF6\", \"caxis\": {\"gridcolor\": \"white\", \"linecolor\": \"white\", \"ticks\": \"\"}}, \"title\": {\"x\": 0.05}, \"xaxis\": {\"automargin\": true, \"gridcolor\": \"white\", \"linecolor\": \"white\", \"ticks\": \"\", \"title\": {\"standoff\": 15}, \"zerolinecolor\": \"white\", \"zerolinewidth\": 2}, \"yaxis\": {\"automargin\": true, \"gridcolor\": \"white\", \"linecolor\": \"white\", \"ticks\": \"\", \"title\": {\"standoff\": 15}, \"zerolinecolor\": \"white\", \"zerolinewidth\": 2}}}, \"title\": {\"text\": \"States with largest installed solar capacity\"}},                        {\"responsive\": true}                    ).then(function(){\n",
       "                            \n",
       "var gd = document.getElementById('a5825f73-661a-406e-8de1-c0e2a65dca4f');\n",
       "var x = new MutationObserver(function (mutations, observer) {{\n",
       "        var display = window.getComputedStyle(gd).display;\n",
       "        if (!display || display === 'none') {{\n",
       "            console.log([gd, 'removed!']);\n",
       "            Plotly.purge(gd);\n",
       "            observer.disconnect();\n",
       "        }}\n",
       "}});\n",
       "\n",
       "// Listen for the removal of the full notebook cells\n",
       "var notebookContainer = gd.closest('#notebook-container');\n",
       "if (notebookContainer) {{\n",
       "    x.observe(notebookContainer, {childList: true});\n",
       "}}\n",
       "\n",
       "// Listen for the clearing of the current output cell\n",
       "var outputEl = gd.closest('.output');\n",
       "if (outputEl) {{\n",
       "    x.observe(outputEl, {childList: true});\n",
       "}}\n",
       "\n",
       "                        })                };                });            </script>        </div>"
      ]
     },
     "metadata": {},
     "output_type": "display_data"
    },
    {
     "data": {
      "text/plain": [
       "<Figure size 432x288 with 0 Axes>"
      ]
     },
     "metadata": {},
     "output_type": "display_data"
    }
   ],
   "source": [
    "fig = px.choropleth(\n",
    "    locations=states,\n",
    "    locationmode=\"USA-states\", \n",
    "    scope=\"usa\")\n",
    "fig.update_layout(title_text = 'States with largest installed solar capacity')\n",
    "fname = os.path.join(path, 'state_map.png')\n",
    "#plt.savefig(fname, dpi=300)\n",
    "fig.show()"
   ]
  },
  {
   "cell_type": "markdown",
   "metadata": {},
   "source": [
    "## Twitter data"
   ]
  },
  {
   "cell_type": "markdown",
   "metadata": {},
   "source": [
    "### Collecting data"
   ]
  },
  {
   "cell_type": "markdown",
   "metadata": {},
   "source": [
    "Let's collect Twitter data for each of the states we identified previously: California, North Carolina, Arizona, Nevada, New Jersey, Massachusetts, Texas, Utah"
   ]
  },
  {
   "cell_type": "code",
   "execution_count": 24,
   "metadata": {},
   "outputs": [],
   "source": [
    "query = 'solar'\n",
    "number = 400\n",
    "\n",
    "ca_search_results = tweepy.Cursor(api.search, q=query, lang='en', geocode = locations['CA']).items(number) \n",
    "nc_search_results = tweepy.Cursor(api.search, q=query, lang='en', geocode = locations['NC']).items(number) \n",
    "az_search_results = tweepy.Cursor(api.search, q=query, lang='en', geocode = locations['AZ']).items(number) \n",
    "nv_search_results = tweepy.Cursor(api.search, q=query, lang='en', geocode = locations['NV']).items(number) \n",
    "nj_search_results = tweepy.Cursor(api.search, q=query, lang='en', geocode = locations['NJ']).items(number) \n",
    "ma_search_results = tweepy.Cursor(api.search, q=query, lang='en', geocode = locations['MA']).items(number) \n",
    "tx_search_results = tweepy.Cursor(api.search, q=query, lang='en', geocode = locations['TX']).items(number) \n",
    "ut_search_results = tweepy.Cursor(api.search, q=query, lang='en', geocode = locations['UT']).items(number) \n"
   ]
  },
  {
   "cell_type": "code",
   "execution_count": 25,
   "metadata": {},
   "outputs": [],
   "source": [
    "@retry(wait_exponential_multiplier=1000, wait_exponential_max=10000)\n",
    "def tweet_list(search_iterator, tweet_list, n_retweeted):\n",
    "    '''Function calls Twitter API and returns tweets and retweet count for each tweet\n",
    "    input:  tweepy.Cursor iterator\n",
    "    output: list of tweets, list of retweet count'''\n",
    "    try:\n",
    "        for x in search_iterator:\n",
    "            tweet_list.append(x.text)\n",
    "            n_retweeted.append(x.retweet_count)\n",
    "    except tweepy.error.TweepError:\n",
    "        raise\n",
    "    print(len(tweet_list)) "
   ]
  },
  {
   "cell_type": "code",
   "execution_count": 26,
   "metadata": {},
   "outputs": [],
   "source": [
    "ca_tweets, ca_retweeted = [], []\n",
    "nc_tweets, nc_retweeted = [], []\n",
    "az_tweets, az_retweeted = [], []\n",
    "nv_tweets, nv_retweeted = [], []\n",
    "nj_tweets, nj_retweeted = [], []\n",
    "ma_tweets, ma_retweeted = [], []\n",
    "tx_tweets, tx_retweeted = [], []\n",
    "ut_tweets, ut_retweeted = [], []"
   ]
  },
  {
   "cell_type": "markdown",
   "metadata": {},
   "source": [
    "Let's retrieve tweets about topic \"solar\" for different states:"
   ]
  },
  {
   "cell_type": "code",
   "execution_count": 27,
   "metadata": {},
   "outputs": [
    {
     "name": "stdout",
     "output_type": "stream",
     "text": [
      "400\n",
      "400\n",
      "400\n",
      "400\n",
      "400\n",
      "400\n",
      "400\n",
      "400\n"
     ]
    }
   ],
   "source": [
    "tweet_list(ca_search_results, ca_tweets, ca_retweeted)\n",
    "tweet_list(nc_search_results, nc_tweets, nc_retweeted)\n",
    "tweet_list(az_search_results, az_tweets, az_retweeted)\n",
    "tweet_list(nv_search_results, nv_tweets, nv_retweeted)\n",
    "tweet_list(nj_search_results, nj_tweets, nj_retweeted)\n",
    "tweet_list(ma_search_results, ma_tweets, ma_retweeted)\n",
    "tweet_list(tx_search_results, tx_tweets, tx_retweeted)\n",
    "tweet_list(ut_search_results, ut_tweets, ut_retweeted)"
   ]
  },
  {
   "cell_type": "markdown",
   "metadata": {},
   "source": [
    "There are duplicates in Twitter data, we will need to remove them."
   ]
  },
  {
   "cell_type": "code",
   "execution_count": 29,
   "metadata": {},
   "outputs": [],
   "source": [
    "filtered_tweets_ca, filtered_retweets_ca = [], []\n",
    "filtered_tweets_nc, filtered_retweets_nc = [], []\n",
    "filtered_tweets_az, filtered_retweets_az = [], []\n",
    "filtered_tweets_nv, filtered_retweets_nv = [], []\n",
    "filtered_tweets_nj, filtered_retweets_nj = [], []\n",
    "filtered_tweets_ma, filtered_retweets_ma = [], []\n",
    "filtered_tweets_tx, filtered_retweets_tx = [], []\n",
    "filtered_tweets_ut, filtered_retweets_ut = [], []\n",
    "\n",
    "def filtered_tweets(initial_tweet_list, initial_retweet_list, filtered_tweet_list, filtered_retweet_list):\n",
    "    for i in initial_tweet_list:\n",
    "        # if we don't have this tweet stored yet\n",
    "        if not i in filtered_tweet_list:\n",
    "            # then add it to the new list\n",
    "            filtered_tweet_list.append(i)\n",
    "            # get its index\n",
    "            y = initial_tweet_list.index(i)\n",
    "            # and pass index to get the respective number of retweets\n",
    "            ii = initial_retweet_list[y]\n",
    "            filtered_retweet_list.append(ii)\n",
    "\n",
    "    print('tweets: ', len(filtered_tweet_list), '; retweets: ', len(filtered_retweet_list))"
   ]
  },
  {
   "cell_type": "markdown",
   "metadata": {},
   "source": [
    "Once we remove duplicate tweets there is less tweets left for each of selected states:"
   ]
  },
  {
   "cell_type": "code",
   "execution_count": 30,
   "metadata": {},
   "outputs": [
    {
     "name": "stdout",
     "output_type": "stream",
     "text": [
      "tweets:  236 ; retweets:  236\n",
      "tweets:  292 ; retweets:  292\n",
      "tweets:  234 ; retweets:  234\n",
      "tweets:  210 ; retweets:  210\n",
      "tweets:  298 ; retweets:  298\n",
      "tweets:  276 ; retweets:  276\n",
      "tweets:  297 ; retweets:  297\n",
      "tweets:  366 ; retweets:  366\n"
     ]
    }
   ],
   "source": [
    "filtered_tweets(ca_tweets, ca_retweeted, filtered_tweets_ca, filtered_retweets_ca)\n",
    "filtered_tweets(nc_tweets, nc_retweeted, filtered_tweets_nc, filtered_retweets_nc)\n",
    "filtered_tweets(az_tweets, az_retweeted, filtered_tweets_az, filtered_retweets_az)\n",
    "filtered_tweets(nv_tweets, nv_retweeted, filtered_tweets_nv, filtered_retweets_nv)\n",
    "filtered_tweets(nj_tweets, nj_retweeted, filtered_tweets_nj, filtered_retweets_nj)\n",
    "filtered_tweets(ma_tweets, ma_retweeted, filtered_tweets_ma, filtered_retweets_ma)\n",
    "filtered_tweets(tx_tweets, tx_retweeted, filtered_tweets_tx, filtered_retweets_tx)\n",
    "filtered_tweets(ut_tweets, ut_retweeted, filtered_tweets_ut, filtered_retweets_ut)"
   ]
  },
  {
   "cell_type": "markdown",
   "metadata": {},
   "source": [
    "### Cleaning up Twitter data"
   ]
  },
  {
   "cell_type": "markdown",
   "metadata": {},
   "source": [
    "To simplify next steps, let's create dataframes "
   ]
  },
  {
   "cell_type": "code",
   "execution_count": 95,
   "metadata": {},
   "outputs": [
    {
     "data": {
      "text/html": [
       "<div>\n",
       "<style scoped>\n",
       "    .dataframe tbody tr th:only-of-type {\n",
       "        vertical-align: middle;\n",
       "    }\n",
       "\n",
       "    .dataframe tbody tr th {\n",
       "        vertical-align: top;\n",
       "    }\n",
       "\n",
       "    .dataframe thead th {\n",
       "        text-align: right;\n",
       "    }\n",
       "</style>\n",
       "<table border=\"1\" class=\"dataframe\">\n",
       "  <thead>\n",
       "    <tr style=\"text-align: right;\">\n",
       "      <th></th>\n",
       "      <th>Tweet</th>\n",
       "      <th>Retweet Count</th>\n",
       "    </tr>\n",
       "  </thead>\n",
       "  <tbody>\n",
       "    <tr>\n",
       "      <th>0</th>\n",
       "      <td>China’s Longi Green Energy Technology to Join ...</td>\n",
       "      <td>0</td>\n",
       "    </tr>\n",
       "    <tr>\n",
       "      <th>1</th>\n",
       "      <td>DW4988\\n🕒 18h | Current weather\\n\\nWind: 19.0 ...</td>\n",
       "      <td>0</td>\n",
       "    </tr>\n",
       "    <tr>\n",
       "      <th>2</th>\n",
       "      <td>DW4988\\n🕒 17h | Current weather\\n\\nWind: 6.0 m...</td>\n",
       "      <td>0</td>\n",
       "    </tr>\n",
       "    <tr>\n",
       "      <th>3</th>\n",
       "      <td>love my @Tesla solar system and #Powerwalls. M...</td>\n",
       "      <td>0</td>\n",
       "    </tr>\n",
       "    <tr>\n",
       "      <th>4</th>\n",
       "      <td>NUDES plans an undulating 'solar mountain' for...</td>\n",
       "      <td>0</td>\n",
       "    </tr>\n",
       "    <tr>\n",
       "      <th>5</th>\n",
       "      <td>@mjro1105 Solar, wind and other sustainable so...</td>\n",
       "      <td>0</td>\n",
       "    </tr>\n",
       "    <tr>\n",
       "      <th>6</th>\n",
       "      <td>@SupraMiqote tax rebate from getting solar ins...</td>\n",
       "      <td>0</td>\n",
       "    </tr>\n",
       "    <tr>\n",
       "      <th>7</th>\n",
       "      <td>DW4988\\n🕒 16h | Current weather\\n\\nWind: 8.9 m...</td>\n",
       "      <td>0</td>\n",
       "    </tr>\n",
       "    <tr>\n",
       "      <th>8</th>\n",
       "      <td>RT @CityOfLasVegas: A solar house built by @un...</td>\n",
       "      <td>6</td>\n",
       "    </tr>\n",
       "    <tr>\n",
       "      <th>9</th>\n",
       "      <td>@MOS_8502 A colleague of mine just set up his ...</td>\n",
       "      <td>0</td>\n",
       "    </tr>\n",
       "    <tr>\n",
       "      <th>10</th>\n",
       "      <td>DW4988\\n🕒 15h | Current weather\\n\\nWind: 8.1 m...</td>\n",
       "      <td>0</td>\n",
       "    </tr>\n",
       "    <tr>\n",
       "      <th>11</th>\n",
       "      <td>RT @lilacloops: One pair of my solar planet da...</td>\n",
       "      <td>14</td>\n",
       "    </tr>\n",
       "    <tr>\n",
       "      <th>12</th>\n",
       "      <td>RT @tonyver45: @MingGao26 @Solar_Coast @BlueDo...</td>\n",
       "      <td>3</td>\n",
       "    </tr>\n",
       "    <tr>\n",
       "      <th>13</th>\n",
       "      <td>Nelnet Renewable Energy Partners with Three Co...</td>\n",
       "      <td>0</td>\n",
       "    </tr>\n",
       "    <tr>\n",
       "      <th>14</th>\n",
       "      <td>What do you do when you buy a new sleeping bag...</td>\n",
       "      <td>0</td>\n",
       "    </tr>\n",
       "    <tr>\n",
       "      <th>15</th>\n",
       "      <td>Energy producers continue to thwart #solar exp...</td>\n",
       "      <td>0</td>\n",
       "    </tr>\n",
       "    <tr>\n",
       "      <th>16</th>\n",
       "      <td>RT @UpliftFoundNV: You are cordially invited t...</td>\n",
       "      <td>1</td>\n",
       "    </tr>\n",
       "    <tr>\n",
       "      <th>17</th>\n",
       "      <td>DW4988\\n🕒 14h | Current weather\\n\\nWind: 8.9 m...</td>\n",
       "      <td>0</td>\n",
       "    </tr>\n",
       "    <tr>\n",
       "      <th>18</th>\n",
       "      <td>Fossil fuels get too many government handouts....</td>\n",
       "      <td>0</td>\n",
       "    </tr>\n",
       "    <tr>\n",
       "      <th>19</th>\n",
       "      <td>Got tix &amp;amp; getting a bottle... Going to cel...</td>\n",
       "      <td>1</td>\n",
       "    </tr>\n",
       "  </tbody>\n",
       "</table>\n",
       "</div>"
      ],
      "text/plain": [
       "                                                Tweet  Retweet Count\n",
       "0   China’s Longi Green Energy Technology to Join ...              0\n",
       "1   DW4988\\n🕒 18h | Current weather\\n\\nWind: 19.0 ...              0\n",
       "2   DW4988\\n🕒 17h | Current weather\\n\\nWind: 6.0 m...              0\n",
       "3   love my @Tesla solar system and #Powerwalls. M...              0\n",
       "4   NUDES plans an undulating 'solar mountain' for...              0\n",
       "5   @mjro1105 Solar, wind and other sustainable so...              0\n",
       "6   @SupraMiqote tax rebate from getting solar ins...              0\n",
       "7   DW4988\\n🕒 16h | Current weather\\n\\nWind: 8.9 m...              0\n",
       "8   RT @CityOfLasVegas: A solar house built by @un...              6\n",
       "9   @MOS_8502 A colleague of mine just set up his ...              0\n",
       "10  DW4988\\n🕒 15h | Current weather\\n\\nWind: 8.1 m...              0\n",
       "11  RT @lilacloops: One pair of my solar planet da...             14\n",
       "12  RT @tonyver45: @MingGao26 @Solar_Coast @BlueDo...              3\n",
       "13  Nelnet Renewable Energy Partners with Three Co...              0\n",
       "14  What do you do when you buy a new sleeping bag...              0\n",
       "15  Energy producers continue to thwart #solar exp...              0\n",
       "16  RT @UpliftFoundNV: You are cordially invited t...              1\n",
       "17  DW4988\\n🕒 14h | Current weather\\n\\nWind: 8.9 m...              0\n",
       "18  Fossil fuels get too many government handouts....              0\n",
       "19  Got tix &amp; getting a bottle... Going to cel...              1"
      ]
     },
     "execution_count": 95,
     "metadata": {},
     "output_type": "execute_result"
    }
   ],
   "source": [
    "ca_df = pd.DataFrame({'Tweet': filtered_tweets_ca, 'Retweet Count': filtered_retweets_ca})\n",
    "nc_df = pd.DataFrame({'Tweet': filtered_tweets_nc, 'Retweet Count': filtered_retweets_nc})\n",
    "az_df = pd.DataFrame({'Tweet': filtered_tweets_az, 'Retweet Count': filtered_retweets_az})\n",
    "nv_df = pd.DataFrame({'Tweet': filtered_tweets_nv, 'Retweet Count': filtered_retweets_nv})\n",
    "nj_df = pd.DataFrame({'Tweet': filtered_tweets_nj, 'Retweet Count': filtered_retweets_nj})\n",
    "ma_df = pd.DataFrame({'Tweet': filtered_tweets_ma, 'Retweet Count': filtered_retweets_ma})\n",
    "tx_df = pd.DataFrame({'Tweet': filtered_tweets_tx, 'Retweet Count': filtered_retweets_tx})\n",
    "ut_df = pd.DataFrame({'Tweet': filtered_tweets_ut, 'Retweet Count': filtered_retweets_ut})\n",
    "\n",
    "ut_df.head(20)"
   ]
  },
  {
   "cell_type": "markdown",
   "metadata": {},
   "source": [
    "Now we have 8 dataframes, each of them contains 250 - 350 rows, and columns with tweet and number of retweets.\n",
    "Tweets contain any text related to solar topic."
   ]
  },
  {
   "cell_type": "markdown",
   "metadata": {},
   "source": [
    "As we can see, tweets contain URL's, mentions, RT text. For sentiment analysis we need clean tweets up.\n",
    "\n",
    "We will use python module re to remove mentions with start with @ and URLs which we can identify for the first http:// or https://\n",
    "So we remove @ and all concequent characters till the next space.\n",
    "Similarly, we remove http:// or https:// and all consequent characters till the next space.\n",
    "We also remove 'RT ' indicating retweet."
   ]
  },
  {
   "cell_type": "code",
   "execution_count": 96,
   "metadata": {},
   "outputs": [],
   "source": [
    "def clean_up_tweets(txt):\n",
    "    # Remove mentions\n",
    "    txt = re.sub('\\S*@\\S*\\s?', '', txt)\n",
    "    # Remove urls\n",
    "    txt = re.sub('http[s]?://(?:[a-zA-Z]|[0-9]|[$-_@.&+#]|[!*\\(\\),]|'\\\n",
    "                       '(?:%[0-9a-fA-F][0-9a-fA-F]))+', '', txt)\n",
    "    # Remove retweets:\n",
    "    txt = re.sub(r'RT ', '', txt)\n",
    "#     # Remove special chars\n",
    "#     txt = re.sub(r'&amp;', '', txt)\n",
    "    return txt  \n"
   ]
  },
  {
   "cell_type": "code",
   "execution_count": 97,
   "metadata": {},
   "outputs": [
    {
     "data": {
      "text/html": [
       "<div>\n",
       "<style scoped>\n",
       "    .dataframe tbody tr th:only-of-type {\n",
       "        vertical-align: middle;\n",
       "    }\n",
       "\n",
       "    .dataframe tbody tr th {\n",
       "        vertical-align: top;\n",
       "    }\n",
       "\n",
       "    .dataframe thead th {\n",
       "        text-align: right;\n",
       "    }\n",
       "</style>\n",
       "<table border=\"1\" class=\"dataframe\">\n",
       "  <thead>\n",
       "    <tr style=\"text-align: right;\">\n",
       "      <th></th>\n",
       "      <th>Tweet</th>\n",
       "      <th>Retweet Count</th>\n",
       "    </tr>\n",
       "  </thead>\n",
       "  <tbody>\n",
       "    <tr>\n",
       "      <th>0</th>\n",
       "      <td>Size of raindrops can help identify potentiall...</td>\n",
       "      <td>0</td>\n",
       "    </tr>\n",
       "    <tr>\n",
       "      <th>1</th>\n",
       "      <td>New study ties solar variability to the onset ...</td>\n",
       "      <td>0</td>\n",
       "    </tr>\n",
       "    <tr>\n",
       "      <th>2</th>\n",
       "      <td>It's just an erector set in the middle of a ar...</td>\n",
       "      <td>0</td>\n",
       "    </tr>\n",
       "    <tr>\n",
       "      <th>3</th>\n",
       "      <td>15 days since Tesla recognized they also have ...</td>\n",
       "      <td>1</td>\n",
       "    </tr>\n",
       "    <tr>\n",
       "      <th>4</th>\n",
       "      <td>#PPOD: This image is extraordinary. It shows a...</td>\n",
       "      <td>88</td>\n",
       "    </tr>\n",
       "    <tr>\n",
       "      <th>5</th>\n",
       "      <td>Tesla Giga Nevada Adds More Solar Panels in Co...</td>\n",
       "      <td>9</td>\n",
       "    </tr>\n",
       "    <tr>\n",
       "      <th>6</th>\n",
       "      <td>Stream Wheein's concept film video moos ❤️ \\n\\...</td>\n",
       "      <td>2</td>\n",
       "    </tr>\n",
       "    <tr>\n",
       "      <th>7</th>\n",
       "      <td>#Minnesota’s community #solar program leads th...</td>\n",
       "      <td>3</td>\n",
       "    </tr>\n",
       "    <tr>\n",
       "      <th>8</th>\n",
       "      <td>The “Magical” of using Tesla Solar System with...</td>\n",
       "      <td>28</td>\n",
       "    </tr>\n",
       "    <tr>\n",
       "      <th>9</th>\n",
       "      <td>China's green hydrogen gigafactories are comin...</td>\n",
       "      <td>5</td>\n",
       "    </tr>\n",
       "    <tr>\n",
       "      <th>10</th>\n",
       "      <td>I hereby declare today Renewable Blackout Day,...</td>\n",
       "      <td>405</td>\n",
       "    </tr>\n",
       "    <tr>\n",
       "      <th>11</th>\n",
       "      <td>#FunFactFriday: The Pacific Wheel, the world's...</td>\n",
       "      <td>4</td>\n",
       "    </tr>\n",
       "    <tr>\n",
       "      <th>12</th>\n",
       "      <td>Buy box in terms of property specific... no so...</td>\n",
       "      <td>0</td>\n",
       "    </tr>\n",
       "    <tr>\n",
       "      <th>13</th>\n",
       "      <td>There is a lot of conflicting \"information\" ab...</td>\n",
       "      <td>6744</td>\n",
       "    </tr>\n",
       "    <tr>\n",
       "      <th>14</th>\n",
       "      <td>SunPower’s own shares with Bloomberg why creat...</td>\n",
       "      <td>4</td>\n",
       "    </tr>\n",
       "    <tr>\n",
       "      <th>15</th>\n",
       "      <td>When it comes to clean energy, 2021 is off to ...</td>\n",
       "      <td>5</td>\n",
       "    </tr>\n",
       "    <tr>\n",
       "      <th>16</th>\n",
       "      <td>15 days since Tesla recognized they also have ...</td>\n",
       "      <td>1</td>\n",
       "    </tr>\n",
       "    <tr>\n",
       "      <th>17</th>\n",
       "      <td>so what you're saying is you haven't done the ...</td>\n",
       "      <td>0</td>\n",
       "    </tr>\n",
       "    <tr>\n",
       "      <th>18</th>\n",
       "      <td>China’s Longi Green Energy Technology to Join ...</td>\n",
       "      <td>0</td>\n",
       "    </tr>\n",
       "    <tr>\n",
       "      <th>19</th>\n",
       "      <td>Stream Wheein's concept film video moos ❤️ \\n\\...</td>\n",
       "      <td>2</td>\n",
       "    </tr>\n",
       "    <tr>\n",
       "      <th>20</th>\n",
       "      <td>Here's the latest chart on what happened in TX...</td>\n",
       "      <td>141</td>\n",
       "    </tr>\n",
       "    <tr>\n",
       "      <th>21</th>\n",
       "      <td>Inside #CleanEnergy: What Happens When #Solar ...</td>\n",
       "      <td>5</td>\n",
       "    </tr>\n",
       "    <tr>\n",
       "      <th>22</th>\n",
       "      <td>We sell the most solar.</td>\n",
       "      <td>0</td>\n",
       "    </tr>\n",
       "    <tr>\n",
       "      <th>23</th>\n",
       "      <td>New Halal Report Card for Canadian Solar $CSIQ...</td>\n",
       "      <td>0</td>\n",
       "    </tr>\n",
       "    <tr>\n",
       "      <th>24</th>\n",
       "      <td>Voyager 1's Pale Blue Dot | NASA Solar System ...</td>\n",
       "      <td>0</td>\n",
       "    </tr>\n",
       "    <tr>\n",
       "      <th>25</th>\n",
       "      <td>There goes #Texas messing with Texas.\\n\\nBunch...</td>\n",
       "      <td>0</td>\n",
       "    </tr>\n",
       "    <tr>\n",
       "      <th>26</th>\n",
       "      <td>Right now TX's plans include\\n* 0 new nuclear ...</td>\n",
       "      <td>559</td>\n",
       "    </tr>\n",
       "    <tr>\n",
       "      <th>27</th>\n",
       "      <td>TX is having an electricity crisis during bad ...</td>\n",
       "      <td>452</td>\n",
       "    </tr>\n",
       "    <tr>\n",
       "      <th>28</th>\n",
       "      <td>Experiencing low production from your #solarpa...</td>\n",
       "      <td>0</td>\n",
       "    </tr>\n",
       "    <tr>\n",
       "      <th>29</th>\n",
       "      <td>Sustainable with solar roof! Fisker Ocean EV !...</td>\n",
       "      <td>71</td>\n",
       "    </tr>\n",
       "  </tbody>\n",
       "</table>\n",
       "</div>"
      ],
      "text/plain": [
       "                                                Tweet  Retweet Count\n",
       "0   Size of raindrops can help identify potentiall...              0\n",
       "1   New study ties solar variability to the onset ...              0\n",
       "2   It's just an erector set in the middle of a ar...              0\n",
       "3   15 days since Tesla recognized they also have ...              1\n",
       "4   #PPOD: This image is extraordinary. It shows a...             88\n",
       "5   Tesla Giga Nevada Adds More Solar Panels in Co...              9\n",
       "6   Stream Wheein's concept film video moos ❤️ \\n\\...              2\n",
       "7   #Minnesota’s community #solar program leads th...              3\n",
       "8   The “Magical” of using Tesla Solar System with...             28\n",
       "9   China's green hydrogen gigafactories are comin...              5\n",
       "10  I hereby declare today Renewable Blackout Day,...            405\n",
       "11  #FunFactFriday: The Pacific Wheel, the world's...              4\n",
       "12  Buy box in terms of property specific... no so...              0\n",
       "13  There is a lot of conflicting \"information\" ab...           6744\n",
       "14  SunPower’s own shares with Bloomberg why creat...              4\n",
       "15  When it comes to clean energy, 2021 is off to ...              5\n",
       "16  15 days since Tesla recognized they also have ...              1\n",
       "17  so what you're saying is you haven't done the ...              0\n",
       "18  China’s Longi Green Energy Technology to Join ...              0\n",
       "19  Stream Wheein's concept film video moos ❤️ \\n\\...              2\n",
       "20  Here's the latest chart on what happened in TX...            141\n",
       "21  Inside #CleanEnergy: What Happens When #Solar ...              5\n",
       "22                           We sell the most solar.               0\n",
       "23  New Halal Report Card for Canadian Solar $CSIQ...              0\n",
       "24  Voyager 1's Pale Blue Dot | NASA Solar System ...              0\n",
       "25  There goes #Texas messing with Texas.\\n\\nBunch...              0\n",
       "26  Right now TX's plans include\\n* 0 new nuclear ...            559\n",
       "27  TX is having an electricity crisis during bad ...            452\n",
       "28  Experiencing low production from your #solarpa...              0\n",
       "29  Sustainable with solar roof! Fisker Ocean EV !...             71"
      ]
     },
     "execution_count": 97,
     "metadata": {},
     "output_type": "execute_result"
    }
   ],
   "source": [
    "ca_df['Tweet'] = ca_df['Tweet'].apply(clean_up_tweets)\n",
    "nc_df['Tweet'] = nc_df['Tweet'].apply(clean_up_tweets)\n",
    "az_df['Tweet'] = az_df['Tweet'].apply(clean_up_tweets)\n",
    "nv_df['Tweet'] = nv_df['Tweet'].apply(clean_up_tweets)\n",
    "nj_df['Tweet'] = nj_df['Tweet'].apply(clean_up_tweets)\n",
    "ma_df['Tweet'] = ma_df['Tweet'].apply(clean_up_tweets)\n",
    "tx_df['Tweet'] = tx_df['Tweet'].apply(clean_up_tweets)\n",
    "ut_df['Tweet'] = ut_df['Tweet'].apply(clean_up_tweets)\n",
    "\n",
    "ca_df.head(30)"
   ]
  },
  {
   "cell_type": "markdown",
   "metadata": {},
   "source": [
    "Now as we completed cleaning steps, let's take a look at some of tweets:"
   ]
  },
  {
   "cell_type": "code",
   "execution_count": 98,
   "metadata": {},
   "outputs": [
    {
     "name": "stdout",
     "output_type": "stream",
     "text": [
      "['Size of raindrops can help identify potentially habitable planets outside our solar system  via ', 'New study ties solar variability to the onset of decadal La Nina events  via ', \"It's just an erector set in the middle of a area full of business parks. The first few weeks o… \", '15 days since Tesla recognized they also have a solar division.\\n\\n660 number of days since Tesla (Solar) admitted they ha…']\n"
     ]
    }
   ],
   "source": [
    "print(ca_df['Tweet'][:4].tolist())"
   ]
  },
  {
   "cell_type": "markdown",
   "metadata": {},
   "source": [
    "We can see that our Twitter data now contains mostly meaningful text.\n",
    "\n",
    "Also we can notice that after clean up we have columns with no values, we will drop them"
   ]
  },
  {
   "cell_type": "code",
   "execution_count": 99,
   "metadata": {},
   "outputs": [
    {
     "data": {
      "text/html": [
       "<div>\n",
       "<style scoped>\n",
       "    .dataframe tbody tr th:only-of-type {\n",
       "        vertical-align: middle;\n",
       "    }\n",
       "\n",
       "    .dataframe tbody tr th {\n",
       "        vertical-align: top;\n",
       "    }\n",
       "\n",
       "    .dataframe thead th {\n",
       "        text-align: right;\n",
       "    }\n",
       "</style>\n",
       "<table border=\"1\" class=\"dataframe\">\n",
       "  <thead>\n",
       "    <tr style=\"text-align: right;\">\n",
       "      <th></th>\n",
       "      <th>Tweet</th>\n",
       "      <th>Retweet Count</th>\n",
       "    </tr>\n",
       "  </thead>\n",
       "  <tbody>\n",
       "    <tr>\n",
       "      <th>0</th>\n",
       "      <td>Joe Biden says that his policies to eliminate ...</td>\n",
       "      <td>30</td>\n",
       "    </tr>\n",
       "    <tr>\n",
       "      <th>1</th>\n",
       "      <td>15 days since Tesla recognized they also have ...</td>\n",
       "      <td>1</td>\n",
       "    </tr>\n",
       "    <tr>\n",
       "      <th>2</th>\n",
       "      <td>Tesla Giga Nevada Adds More Solar Panels in Co...</td>\n",
       "      <td>9</td>\n",
       "    </tr>\n",
       "    <tr>\n",
       "      <th>3</th>\n",
       "      <td>Stream Wheein's concept film video moos ❤️ \\n\\...</td>\n",
       "      <td>2</td>\n",
       "    </tr>\n",
       "    <tr>\n",
       "      <th>4</th>\n",
       "      <td>#Minnesota’s community #solar program leads th...</td>\n",
       "      <td>3</td>\n",
       "    </tr>\n",
       "    <tr>\n",
       "      <th>5</th>\n",
       "      <td>The “Magical” of using Tesla Solar System with...</td>\n",
       "      <td>28</td>\n",
       "    </tr>\n",
       "    <tr>\n",
       "      <th>6</th>\n",
       "      <td>HUGE: knocks out some really big ones today, s...</td>\n",
       "      <td>2</td>\n",
       "    </tr>\n",
       "    <tr>\n",
       "      <th>7</th>\n",
       "      <td>I hereby declare today Renewable Blackout Day,...</td>\n",
       "      <td>405</td>\n",
       "    </tr>\n",
       "    <tr>\n",
       "      <th>8</th>\n",
       "      <td>#FunFactFriday: The Pacific Wheel, the world's...</td>\n",
       "      <td>4</td>\n",
       "    </tr>\n",
       "    <tr>\n",
       "      <th>9</th>\n",
       "      <td>Buy box in terms of property specific... no so...</td>\n",
       "      <td>0</td>\n",
       "    </tr>\n",
       "    <tr>\n",
       "      <th>10</th>\n",
       "      <td>There is a lot of conflicting \"information\" ab...</td>\n",
       "      <td>6744</td>\n",
       "    </tr>\n",
       "    <tr>\n",
       "      <th>11</th>\n",
       "      <td>15 days since Tesla recognized they also have ...</td>\n",
       "      <td>1</td>\n",
       "    </tr>\n",
       "    <tr>\n",
       "      <th>12</th>\n",
       "      <td>so what you're saying is you haven't done the ...</td>\n",
       "      <td>0</td>\n",
       "    </tr>\n",
       "    <tr>\n",
       "      <th>13</th>\n",
       "      <td>China’s Longi Green Energy Technology to Join ...</td>\n",
       "      <td>0</td>\n",
       "    </tr>\n",
       "    <tr>\n",
       "      <th>14</th>\n",
       "      <td>They are redoing the roads and putting solar p...</td>\n",
       "      <td>0</td>\n",
       "    </tr>\n",
       "    <tr>\n",
       "      <th>15</th>\n",
       "      <td>Stream Wheein's concept film video moos ❤️ \\n\\...</td>\n",
       "      <td>2</td>\n",
       "    </tr>\n",
       "    <tr>\n",
       "      <th>16</th>\n",
       "      <td>NE Tucson\\n🕒 17h | Current weather\\n\\nWind: 2....</td>\n",
       "      <td>0</td>\n",
       "    </tr>\n",
       "    <tr>\n",
       "      <th>17</th>\n",
       "      <td>Here's the latest chart on what happened in TX...</td>\n",
       "      <td>141</td>\n",
       "    </tr>\n",
       "    <tr>\n",
       "      <th>18</th>\n",
       "      <td>Inside #CleanEnergy: What Happens When #Solar ...</td>\n",
       "      <td>5</td>\n",
       "    </tr>\n",
       "    <tr>\n",
       "      <th>19</th>\n",
       "      <td>Huge news!! just signed Roxy's Law, Community ...</td>\n",
       "      <td>4</td>\n",
       "    </tr>\n",
       "  </tbody>\n",
       "</table>\n",
       "</div>"
      ],
      "text/plain": [
       "                                                Tweet  Retweet Count\n",
       "0   Joe Biden says that his policies to eliminate ...             30\n",
       "1   15 days since Tesla recognized they also have ...              1\n",
       "2   Tesla Giga Nevada Adds More Solar Panels in Co...              9\n",
       "3   Stream Wheein's concept film video moos ❤️ \\n\\...              2\n",
       "4   #Minnesota’s community #solar program leads th...              3\n",
       "5   The “Magical” of using Tesla Solar System with...             28\n",
       "6   HUGE: knocks out some really big ones today, s...              2\n",
       "7   I hereby declare today Renewable Blackout Day,...            405\n",
       "8   #FunFactFriday: The Pacific Wheel, the world's...              4\n",
       "9   Buy box in terms of property specific... no so...              0\n",
       "10  There is a lot of conflicting \"information\" ab...           6744\n",
       "11  15 days since Tesla recognized they also have ...              1\n",
       "12  so what you're saying is you haven't done the ...              0\n",
       "13  China’s Longi Green Energy Technology to Join ...              0\n",
       "14  They are redoing the roads and putting solar p...              0\n",
       "15  Stream Wheein's concept film video moos ❤️ \\n\\...              2\n",
       "16  NE Tucson\\n🕒 17h | Current weather\\n\\nWind: 2....              0\n",
       "17  Here's the latest chart on what happened in TX...            141\n",
       "18  Inside #CleanEnergy: What Happens When #Solar ...              5\n",
       "19  Huge news!! just signed Roxy's Law, Community ...              4"
      ]
     },
     "execution_count": 99,
     "metadata": {},
     "output_type": "execute_result"
    }
   ],
   "source": [
    "ca_df = ca_df.drop(ca_df[ca_df['Tweet'] == ''].index)\n",
    "nc_df = nc_df.drop(nc_df[nc_df['Tweet'] == ''].index)\n",
    "az_df = az_df.drop(az_df[az_df['Tweet'] == ''].index)\n",
    "nv_df = nv_df.drop(nv_df[nv_df['Tweet'] == ''].index)\n",
    "nj_df = nj_df.drop(nj_df[nj_df['Tweet'] == ''].index)\n",
    "ma_df = ma_df.drop(ma_df[ma_df['Tweet'] == ''].index)\n",
    "tx_df = tx_df.drop(tx_df[tx_df['Tweet'] == ''].index)\n",
    "ut_df = ut_df.drop(ut_df[ut_df['Tweet'] == ''].index)\n",
    "\n",
    "az_df.head(20)"
   ]
  },
  {
   "cell_type": "markdown",
   "metadata": {},
   "source": [
    "For the next analisis steps we will use Naive Bayes Classifier from NLTK. It requires a dataset which is already classified.\n",
    "\n",
    "For the intial classification of tweets we will use TextBlob and its metrics, such as polarity."
   ]
  },
  {
   "cell_type": "markdown",
   "metadata": {},
   "source": [
    "## Exploratory Analysis"
   ]
  },
  {
   "cell_type": "markdown",
   "metadata": {},
   "source": [
    "We can calculate subjectivity and polarity of the tweets with textblob\n",
    "The polarity score is a float within the range [-1.0, 1.0]. The subjectivity is a float within the range [0.0, 1.0] where 0.0 is very objective and 1.0 is very subjective.\n",
    "We can further classify that: \n",
    "* polarity < 0 points to negative tweet\n",
    "* polarity >= 0 points to positive tweet.\n",
    "We won't consider subjectivity for now."
   ]
  },
  {
   "cell_type": "code",
   "execution_count": 100,
   "metadata": {},
   "outputs": [],
   "source": [
    "def get_text_subjectity(txt):\n",
    "    return TextBlob(txt).sentiment.subjectivity\n",
    "\n",
    "def get_text_polarity(txt):\n",
    "    return TextBlob(txt).sentiment.polarity"
   ]
  },
  {
   "cell_type": "markdown",
   "metadata": {},
   "source": [
    "Let's apply subjectivity and polarity algorythm to our dataframes:"
   ]
  },
  {
   "cell_type": "code",
   "execution_count": 101,
   "metadata": {},
   "outputs": [
    {
     "data": {
      "text/html": [
       "<div>\n",
       "<style scoped>\n",
       "    .dataframe tbody tr th:only-of-type {\n",
       "        vertical-align: middle;\n",
       "    }\n",
       "\n",
       "    .dataframe tbody tr th {\n",
       "        vertical-align: top;\n",
       "    }\n",
       "\n",
       "    .dataframe thead th {\n",
       "        text-align: right;\n",
       "    }\n",
       "</style>\n",
       "<table border=\"1\" class=\"dataframe\">\n",
       "  <thead>\n",
       "    <tr style=\"text-align: right;\">\n",
       "      <th></th>\n",
       "      <th>Tweet</th>\n",
       "      <th>Retweet Count</th>\n",
       "      <th>Subjectivity</th>\n",
       "    </tr>\n",
       "  </thead>\n",
       "  <tbody>\n",
       "    <tr>\n",
       "      <th>0</th>\n",
       "      <td>Joe Biden says that his policies to eliminate ...</td>\n",
       "      <td>30</td>\n",
       "      <td>0.428571</td>\n",
       "    </tr>\n",
       "    <tr>\n",
       "      <th>1</th>\n",
       "      <td>15 days since Tesla recognized they also have ...</td>\n",
       "      <td>1</td>\n",
       "      <td>0.000000</td>\n",
       "    </tr>\n",
       "    <tr>\n",
       "      <th>2</th>\n",
       "      <td>Tesla Giga Nevada Adds More Solar Panels in Co...</td>\n",
       "      <td>9</td>\n",
       "      <td>0.500000</td>\n",
       "    </tr>\n",
       "    <tr>\n",
       "      <th>3</th>\n",
       "      <td>Stream Wheein's concept film video moos ❤️ \\n\\...</td>\n",
       "      <td>2</td>\n",
       "      <td>0.583333</td>\n",
       "    </tr>\n",
       "    <tr>\n",
       "      <th>4</th>\n",
       "      <td>#Minnesota’s community #solar program leads th...</td>\n",
       "      <td>3</td>\n",
       "      <td>0.000000</td>\n",
       "    </tr>\n",
       "    <tr>\n",
       "      <th>5</th>\n",
       "      <td>The “Magical” of using Tesla Solar System with...</td>\n",
       "      <td>28</td>\n",
       "      <td>1.000000</td>\n",
       "    </tr>\n",
       "    <tr>\n",
       "      <th>6</th>\n",
       "      <td>HUGE: knocks out some really big ones today, s...</td>\n",
       "      <td>2</td>\n",
       "      <td>0.500000</td>\n",
       "    </tr>\n",
       "    <tr>\n",
       "      <th>7</th>\n",
       "      <td>I hereby declare today Renewable Blackout Day,...</td>\n",
       "      <td>405</td>\n",
       "      <td>0.000000</td>\n",
       "    </tr>\n",
       "    <tr>\n",
       "      <th>8</th>\n",
       "      <td>#FunFactFriday: The Pacific Wheel, the world's...</td>\n",
       "      <td>4</td>\n",
       "      <td>0.333333</td>\n",
       "    </tr>\n",
       "    <tr>\n",
       "      <th>9</th>\n",
       "      <td>Buy box in terms of property specific... no so...</td>\n",
       "      <td>0</td>\n",
       "      <td>0.112500</td>\n",
       "    </tr>\n",
       "  </tbody>\n",
       "</table>\n",
       "</div>"
      ],
      "text/plain": [
       "                                               Tweet  Retweet Count  \\\n",
       "0  Joe Biden says that his policies to eliminate ...             30   \n",
       "1  15 days since Tesla recognized they also have ...              1   \n",
       "2  Tesla Giga Nevada Adds More Solar Panels in Co...              9   \n",
       "3  Stream Wheein's concept film video moos ❤️ \\n\\...              2   \n",
       "4  #Minnesota’s community #solar program leads th...              3   \n",
       "5  The “Magical” of using Tesla Solar System with...             28   \n",
       "6  HUGE: knocks out some really big ones today, s...              2   \n",
       "7  I hereby declare today Renewable Blackout Day,...            405   \n",
       "8  #FunFactFriday: The Pacific Wheel, the world's...              4   \n",
       "9  Buy box in terms of property specific... no so...              0   \n",
       "\n",
       "   Subjectivity  \n",
       "0      0.428571  \n",
       "1      0.000000  \n",
       "2      0.500000  \n",
       "3      0.583333  \n",
       "4      0.000000  \n",
       "5      1.000000  \n",
       "6      0.500000  \n",
       "7      0.000000  \n",
       "8      0.333333  \n",
       "9      0.112500  "
      ]
     },
     "execution_count": 101,
     "metadata": {},
     "output_type": "execute_result"
    }
   ],
   "source": [
    "ca_df['Subjectivity'] = ca_df['Tweet'].apply(get_text_subjectity)\n",
    "nc_df['Subjectivity'] = nc_df['Tweet'].apply(get_text_subjectity)\n",
    "az_df['Subjectivity'] = az_df['Tweet'].apply(get_text_subjectity)\n",
    "nv_df['Subjectivity'] = nv_df['Tweet'].apply(get_text_subjectity)\n",
    "nj_df['Subjectivity'] = nj_df['Tweet'].apply(get_text_subjectity)\n",
    "ma_df['Subjectivity'] = ma_df['Tweet'].apply(get_text_subjectity)\n",
    "tx_df['Subjectivity'] = tx_df['Tweet'].apply(get_text_subjectity)\n",
    "ut_df['Subjectivity'] = ut_df['Tweet'].apply(get_text_subjectity)\n",
    "\n",
    "az_df.head(10)"
   ]
  },
  {
   "cell_type": "code",
   "execution_count": 102,
   "metadata": {},
   "outputs": [
    {
     "data": {
      "text/html": [
       "<div>\n",
       "<style scoped>\n",
       "    .dataframe tbody tr th:only-of-type {\n",
       "        vertical-align: middle;\n",
       "    }\n",
       "\n",
       "    .dataframe tbody tr th {\n",
       "        vertical-align: top;\n",
       "    }\n",
       "\n",
       "    .dataframe thead th {\n",
       "        text-align: right;\n",
       "    }\n",
       "</style>\n",
       "<table border=\"1\" class=\"dataframe\">\n",
       "  <thead>\n",
       "    <tr style=\"text-align: right;\">\n",
       "      <th></th>\n",
       "      <th>Tweet</th>\n",
       "      <th>Retweet Count</th>\n",
       "      <th>Subjectivity</th>\n",
       "      <th>Polarity</th>\n",
       "    </tr>\n",
       "  </thead>\n",
       "  <tbody>\n",
       "    <tr>\n",
       "      <th>0</th>\n",
       "      <td>\"This is what a solar eclipse at sunset looks ...</td>\n",
       "      <td>58</td>\n",
       "      <td>0.000000</td>\n",
       "      <td>0.000000</td>\n",
       "    </tr>\n",
       "    <tr>\n",
       "      <th>1</th>\n",
       "      <td>HAPPY 25th SOLAR RETURN TO MY SOUL SISTA 🇯🇲💚💫 ...</td>\n",
       "      <td>1</td>\n",
       "      <td>0.833333</td>\n",
       "      <td>0.550000</td>\n",
       "    </tr>\n",
       "    <tr>\n",
       "      <th>2</th>\n",
       "      <td>“Climate change is my passion” \\n-dude that to...</td>\n",
       "      <td>0</td>\n",
       "      <td>0.437500</td>\n",
       "      <td>0.150000</td>\n",
       "    </tr>\n",
       "    <tr>\n",
       "      <th>3</th>\n",
       "      <td>Solar and wind are the only sources of power t...</td>\n",
       "      <td>0</td>\n",
       "      <td>1.000000</td>\n",
       "      <td>0.000000</td>\n",
       "    </tr>\n",
       "    <tr>\n",
       "      <th>4</th>\n",
       "      <td>NW Tarrant Co, Texas\\n🕒 19h | Current weather\\...</td>\n",
       "      <td>0</td>\n",
       "      <td>0.400000</td>\n",
       "      <td>0.000000</td>\n",
       "    </tr>\n",
       "    <tr>\n",
       "      <th>5</th>\n",
       "      <td>Sachse(Woodbridge)\\n🕒 19h | Current weather\\n\\...</td>\n",
       "      <td>0</td>\n",
       "      <td>0.400000</td>\n",
       "      <td>0.000000</td>\n",
       "    </tr>\n",
       "    <tr>\n",
       "      <th>6</th>\n",
       "      <td>Huge news!! just signed Roxy's Law, Community ...</td>\n",
       "      <td>4</td>\n",
       "      <td>0.500000</td>\n",
       "      <td>0.488281</td>\n",
       "    </tr>\n",
       "    <tr>\n",
       "      <th>7</th>\n",
       "      <td>Community Solar, Trapping, Gila:)</td>\n",
       "      <td>1</td>\n",
       "      <td>1.000000</td>\n",
       "      <td>0.500000</td>\n",
       "    </tr>\n",
       "    <tr>\n",
       "      <th>8</th>\n",
       "      <td>\"The geochemistry that we examine in this stud...</td>\n",
       "      <td>1</td>\n",
       "      <td>0.000000</td>\n",
       "      <td>0.000000</td>\n",
       "    </tr>\n",
       "    <tr>\n",
       "      <th>9</th>\n",
       "      <td>Community Solar, Trapping, Gila:)</td>\n",
       "      <td>1</td>\n",
       "      <td>1.000000</td>\n",
       "      <td>0.500000</td>\n",
       "    </tr>\n",
       "  </tbody>\n",
       "</table>\n",
       "</div>"
      ],
      "text/plain": [
       "                                               Tweet  Retweet Count  \\\n",
       "0  \"This is what a solar eclipse at sunset looks ...             58   \n",
       "1  HAPPY 25th SOLAR RETURN TO MY SOUL SISTA 🇯🇲💚💫 ...              1   \n",
       "2  “Climate change is my passion” \\n-dude that to...              0   \n",
       "3  Solar and wind are the only sources of power t...              0   \n",
       "4  NW Tarrant Co, Texas\\n🕒 19h | Current weather\\...              0   \n",
       "5  Sachse(Woodbridge)\\n🕒 19h | Current weather\\n\\...              0   \n",
       "6  Huge news!! just signed Roxy's Law, Community ...              4   \n",
       "7                  Community Solar, Trapping, Gila:)              1   \n",
       "8  \"The geochemistry that we examine in this stud...              1   \n",
       "9                  Community Solar, Trapping, Gila:)              1   \n",
       "\n",
       "   Subjectivity  Polarity  \n",
       "0      0.000000  0.000000  \n",
       "1      0.833333  0.550000  \n",
       "2      0.437500  0.150000  \n",
       "3      1.000000  0.000000  \n",
       "4      0.400000  0.000000  \n",
       "5      0.400000  0.000000  \n",
       "6      0.500000  0.488281  \n",
       "7      1.000000  0.500000  \n",
       "8      0.000000  0.000000  \n",
       "9      1.000000  0.500000  "
      ]
     },
     "execution_count": 102,
     "metadata": {},
     "output_type": "execute_result"
    }
   ],
   "source": [
    "ca_df['Polarity'] = ca_df['Tweet'].apply(get_text_polarity)\n",
    "nc_df['Polarity'] = nc_df['Tweet'].apply(get_text_polarity)\n",
    "az_df['Polarity'] = az_df['Tweet'].apply(get_text_polarity)\n",
    "nv_df['Polarity'] = nv_df['Tweet'].apply(get_text_polarity)\n",
    "nj_df['Polarity'] = nj_df['Tweet'].apply(get_text_polarity)\n",
    "ma_df['Polarity'] = ma_df['Tweet'].apply(get_text_polarity)\n",
    "tx_df['Polarity'] = tx_df['Tweet'].apply(get_text_polarity)\n",
    "ut_df['Polarity'] = ut_df['Tweet'].apply(get_text_polarity)\n",
    "\n",
    "tx_df.head(10)"
   ]
  },
  {
   "cell_type": "markdown",
   "metadata": {},
   "source": [
    "Based on TextBlob polarity definition, we can define classification consisting of three classes: negative (polarity < 0), positive (polarity > 0) and neutral (polarity = 0).\n",
    "But for Naive Bayes Classifier model we need two classes: negative and positive. Therefore, negative tweets are ones with polartiy < 0. Positive tweets are tweets with polarity >= 0."
   ]
  },
  {
   "cell_type": "markdown",
   "metadata": {},
   "source": [
    "Let's create a function and apply to all our dataframes:"
   ]
  },
  {
   "cell_type": "code",
   "execution_count": 103,
   "metadata": {},
   "outputs": [],
   "source": [
    "def get_classification(tweet_polarity):\n",
    "    if tweet_polarity < 0:\n",
    "        c = 'neg'\n",
    "    else:\n",
    "        c = 'pos'\n",
    "    return c    "
   ]
  },
  {
   "cell_type": "code",
   "execution_count": 104,
   "metadata": {},
   "outputs": [
    {
     "data": {
      "text/html": [
       "<div>\n",
       "<style scoped>\n",
       "    .dataframe tbody tr th:only-of-type {\n",
       "        vertical-align: middle;\n",
       "    }\n",
       "\n",
       "    .dataframe tbody tr th {\n",
       "        vertical-align: top;\n",
       "    }\n",
       "\n",
       "    .dataframe thead th {\n",
       "        text-align: right;\n",
       "    }\n",
       "</style>\n",
       "<table border=\"1\" class=\"dataframe\">\n",
       "  <thead>\n",
       "    <tr style=\"text-align: right;\">\n",
       "      <th></th>\n",
       "      <th>Tweet</th>\n",
       "      <th>Retweet Count</th>\n",
       "      <th>Subjectivity</th>\n",
       "      <th>Polarity</th>\n",
       "      <th>Classification</th>\n",
       "    </tr>\n",
       "  </thead>\n",
       "  <tbody>\n",
       "    <tr>\n",
       "      <th>0</th>\n",
       "      <td>[#마마무] Daily tweet for #MAMAMOO Brand Reputati...</td>\n",
       "      <td>1</td>\n",
       "      <td>0.000000</td>\n",
       "      <td>0.000000</td>\n",
       "      <td>pos</td>\n",
       "    </tr>\n",
       "    <tr>\n",
       "      <th>1</th>\n",
       "      <td>The Solar Hu Glides\\n (The Human Made Editions...</td>\n",
       "      <td>0</td>\n",
       "      <td>0.100000</td>\n",
       "      <td>0.000000</td>\n",
       "      <td>pos</td>\n",
       "    </tr>\n",
       "    <tr>\n",
       "      <th>2</th>\n",
       "      <td>Eat me, DICKHEAD</td>\n",
       "      <td>0</td>\n",
       "      <td>0.000000</td>\n",
       "      <td>0.000000</td>\n",
       "      <td>pos</td>\n",
       "    </tr>\n",
       "    <tr>\n",
       "      <th>3</th>\n",
       "      <td>Longtime EV Club of Connecticut member &amp;amp; a...</td>\n",
       "      <td>1</td>\n",
       "      <td>0.000000</td>\n",
       "      <td>0.000000</td>\n",
       "      <td>pos</td>\n",
       "    </tr>\n",
       "    <tr>\n",
       "      <th>4</th>\n",
       "      <td>Another day in moomoo Twitter... \\n\\n[#마마무] Da...</td>\n",
       "      <td>1</td>\n",
       "      <td>0.000000</td>\n",
       "      <td>0.000000</td>\n",
       "      <td>pos</td>\n",
       "    </tr>\n",
       "    <tr>\n",
       "      <th>5</th>\n",
       "      <td>i’m tired of this scorpio moon solar return\\n\\...</td>\n",
       "      <td>0</td>\n",
       "      <td>0.575000</td>\n",
       "      <td>-0.300000</td>\n",
       "      <td>neg</td>\n",
       "    </tr>\n",
       "    <tr>\n",
       "      <th>6</th>\n",
       "      <td>[#마마무] Daily tweet for #MAMAMOO Brand Reputati...</td>\n",
       "      <td>1</td>\n",
       "      <td>0.000000</td>\n",
       "      <td>0.000000</td>\n",
       "      <td>pos</td>\n",
       "    </tr>\n",
       "    <tr>\n",
       "      <th>7</th>\n",
       "      <td>SOLAR STORM (#4) | Doomsday: 10 Ways the World...</td>\n",
       "      <td>0</td>\n",
       "      <td>0.550000</td>\n",
       "      <td>0.350000</td>\n",
       "      <td>pos</td>\n",
       "    </tr>\n",
       "    <tr>\n",
       "      <th>8</th>\n",
       "      <td>If you have a brass knuckles tattoo, I hope yo...</td>\n",
       "      <td>0</td>\n",
       "      <td>0.466667</td>\n",
       "      <td>-0.194444</td>\n",
       "      <td>neg</td>\n",
       "    </tr>\n",
       "    <tr>\n",
       "      <th>9</th>\n",
       "      <td>regular NF maybe, BUT.......\\n\\nagainst those ...</td>\n",
       "      <td>0</td>\n",
       "      <td>0.076923</td>\n",
       "      <td>0.000000</td>\n",
       "      <td>pos</td>\n",
       "    </tr>\n",
       "  </tbody>\n",
       "</table>\n",
       "</div>"
      ],
      "text/plain": [
       "                                               Tweet  Retweet Count  \\\n",
       "0  [#마마무] Daily tweet for #MAMAMOO Brand Reputati...              1   \n",
       "1  The Solar Hu Glides\\n (The Human Made Editions...              0   \n",
       "2                                  Eat me, DICKHEAD               0   \n",
       "3  Longtime EV Club of Connecticut member &amp; a...              1   \n",
       "4  Another day in moomoo Twitter... \\n\\n[#마마무] Da...              1   \n",
       "5  i’m tired of this scorpio moon solar return\\n\\...              0   \n",
       "6  [#마마무] Daily tweet for #MAMAMOO Brand Reputati...              1   \n",
       "7  SOLAR STORM (#4) | Doomsday: 10 Ways the World...              0   \n",
       "8  If you have a brass knuckles tattoo, I hope yo...              0   \n",
       "9  regular NF maybe, BUT.......\\n\\nagainst those ...              0   \n",
       "\n",
       "   Subjectivity  Polarity Classification  \n",
       "0      0.000000  0.000000            pos  \n",
       "1      0.100000  0.000000            pos  \n",
       "2      0.000000  0.000000            pos  \n",
       "3      0.000000  0.000000            pos  \n",
       "4      0.000000  0.000000            pos  \n",
       "5      0.575000 -0.300000            neg  \n",
       "6      0.000000  0.000000            pos  \n",
       "7      0.550000  0.350000            pos  \n",
       "8      0.466667 -0.194444            neg  \n",
       "9      0.076923  0.000000            pos  "
      ]
     },
     "execution_count": 104,
     "metadata": {},
     "output_type": "execute_result"
    }
   ],
   "source": [
    "ca_df['Classification'] = ca_df['Polarity'].apply(get_classification)\n",
    "nc_df['Classification'] = nc_df['Polarity'].apply(get_classification)\n",
    "az_df['Classification'] = az_df['Polarity'].apply(get_classification)\n",
    "nv_df['Classification'] = nv_df['Polarity'].apply(get_classification)\n",
    "nj_df['Classification'] = nj_df['Polarity'].apply(get_classification)\n",
    "ma_df['Classification'] = ma_df['Polarity'].apply(get_classification)\n",
    "tx_df['Classification'] = tx_df['Polarity'].apply(get_classification)\n",
    "ut_df['Classification'] = ut_df['Polarity'].apply(get_classification)\n",
    "\n",
    "ma_df.head(10)"
   ]
  },
  {
   "cell_type": "markdown",
   "metadata": {},
   "source": [
    "We can see different polarity minimum and maximum values in different states. For example, in California, the min polarity value is -0.5, and first percentile is 0 which tells us that the majority (75% based on recent tweets) of California Twitter users have positive attitude about solar topic, and probably about solar electricity topic in particular."
   ]
  },
  {
   "cell_type": "code",
   "execution_count": 105,
   "metadata": {},
   "outputs": [
    {
     "data": {
      "text/html": [
       "<div>\n",
       "<style scoped>\n",
       "    .dataframe tbody tr th:only-of-type {\n",
       "        vertical-align: middle;\n",
       "    }\n",
       "\n",
       "    .dataframe tbody tr th {\n",
       "        vertical-align: top;\n",
       "    }\n",
       "\n",
       "    .dataframe thead th {\n",
       "        text-align: right;\n",
       "    }\n",
       "</style>\n",
       "<table border=\"1\" class=\"dataframe\">\n",
       "  <thead>\n",
       "    <tr style=\"text-align: right;\">\n",
       "      <th></th>\n",
       "      <th>Retweet Count</th>\n",
       "      <th>Subjectivity</th>\n",
       "      <th>Polarity</th>\n",
       "    </tr>\n",
       "  </thead>\n",
       "  <tbody>\n",
       "    <tr>\n",
       "      <th>count</th>\n",
       "      <td>236.000000</td>\n",
       "      <td>236.000000</td>\n",
       "      <td>236.000000</td>\n",
       "    </tr>\n",
       "    <tr>\n",
       "      <th>mean</th>\n",
       "      <td>105.241525</td>\n",
       "      <td>0.350269</td>\n",
       "      <td>0.144393</td>\n",
       "    </tr>\n",
       "    <tr>\n",
       "      <th>std</th>\n",
       "      <td>668.303057</td>\n",
       "      <td>0.310094</td>\n",
       "      <td>0.251238</td>\n",
       "    </tr>\n",
       "    <tr>\n",
       "      <th>min</th>\n",
       "      <td>0.000000</td>\n",
       "      <td>0.000000</td>\n",
       "      <td>-0.500000</td>\n",
       "    </tr>\n",
       "    <tr>\n",
       "      <th>25%</th>\n",
       "      <td>0.000000</td>\n",
       "      <td>0.000000</td>\n",
       "      <td>0.000000</td>\n",
       "    </tr>\n",
       "    <tr>\n",
       "      <th>50%</th>\n",
       "      <td>0.000000</td>\n",
       "      <td>0.342803</td>\n",
       "      <td>0.056250</td>\n",
       "    </tr>\n",
       "    <tr>\n",
       "      <th>75%</th>\n",
       "      <td>3.000000</td>\n",
       "      <td>0.536250</td>\n",
       "      <td>0.267045</td>\n",
       "    </tr>\n",
       "    <tr>\n",
       "      <th>max</th>\n",
       "      <td>6744.000000</td>\n",
       "      <td>1.000000</td>\n",
       "      <td>1.000000</td>\n",
       "    </tr>\n",
       "  </tbody>\n",
       "</table>\n",
       "</div>"
      ],
      "text/plain": [
       "       Retweet Count  Subjectivity    Polarity\n",
       "count     236.000000    236.000000  236.000000\n",
       "mean      105.241525      0.350269    0.144393\n",
       "std       668.303057      0.310094    0.251238\n",
       "min         0.000000      0.000000   -0.500000\n",
       "25%         0.000000      0.000000    0.000000\n",
       "50%         0.000000      0.342803    0.056250\n",
       "75%         3.000000      0.536250    0.267045\n",
       "max      6744.000000      1.000000    1.000000"
      ]
     },
     "execution_count": 105,
     "metadata": {},
     "output_type": "execute_result"
    }
   ],
   "source": [
    "ca_df.describe()"
   ]
  },
  {
   "cell_type": "markdown",
   "metadata": {},
   "source": [
    "At the same time, in New Jersey minimum polarity value is -1 indicating more negative opinions exists regarding solar topic. Though, the majority of New Jersey Twitter users (75% based on retrieved tweets) are positive about solar."
   ]
  },
  {
   "cell_type": "code",
   "execution_count": 106,
   "metadata": {},
   "outputs": [
    {
     "data": {
      "text/html": [
       "<div>\n",
       "<style scoped>\n",
       "    .dataframe tbody tr th:only-of-type {\n",
       "        vertical-align: middle;\n",
       "    }\n",
       "\n",
       "    .dataframe tbody tr th {\n",
       "        vertical-align: top;\n",
       "    }\n",
       "\n",
       "    .dataframe thead th {\n",
       "        text-align: right;\n",
       "    }\n",
       "</style>\n",
       "<table border=\"1\" class=\"dataframe\">\n",
       "  <thead>\n",
       "    <tr style=\"text-align: right;\">\n",
       "      <th></th>\n",
       "      <th>Retweet Count</th>\n",
       "      <th>Subjectivity</th>\n",
       "      <th>Polarity</th>\n",
       "    </tr>\n",
       "  </thead>\n",
       "  <tbody>\n",
       "    <tr>\n",
       "      <th>count</th>\n",
       "      <td>297.000000</td>\n",
       "      <td>297.000000</td>\n",
       "      <td>297.000000</td>\n",
       "    </tr>\n",
       "    <tr>\n",
       "      <th>mean</th>\n",
       "      <td>199.151515</td>\n",
       "      <td>0.329427</td>\n",
       "      <td>0.112813</td>\n",
       "    </tr>\n",
       "    <tr>\n",
       "      <th>std</th>\n",
       "      <td>3121.958213</td>\n",
       "      <td>0.301020</td>\n",
       "      <td>0.250960</td>\n",
       "    </tr>\n",
       "    <tr>\n",
       "      <th>min</th>\n",
       "      <td>0.000000</td>\n",
       "      <td>0.000000</td>\n",
       "      <td>-1.000000</td>\n",
       "    </tr>\n",
       "    <tr>\n",
       "      <th>25%</th>\n",
       "      <td>0.000000</td>\n",
       "      <td>0.000000</td>\n",
       "      <td>0.000000</td>\n",
       "    </tr>\n",
       "    <tr>\n",
       "      <th>50%</th>\n",
       "      <td>0.000000</td>\n",
       "      <td>0.333333</td>\n",
       "      <td>0.000000</td>\n",
       "    </tr>\n",
       "    <tr>\n",
       "      <th>75%</th>\n",
       "      <td>2.000000</td>\n",
       "      <td>0.500000</td>\n",
       "      <td>0.250000</td>\n",
       "    </tr>\n",
       "    <tr>\n",
       "      <th>max</th>\n",
       "      <td>53779.000000</td>\n",
       "      <td>1.000000</td>\n",
       "      <td>1.000000</td>\n",
       "    </tr>\n",
       "  </tbody>\n",
       "</table>\n",
       "</div>"
      ],
      "text/plain": [
       "       Retweet Count  Subjectivity    Polarity\n",
       "count     297.000000    297.000000  297.000000\n",
       "mean      199.151515      0.329427    0.112813\n",
       "std      3121.958213      0.301020    0.250960\n",
       "min         0.000000      0.000000   -1.000000\n",
       "25%         0.000000      0.000000    0.000000\n",
       "50%         0.000000      0.333333    0.000000\n",
       "75%         2.000000      0.500000    0.250000\n",
       "max     53779.000000      1.000000    1.000000"
      ]
     },
     "execution_count": 106,
     "metadata": {},
     "output_type": "execute_result"
    }
   ],
   "source": [
    "nj_df.describe()"
   ]
  },
  {
   "cell_type": "markdown",
   "metadata": {},
   "source": [
    "Let's create another dataframe for plotting data and display state polartiy "
   ]
  },
  {
   "cell_type": "code",
   "execution_count": 107,
   "metadata": {},
   "outputs": [
    {
     "data": {
      "image/png": "[encoded data removed]",
      "text/plain": [
       "<Figure size 1440x1080 with 1 Axes>"
      ]
     },
     "metadata": {
      "needs_background": "light"
     },
     "output_type": "display_data"
    }
   ],
   "source": [
    "%matplotlib inline\n",
    "\n",
    "d1 = ca_df['Polarity']\n",
    "d2 = nc_df['Polarity']\n",
    "d3 = az_df['Polarity']\n",
    "d4 = nv_df['Polarity']\n",
    "d5 = nj_df['Polarity']\n",
    "d6 = ma_df['Polarity']\n",
    "d7 = tx_df['Polarity']\n",
    "d8 = ut_df['Polarity']\n",
    "\n",
    "data = [d1, d2, d3, d4, d5, d6, d7, d8]\n",
    "\n",
    "fig, axes = plt.subplots(nrows=1, ncols=1, figsize=(20, 15))\n",
    "\n",
    "bplot1 = plt.boxplot(data,\n",
    "                     vert=False,\n",
    "                     patch_artist=True)\n",
    "\n",
    "colors = ['tomato', 'royalblue', 'gold', 'seagreen', 'darkorchid', 'sienna', 'darkturquoise', 'mediumpurple']\n",
    "\n",
    "for patch, color in zip(bplot1['boxes'], colors):\n",
    "    patch.set_facecolor(color)\n",
    "\n",
    "axes.xaxis.grid(True)\n",
    "axes.set_yticks([y for y in range(len(data))], )\n",
    "axes.set_xlabel('Polarity', fontsize=20)\n",
    "axes.set_ylabel('States', fontsize=20)\n",
    "\n",
    "plt.setp(axes, yticks=[y for y in range(len(data) + 1)],\n",
    "         yticklabels=['', 'CA', 'NC', 'AZ', 'NV', 'NJ', 'MA', 'TX', 'UT'])\n",
    "\n",
    "plt.show()"
   ]
  },
  {
   "cell_type": "markdown",
   "metadata": {},
   "source": [
    "As we see on the boxplot graph above, all tweet medium values are neutral, so the 50% of each state tweets mentioning solar are positive.\n",
    "\n",
    "At the same time, there are strong negative outliers in Massachusets and New Jersey. There are also negative outliers in Arizona and North Carolina tweets. These outliers are worth careful consideration in further researches because they may indicate groups with a negative attitude towards solar energy topic.\n",
    "\n",
    "Let's create a joined dataframe with an additional column 'State' and take a closer look on the negative tweets."
   ]
  },
  {
   "cell_type": "code",
   "execution_count": 108,
   "metadata": {},
   "outputs": [
    {
     "data": {
      "text/html": [
       "<div>\n",
       "<style scoped>\n",
       "    .dataframe tbody tr th:only-of-type {\n",
       "        vertical-align: middle;\n",
       "    }\n",
       "\n",
       "    .dataframe tbody tr th {\n",
       "        vertical-align: top;\n",
       "    }\n",
       "\n",
       "    .dataframe thead th {\n",
       "        text-align: right;\n",
       "    }\n",
       "</style>\n",
       "<table border=\"1\" class=\"dataframe\">\n",
       "  <thead>\n",
       "    <tr style=\"text-align: right;\">\n",
       "      <th></th>\n",
       "      <th>Tweet</th>\n",
       "      <th>Retweet Count</th>\n",
       "      <th>Subjectivity</th>\n",
       "      <th>Polarity</th>\n",
       "      <th>Classification</th>\n",
       "      <th>State</th>\n",
       "    </tr>\n",
       "  </thead>\n",
       "  <tbody>\n",
       "    <tr>\n",
       "      <th>0</th>\n",
       "      <td>[#마마무] Daily tweet for #MAMAMOO Brand Reputati...</td>\n",
       "      <td>1</td>\n",
       "      <td>0.000000</td>\n",
       "      <td>0.000000</td>\n",
       "      <td>pos</td>\n",
       "      <td>MA</td>\n",
       "    </tr>\n",
       "    <tr>\n",
       "      <th>1</th>\n",
       "      <td>The Solar Hu Glides\\n (The Human Made Editions...</td>\n",
       "      <td>0</td>\n",
       "      <td>0.100000</td>\n",
       "      <td>0.000000</td>\n",
       "      <td>pos</td>\n",
       "      <td>MA</td>\n",
       "    </tr>\n",
       "    <tr>\n",
       "      <th>2</th>\n",
       "      <td>Eat me, DICKHEAD</td>\n",
       "      <td>0</td>\n",
       "      <td>0.000000</td>\n",
       "      <td>0.000000</td>\n",
       "      <td>pos</td>\n",
       "      <td>MA</td>\n",
       "    </tr>\n",
       "    <tr>\n",
       "      <th>3</th>\n",
       "      <td>Longtime EV Club of Connecticut member &amp;amp; a...</td>\n",
       "      <td>1</td>\n",
       "      <td>0.000000</td>\n",
       "      <td>0.000000</td>\n",
       "      <td>pos</td>\n",
       "      <td>MA</td>\n",
       "    </tr>\n",
       "    <tr>\n",
       "      <th>4</th>\n",
       "      <td>Another day in moomoo Twitter... \\n\\n[#마마무] Da...</td>\n",
       "      <td>1</td>\n",
       "      <td>0.000000</td>\n",
       "      <td>0.000000</td>\n",
       "      <td>pos</td>\n",
       "      <td>MA</td>\n",
       "    </tr>\n",
       "    <tr>\n",
       "      <th>5</th>\n",
       "      <td>i’m tired of this scorpio moon solar return\\n\\...</td>\n",
       "      <td>0</td>\n",
       "      <td>0.575000</td>\n",
       "      <td>-0.300000</td>\n",
       "      <td>neg</td>\n",
       "      <td>MA</td>\n",
       "    </tr>\n",
       "    <tr>\n",
       "      <th>6</th>\n",
       "      <td>[#마마무] Daily tweet for #MAMAMOO Brand Reputati...</td>\n",
       "      <td>1</td>\n",
       "      <td>0.000000</td>\n",
       "      <td>0.000000</td>\n",
       "      <td>pos</td>\n",
       "      <td>MA</td>\n",
       "    </tr>\n",
       "    <tr>\n",
       "      <th>7</th>\n",
       "      <td>SOLAR STORM (#4) | Doomsday: 10 Ways the World...</td>\n",
       "      <td>0</td>\n",
       "      <td>0.550000</td>\n",
       "      <td>0.350000</td>\n",
       "      <td>pos</td>\n",
       "      <td>MA</td>\n",
       "    </tr>\n",
       "    <tr>\n",
       "      <th>8</th>\n",
       "      <td>If you have a brass knuckles tattoo, I hope yo...</td>\n",
       "      <td>0</td>\n",
       "      <td>0.466667</td>\n",
       "      <td>-0.194444</td>\n",
       "      <td>neg</td>\n",
       "      <td>MA</td>\n",
       "    </tr>\n",
       "    <tr>\n",
       "      <th>9</th>\n",
       "      <td>regular NF maybe, BUT.......\\n\\nagainst those ...</td>\n",
       "      <td>0</td>\n",
       "      <td>0.076923</td>\n",
       "      <td>0.000000</td>\n",
       "      <td>pos</td>\n",
       "      <td>MA</td>\n",
       "    </tr>\n",
       "  </tbody>\n",
       "</table>\n",
       "</div>"
      ],
      "text/plain": [
       "                                               Tweet  Retweet Count  \\\n",
       "0  [#마마무] Daily tweet for #MAMAMOO Brand Reputati...              1   \n",
       "1  The Solar Hu Glides\\n (The Human Made Editions...              0   \n",
       "2                                  Eat me, DICKHEAD               0   \n",
       "3  Longtime EV Club of Connecticut member &amp; a...              1   \n",
       "4  Another day in moomoo Twitter... \\n\\n[#마마무] Da...              1   \n",
       "5  i’m tired of this scorpio moon solar return\\n\\...              0   \n",
       "6  [#마마무] Daily tweet for #MAMAMOO Brand Reputati...              1   \n",
       "7  SOLAR STORM (#4) | Doomsday: 10 Ways the World...              0   \n",
       "8  If you have a brass knuckles tattoo, I hope yo...              0   \n",
       "9  regular NF maybe, BUT.......\\n\\nagainst those ...              0   \n",
       "\n",
       "   Subjectivity  Polarity Classification State  \n",
       "0      0.000000  0.000000            pos    MA  \n",
       "1      0.100000  0.000000            pos    MA  \n",
       "2      0.000000  0.000000            pos    MA  \n",
       "3      0.000000  0.000000            pos    MA  \n",
       "4      0.000000  0.000000            pos    MA  \n",
       "5      0.575000 -0.300000            neg    MA  \n",
       "6      0.000000  0.000000            pos    MA  \n",
       "7      0.550000  0.350000            pos    MA  \n",
       "8      0.466667 -0.194444            neg    MA  \n",
       "9      0.076923  0.000000            pos    MA  "
      ]
     },
     "execution_count": 108,
     "metadata": {},
     "output_type": "execute_result"
    }
   ],
   "source": [
    "ca_df['State'] = 'CA'\n",
    "nc_df['State'] = 'NC'\n",
    "az_df['State'] = 'AZ'\n",
    "nv_df['State'] = 'NV'\n",
    "nj_df['State'] = 'NJ'\n",
    "ma_df['State'] = 'MA'\n",
    "tx_df['State'] = 'TX'\n",
    "ut_df['State'] = 'UT'\n",
    "\n",
    "ma_df.head(10)"
   ]
  },
  {
   "cell_type": "code",
   "execution_count": 109,
   "metadata": {},
   "outputs": [
    {
     "data": {
      "text/html": [
       "<div>\n",
       "<style scoped>\n",
       "    .dataframe tbody tr th:only-of-type {\n",
       "        vertical-align: middle;\n",
       "    }\n",
       "\n",
       "    .dataframe tbody tr th {\n",
       "        vertical-align: top;\n",
       "    }\n",
       "\n",
       "    .dataframe thead th {\n",
       "        text-align: right;\n",
       "    }\n",
       "</style>\n",
       "<table border=\"1\" class=\"dataframe\">\n",
       "  <thead>\n",
       "    <tr style=\"text-align: right;\">\n",
       "      <th></th>\n",
       "      <th>Tweet</th>\n",
       "      <th>Retweet Count</th>\n",
       "      <th>Subjectivity</th>\n",
       "      <th>Polarity</th>\n",
       "      <th>Classification</th>\n",
       "      <th>State</th>\n",
       "    </tr>\n",
       "  </thead>\n",
       "  <tbody>\n",
       "    <tr>\n",
       "      <th>0</th>\n",
       "      <td>Size of raindrops can help identify potentiall...</td>\n",
       "      <td>0</td>\n",
       "      <td>0.525000</td>\n",
       "      <td>0.000000</td>\n",
       "      <td>pos</td>\n",
       "      <td>CA</td>\n",
       "    </tr>\n",
       "    <tr>\n",
       "      <th>1</th>\n",
       "      <td>New study ties solar variability to the onset ...</td>\n",
       "      <td>0</td>\n",
       "      <td>0.454545</td>\n",
       "      <td>0.136364</td>\n",
       "      <td>pos</td>\n",
       "      <td>CA</td>\n",
       "    </tr>\n",
       "    <tr>\n",
       "      <th>2</th>\n",
       "      <td>It's just an erector set in the middle of a ar...</td>\n",
       "      <td>0</td>\n",
       "      <td>0.245833</td>\n",
       "      <td>0.100000</td>\n",
       "      <td>pos</td>\n",
       "      <td>CA</td>\n",
       "    </tr>\n",
       "    <tr>\n",
       "      <th>3</th>\n",
       "      <td>15 days since Tesla recognized they also have ...</td>\n",
       "      <td>1</td>\n",
       "      <td>0.000000</td>\n",
       "      <td>0.000000</td>\n",
       "      <td>pos</td>\n",
       "      <td>CA</td>\n",
       "    </tr>\n",
       "    <tr>\n",
       "      <th>4</th>\n",
       "      <td>#PPOD: This image is extraordinary. It shows a...</td>\n",
       "      <td>88</td>\n",
       "      <td>1.000000</td>\n",
       "      <td>0.333333</td>\n",
       "      <td>pos</td>\n",
       "      <td>CA</td>\n",
       "    </tr>\n",
       "    <tr>\n",
       "      <th>5</th>\n",
       "      <td>Tesla Giga Nevada Adds More Solar Panels in Co...</td>\n",
       "      <td>9</td>\n",
       "      <td>0.500000</td>\n",
       "      <td>0.500000</td>\n",
       "      <td>pos</td>\n",
       "      <td>CA</td>\n",
       "    </tr>\n",
       "    <tr>\n",
       "      <th>6</th>\n",
       "      <td>Stream Wheein's concept film video moos ❤️ \\n\\...</td>\n",
       "      <td>2</td>\n",
       "      <td>0.583333</td>\n",
       "      <td>0.408333</td>\n",
       "      <td>pos</td>\n",
       "      <td>CA</td>\n",
       "    </tr>\n",
       "    <tr>\n",
       "      <th>7</th>\n",
       "      <td>#Minnesota’s community #solar program leads th...</td>\n",
       "      <td>3</td>\n",
       "      <td>0.000000</td>\n",
       "      <td>0.000000</td>\n",
       "      <td>pos</td>\n",
       "      <td>CA</td>\n",
       "    </tr>\n",
       "    <tr>\n",
       "      <th>8</th>\n",
       "      <td>The “Magical” of using Tesla Solar System with...</td>\n",
       "      <td>28</td>\n",
       "      <td>1.000000</td>\n",
       "      <td>0.250000</td>\n",
       "      <td>pos</td>\n",
       "      <td>CA</td>\n",
       "    </tr>\n",
       "    <tr>\n",
       "      <th>9</th>\n",
       "      <td>China's green hydrogen gigafactories are comin...</td>\n",
       "      <td>5</td>\n",
       "      <td>0.300000</td>\n",
       "      <td>-0.200000</td>\n",
       "      <td>neg</td>\n",
       "      <td>CA</td>\n",
       "    </tr>\n",
       "    <tr>\n",
       "      <th>10</th>\n",
       "      <td>I hereby declare today Renewable Blackout Day,...</td>\n",
       "      <td>405</td>\n",
       "      <td>0.000000</td>\n",
       "      <td>0.000000</td>\n",
       "      <td>pos</td>\n",
       "      <td>CA</td>\n",
       "    </tr>\n",
       "    <tr>\n",
       "      <th>11</th>\n",
       "      <td>#FunFactFriday: The Pacific Wheel, the world's...</td>\n",
       "      <td>4</td>\n",
       "      <td>0.333333</td>\n",
       "      <td>0.250000</td>\n",
       "      <td>pos</td>\n",
       "      <td>CA</td>\n",
       "    </tr>\n",
       "    <tr>\n",
       "      <th>12</th>\n",
       "      <td>Buy box in terms of property specific... no so...</td>\n",
       "      <td>0</td>\n",
       "      <td>0.112500</td>\n",
       "      <td>0.000000</td>\n",
       "      <td>pos</td>\n",
       "      <td>CA</td>\n",
       "    </tr>\n",
       "    <tr>\n",
       "      <th>13</th>\n",
       "      <td>There is a lot of conflicting \"information\" ab...</td>\n",
       "      <td>6744</td>\n",
       "      <td>0.000000</td>\n",
       "      <td>0.000000</td>\n",
       "      <td>pos</td>\n",
       "      <td>CA</td>\n",
       "    </tr>\n",
       "    <tr>\n",
       "      <th>14</th>\n",
       "      <td>SunPower’s own shares with Bloomberg why creat...</td>\n",
       "      <td>4</td>\n",
       "      <td>1.000000</td>\n",
       "      <td>0.600000</td>\n",
       "      <td>pos</td>\n",
       "      <td>CA</td>\n",
       "    </tr>\n",
       "    <tr>\n",
       "      <th>15</th>\n",
       "      <td>When it comes to clean energy, 2021 is off to ...</td>\n",
       "      <td>5</td>\n",
       "      <td>0.505556</td>\n",
       "      <td>0.388889</td>\n",
       "      <td>pos</td>\n",
       "      <td>CA</td>\n",
       "    </tr>\n",
       "    <tr>\n",
       "      <th>16</th>\n",
       "      <td>15 days since Tesla recognized they also have ...</td>\n",
       "      <td>1</td>\n",
       "      <td>0.000000</td>\n",
       "      <td>0.000000</td>\n",
       "      <td>pos</td>\n",
       "      <td>CA</td>\n",
       "    </tr>\n",
       "    <tr>\n",
       "      <th>17</th>\n",
       "      <td>so what you're saying is you haven't done the ...</td>\n",
       "      <td>0</td>\n",
       "      <td>0.000000</td>\n",
       "      <td>0.000000</td>\n",
       "      <td>pos</td>\n",
       "      <td>CA</td>\n",
       "    </tr>\n",
       "    <tr>\n",
       "      <th>18</th>\n",
       "      <td>China’s Longi Green Energy Technology to Join ...</td>\n",
       "      <td>0</td>\n",
       "      <td>0.300000</td>\n",
       "      <td>-0.200000</td>\n",
       "      <td>neg</td>\n",
       "      <td>CA</td>\n",
       "    </tr>\n",
       "    <tr>\n",
       "      <th>19</th>\n",
       "      <td>Stream Wheein's concept film video moos ❤️ \\n\\...</td>\n",
       "      <td>2</td>\n",
       "      <td>0.875000</td>\n",
       "      <td>0.612500</td>\n",
       "      <td>pos</td>\n",
       "      <td>CA</td>\n",
       "    </tr>\n",
       "    <tr>\n",
       "      <th>20</th>\n",
       "      <td>Here's the latest chart on what happened in TX...</td>\n",
       "      <td>141</td>\n",
       "      <td>0.900000</td>\n",
       "      <td>0.500000</td>\n",
       "      <td>pos</td>\n",
       "      <td>CA</td>\n",
       "    </tr>\n",
       "    <tr>\n",
       "      <th>21</th>\n",
       "      <td>Inside #CleanEnergy: What Happens When #Solar ...</td>\n",
       "      <td>5</td>\n",
       "      <td>0.200000</td>\n",
       "      <td>0.200000</td>\n",
       "      <td>pos</td>\n",
       "      <td>CA</td>\n",
       "    </tr>\n",
       "    <tr>\n",
       "      <th>22</th>\n",
       "      <td>We sell the most solar.</td>\n",
       "      <td>0</td>\n",
       "      <td>0.500000</td>\n",
       "      <td>0.500000</td>\n",
       "      <td>pos</td>\n",
       "      <td>CA</td>\n",
       "    </tr>\n",
       "    <tr>\n",
       "      <th>23</th>\n",
       "      <td>New Halal Report Card for Canadian Solar $CSIQ...</td>\n",
       "      <td>0</td>\n",
       "      <td>0.454545</td>\n",
       "      <td>0.136364</td>\n",
       "      <td>pos</td>\n",
       "      <td>CA</td>\n",
       "    </tr>\n",
       "    <tr>\n",
       "      <th>24</th>\n",
       "      <td>Voyager 1's Pale Blue Dot | NASA Solar System ...</td>\n",
       "      <td>0</td>\n",
       "      <td>0.140000</td>\n",
       "      <td>-0.105000</td>\n",
       "      <td>neg</td>\n",
       "      <td>CA</td>\n",
       "    </tr>\n",
       "    <tr>\n",
       "      <th>25</th>\n",
       "      <td>There goes #Texas messing with Texas.\\n\\nBunch...</td>\n",
       "      <td>0</td>\n",
       "      <td>0.900000</td>\n",
       "      <td>-0.500000</td>\n",
       "      <td>neg</td>\n",
       "      <td>CA</td>\n",
       "    </tr>\n",
       "    <tr>\n",
       "      <th>26</th>\n",
       "      <td>Right now TX's plans include\\n* 0 new nuclear ...</td>\n",
       "      <td>559</td>\n",
       "      <td>0.481602</td>\n",
       "      <td>0.186147</td>\n",
       "      <td>pos</td>\n",
       "      <td>CA</td>\n",
       "    </tr>\n",
       "    <tr>\n",
       "      <th>27</th>\n",
       "      <td>TX is having an electricity crisis during bad ...</td>\n",
       "      <td>452</td>\n",
       "      <td>0.583333</td>\n",
       "      <td>-0.350000</td>\n",
       "      <td>neg</td>\n",
       "      <td>CA</td>\n",
       "    </tr>\n",
       "    <tr>\n",
       "      <th>28</th>\n",
       "      <td>Experiencing low production from your #solarpa...</td>\n",
       "      <td>0</td>\n",
       "      <td>0.300000</td>\n",
       "      <td>0.000000</td>\n",
       "      <td>pos</td>\n",
       "      <td>CA</td>\n",
       "    </tr>\n",
       "    <tr>\n",
       "      <th>29</th>\n",
       "      <td>Sustainable with solar roof! Fisker Ocean EV !...</td>\n",
       "      <td>71</td>\n",
       "      <td>0.600000</td>\n",
       "      <td>0.500000</td>\n",
       "      <td>pos</td>\n",
       "      <td>CA</td>\n",
       "    </tr>\n",
       "    <tr>\n",
       "      <th>...</th>\n",
       "      <td>...</td>\n",
       "      <td>...</td>\n",
       "      <td>...</td>\n",
       "      <td>...</td>\n",
       "      <td>...</td>\n",
       "      <td>...</td>\n",
       "    </tr>\n",
       "    <tr>\n",
       "      <th>315</th>\n",
       "      <td>DW4988\\n🕒 2h | Current weather\\n\\nWind: 2.9 mp...</td>\n",
       "      <td>0</td>\n",
       "      <td>0.400000</td>\n",
       "      <td>0.000000</td>\n",
       "      <td>pos</td>\n",
       "      <td>UT</td>\n",
       "    </tr>\n",
       "    <tr>\n",
       "      <th>316</th>\n",
       "      <td>Australians can now exchange solar energy cred...</td>\n",
       "      <td>0</td>\n",
       "      <td>0.000000</td>\n",
       "      <td>0.000000</td>\n",
       "      <td>pos</td>\n",
       "      <td>UT</td>\n",
       "    </tr>\n",
       "    <tr>\n",
       "      <th>317</th>\n",
       "      <td>DW4988\\n🕒 1h | Current weather\\n\\nWind: 2.9 mp...</td>\n",
       "      <td>0</td>\n",
       "      <td>0.400000</td>\n",
       "      <td>0.000000</td>\n",
       "      <td>pos</td>\n",
       "      <td>UT</td>\n",
       "    </tr>\n",
       "    <tr>\n",
       "      <th>318</th>\n",
       "      <td>DW4988\\n🕒 0h | Current weather\\n\\nWind: 2.9 mp...</td>\n",
       "      <td>0</td>\n",
       "      <td>0.400000</td>\n",
       "      <td>0.000000</td>\n",
       "      <td>pos</td>\n",
       "      <td>UT</td>\n",
       "    </tr>\n",
       "    <tr>\n",
       "      <th>319</th>\n",
       "      <td>Larson's 2018 set was pretty great. I have all...</td>\n",
       "      <td>0</td>\n",
       "      <td>0.875000</td>\n",
       "      <td>0.525000</td>\n",
       "      <td>pos</td>\n",
       "      <td>UT</td>\n",
       "    </tr>\n",
       "    <tr>\n",
       "      <th>320</th>\n",
       "      <td>Researchers Develop Liquid That Absorbs And St...</td>\n",
       "      <td>0</td>\n",
       "      <td>0.000000</td>\n",
       "      <td>0.000000</td>\n",
       "      <td>pos</td>\n",
       "      <td>UT</td>\n",
       "    </tr>\n",
       "    <tr>\n",
       "      <th>321</th>\n",
       "      <td>DW4988\\n🕒 23h | Current weather\\n\\nWind: 2.0 m...</td>\n",
       "      <td>0</td>\n",
       "      <td>0.400000</td>\n",
       "      <td>0.000000</td>\n",
       "      <td>pos</td>\n",
       "      <td>UT</td>\n",
       "    </tr>\n",
       "    <tr>\n",
       "      <th>322</th>\n",
       "      <td>Solar farms in the Imperial Valley. Why has so...</td>\n",
       "      <td>0</td>\n",
       "      <td>0.500000</td>\n",
       "      <td>0.500000</td>\n",
       "      <td>pos</td>\n",
       "      <td>UT</td>\n",
       "    </tr>\n",
       "    <tr>\n",
       "      <th>323</th>\n",
       "      <td>✌ Alternative Energy Market to Witness Massive...</td>\n",
       "      <td>0</td>\n",
       "      <td>1.000000</td>\n",
       "      <td>0.000000</td>\n",
       "      <td>pos</td>\n",
       "      <td>UT</td>\n",
       "    </tr>\n",
       "    <tr>\n",
       "      <th>324</th>\n",
       "      <td>DW4988\\n🕒 22h | Current weather\\n\\nWind: 0.9 m...</td>\n",
       "      <td>0</td>\n",
       "      <td>0.400000</td>\n",
       "      <td>0.000000</td>\n",
       "      <td>pos</td>\n",
       "      <td>UT</td>\n",
       "    </tr>\n",
       "    <tr>\n",
       "      <th>325</th>\n",
       "      <td>Las Vegas NV USA - Sales Representative - Our ...</td>\n",
       "      <td>0</td>\n",
       "      <td>0.000000</td>\n",
       "      <td>0.000000</td>\n",
       "      <td>pos</td>\n",
       "      <td>UT</td>\n",
       "    </tr>\n",
       "    <tr>\n",
       "      <th>326</th>\n",
       "      <td>Imagine being so dense that you think the poin...</td>\n",
       "      <td>0</td>\n",
       "      <td>0.000000</td>\n",
       "      <td>0.000000</td>\n",
       "      <td>pos</td>\n",
       "      <td>UT</td>\n",
       "    </tr>\n",
       "    <tr>\n",
       "      <th>327</th>\n",
       "      <td>Working a solar project then next few days, sh...</td>\n",
       "      <td>0</td>\n",
       "      <td>0.250000</td>\n",
       "      <td>0.050000</td>\n",
       "      <td>pos</td>\n",
       "      <td>UT</td>\n",
       "    </tr>\n",
       "    <tr>\n",
       "      <th>328</th>\n",
       "      <td>DW4988\\n🕒 21h | Current weather\\n\\nWind: 4.0 m...</td>\n",
       "      <td>0</td>\n",
       "      <td>0.400000</td>\n",
       "      <td>0.000000</td>\n",
       "      <td>pos</td>\n",
       "      <td>UT</td>\n",
       "    </tr>\n",
       "    <tr>\n",
       "      <th>329</th>\n",
       "      <td>Biden Unveils What He Calls A 'Once-In-A-Gener...</td>\n",
       "      <td>0</td>\n",
       "      <td>0.000000</td>\n",
       "      <td>0.000000</td>\n",
       "      <td>pos</td>\n",
       "      <td>UT</td>\n",
       "    </tr>\n",
       "    <tr>\n",
       "      <th>330</th>\n",
       "      <td>Be warned. A solar company scam! Apricot solar...</td>\n",
       "      <td>0</td>\n",
       "      <td>0.000000</td>\n",
       "      <td>0.000000</td>\n",
       "      <td>pos</td>\n",
       "      <td>UT</td>\n",
       "    </tr>\n",
       "    <tr>\n",
       "      <th>331</th>\n",
       "      <td>Apple will use Tesla’s ‘megapack’ batteries at...</td>\n",
       "      <td>1</td>\n",
       "      <td>0.000000</td>\n",
       "      <td>0.000000</td>\n",
       "      <td>pos</td>\n",
       "      <td>UT</td>\n",
       "    </tr>\n",
       "    <tr>\n",
       "      <th>332</th>\n",
       "      <td>DW4988\\n🕒 20h | Current weather\\n\\nWind: 2.9 m...</td>\n",
       "      <td>0</td>\n",
       "      <td>0.400000</td>\n",
       "      <td>0.000000</td>\n",
       "      <td>pos</td>\n",
       "      <td>UT</td>\n",
       "    </tr>\n",
       "    <tr>\n",
       "      <th>333</th>\n",
       "      <td>We’ve touched a lot of homes over the years an...</td>\n",
       "      <td>0</td>\n",
       "      <td>0.000000</td>\n",
       "      <td>0.000000</td>\n",
       "      <td>pos</td>\n",
       "      <td>UT</td>\n",
       "    </tr>\n",
       "    <tr>\n",
       "      <th>334</th>\n",
       "      <td>DW4988\\n🕒 19h | Current weather\\n\\nWind: 6.9 m...</td>\n",
       "      <td>0</td>\n",
       "      <td>0.400000</td>\n",
       "      <td>0.000000</td>\n",
       "      <td>pos</td>\n",
       "      <td>UT</td>\n",
       "    </tr>\n",
       "    <tr>\n",
       "      <th>335</th>\n",
       "      <td>Come say \"hi\" to The #RV Addict as we install ...</td>\n",
       "      <td>1</td>\n",
       "      <td>0.260606</td>\n",
       "      <td>-0.015152</td>\n",
       "      <td>neg</td>\n",
       "      <td>UT</td>\n",
       "    </tr>\n",
       "    <tr>\n",
       "      <th>336</th>\n",
       "      <td>DW4988\\n🕒 18h | Current weather\\n\\nWind: 4.9 m...</td>\n",
       "      <td>0</td>\n",
       "      <td>0.400000</td>\n",
       "      <td>0.000000</td>\n",
       "      <td>pos</td>\n",
       "      <td>UT</td>\n",
       "    </tr>\n",
       "    <tr>\n",
       "      <th>337</th>\n",
       "      <td>NovaSource Power Services is World's Largest S...</td>\n",
       "      <td>0</td>\n",
       "      <td>0.166667</td>\n",
       "      <td>0.125000</td>\n",
       "      <td>pos</td>\n",
       "      <td>UT</td>\n",
       "    </tr>\n",
       "    <tr>\n",
       "      <th>338</th>\n",
       "      <td>I don't know who is but that is a long time to...</td>\n",
       "      <td>0</td>\n",
       "      <td>0.400000</td>\n",
       "      <td>-0.050000</td>\n",
       "      <td>neg</td>\n",
       "      <td>UT</td>\n",
       "    </tr>\n",
       "    <tr>\n",
       "      <th>339</th>\n",
       "      <td>DW4988\\n🕒 17h | Current weather\\n\\nWind: 4.0 m...</td>\n",
       "      <td>0</td>\n",
       "      <td>0.400000</td>\n",
       "      <td>0.000000</td>\n",
       "      <td>pos</td>\n",
       "      <td>UT</td>\n",
       "    </tr>\n",
       "    <tr>\n",
       "      <th>340</th>\n",
       "      <td>The new base camp tent really helped. Just sli...</td>\n",
       "      <td>0</td>\n",
       "      <td>0.413636</td>\n",
       "      <td>-0.115909</td>\n",
       "      <td>neg</td>\n",
       "      <td>UT</td>\n",
       "    </tr>\n",
       "    <tr>\n",
       "      <th>341</th>\n",
       "      <td>DW4988\\n🕒 16h | Current weather\\n\\nWind: 4.0 m...</td>\n",
       "      <td>0</td>\n",
       "      <td>0.400000</td>\n",
       "      <td>0.000000</td>\n",
       "      <td>pos</td>\n",
       "      <td>UT</td>\n",
       "    </tr>\n",
       "    <tr>\n",
       "      <th>342</th>\n",
       "      <td>Because of the hundreds of Wyoming citizens li...</td>\n",
       "      <td>1</td>\n",
       "      <td>0.000000</td>\n",
       "      <td>0.000000</td>\n",
       "      <td>pos</td>\n",
       "      <td>UT</td>\n",
       "    </tr>\n",
       "    <tr>\n",
       "      <th>344</th>\n",
       "      <td>Because of the hundreds of Wyoming citizens li...</td>\n",
       "      <td>1</td>\n",
       "      <td>0.000000</td>\n",
       "      <td>0.000000</td>\n",
       "      <td>pos</td>\n",
       "      <td>UT</td>\n",
       "    </tr>\n",
       "    <tr>\n",
       "      <th>345</th>\n",
       "      <td>Skin be like solar panel wey absorb sun</td>\n",
       "      <td>0</td>\n",
       "      <td>0.000000</td>\n",
       "      <td>0.000000</td>\n",
       "      <td>pos</td>\n",
       "      <td>UT</td>\n",
       "    </tr>\n",
       "  </tbody>\n",
       "</table>\n",
       "<p>2184 rows × 6 columns</p>\n",
       "</div>"
      ],
      "text/plain": [
       "                                                 Tweet  Retweet Count  \\\n",
       "0    Size of raindrops can help identify potentiall...              0   \n",
       "1    New study ties solar variability to the onset ...              0   \n",
       "2    It's just an erector set in the middle of a ar...              0   \n",
       "3    15 days since Tesla recognized they also have ...              1   \n",
       "4    #PPOD: This image is extraordinary. It shows a...             88   \n",
       "..                                                 ...            ...   \n",
       "340  The new base camp tent really helped. Just sli...              0   \n",
       "341  DW4988\\n🕒 16h | Current weather\\n\\nWind: 4.0 m...              0   \n",
       "342  Because of the hundreds of Wyoming citizens li...              1   \n",
       "344  Because of the hundreds of Wyoming citizens li...              1   \n",
       "345           Skin be like solar panel wey absorb sun               0   \n",
       "\n",
       "     Subjectivity  Polarity Classification State  \n",
       "0        0.525000  0.000000            pos    CA  \n",
       "1        0.454545  0.136364            pos    CA  \n",
       "2        0.245833  0.100000            pos    CA  \n",
       "3        0.000000  0.000000            pos    CA  \n",
       "4        1.000000  0.333333            pos    CA  \n",
       "..            ...       ...            ...   ...  \n",
       "340      0.413636 -0.115909            neg    UT  \n",
       "341      0.400000  0.000000            pos    UT  \n",
       "342      0.000000  0.000000            pos    UT  \n",
       "344      0.000000  0.000000            pos    UT  \n",
       "345      0.000000  0.000000            pos    UT  \n",
       "\n",
       "[2184 rows x 6 columns]"
      ]
     },
     "execution_count": 109,
     "metadata": {},
     "output_type": "execute_result"
    }
   ],
   "source": [
    "all_df = pd.concat([ca_df, nc_df, az_df, nv_df, nj_df, ma_df, tx_df, ut_df])\n",
    "\n",
    "all_df.head(-20)"
   ]
  },
  {
   "cell_type": "markdown",
   "metadata": {},
   "source": [
    "Now we have 2184 rows with all tweets we collected. Let's calculate how many negative and positive tweets we have across all eight states."
   ]
  },
  {
   "cell_type": "code",
   "execution_count": 110,
   "metadata": {},
   "outputs": [
    {
     "name": "stdout",
     "output_type": "stream",
     "text": [
      "There are 89.61 of positive tweets across states with the largest installed solar capacity\n"
     ]
    }
   ],
   "source": [
    "positive = all_df[all_df['Classification'] == 'pos']\n",
    "positive_share = round(positive.shape[0]/(all_df.shape[0])*100, 2)\n",
    "\n",
    "print(f'There are {positive_share} of positive tweets across states with the largest installed solar capacity')"
   ]
  },
  {
   "cell_type": "markdown",
   "metadata": {},
   "source": [
    "89.6% of positive tweets shows that Twitter audience favor solar topic a lot. Let's visualize positive and negative tweets on a plot"
   ]
  },
  {
   "cell_type": "code",
   "execution_count": 126,
   "metadata": {
    "scrolled": true
   },
   "outputs": [
    {
     "data": {
      "image/png": "[encoded data removed]",
      "text/plain": [
       "<Figure size 1080x720 with 1 Axes>"
      ]
     },
     "metadata": {
      "needs_background": "light"
     },
     "output_type": "display_data"
    }
   ],
   "source": [
    "labels = all_df.groupby('Classification').count().index.values\n",
    "values = all_df.groupby('Classification').size().values\n",
    "plt.rcParams['figure.figsize'] = (15, 10)\n",
    "\n",
    "plt.bar(labels, values)\n",
    "plt.title('Positive and Negative tweets on solar topic', fontsize=16)\n",
    "\n",
    "plt.show()"
   ]
  },
  {
   "cell_type": "markdown",
   "metadata": {},
   "source": [
    "Let's also display negatively and positively classified tweets on a scatter plot and see how they are distributes based on polartity and subjectivity metrics:"
   ]
  },
  {
   "cell_type": "code",
   "execution_count": 139,
   "metadata": {},
   "outputs": [
    {
     "data": {
      "image/png": "[encoded data removed]",
      "text/plain": [
       "<Figure size 1440x1080 with 1 Axes>"
      ]
     },
     "metadata": {
      "needs_background": "light"
     },
     "output_type": "display_data"
    }
   ],
   "source": [
    "fig, ax = plt.subplots(figsize=(20, 15))\n",
    "\n",
    "colors = ['tomato', 'royalblue']\n",
    "color_labels = ['pos', 'neg']\n",
    "color_map = dict(zip(color_labels, colors))\n",
    "\n",
    "plt.scatter(all_df['Polarity'], all_df['Subjectivity'], c=all_df['Classification'].map(color_map))\n",
    "\n",
    "plt.title('Twitter Sentiment Analysis on solar topic', fontsize=16)\n",
    "plt.xlabel('Polarity', fontsize=16)\n",
    "plt.ylabel('Subjectivity', fontsize=16)\n",
    "plt.show()"
   ]
  },
  {
   "cell_type": "markdown",
   "metadata": {},
   "source": [
    "On the scatterplot above we can see that polarity increases with subjectivity. In other words, among the tweets estimated as most sujective we can see the largest polarity values.\n",
    "\n",
    "Tweets with low subjectivity values tend to be more positive, so we can can conclude that Twitter users in states with largest installed solar capacity tend to be positive about solar. Though among probably subjective tweets we can meed all specter of opinions."
   ]
  },
  {
   "cell_type": "markdown",
   "metadata": {},
   "source": [
    "For the final part of Twitter sentiment analysis let's download NLTK Twitter samples and use NLTK Naive Bayes Classifier model on our categorized tweets."
   ]
  },
  {
   "cell_type": "markdown",
   "metadata": {},
   "source": [
    "## Sentiment Analysis using Naive Bayes Classifier"
   ]
  },
  {
   "cell_type": "code",
   "execution_count": 140,
   "metadata": {},
   "outputs": [
    {
     "name": "stderr",
     "output_type": "stream",
     "text": [
      "[nltk_data] Downloading package twitter_samples to\n",
      "[nltk_data]     C:\\Users\\surov\\AppData\\Roaming\\nltk_data...\n",
      "[nltk_data]   Package twitter_samples is already up-to-date!\n"
     ]
    },
    {
     "data": {
      "text/plain": [
       "True"
      ]
     },
     "execution_count": 140,
     "metadata": {},
     "output_type": "execute_result"
    }
   ],
   "source": [
    "nltk.download('twitter_samples')"
   ]
  },
  {
   "cell_type": "code",
   "execution_count": 141,
   "metadata": {},
   "outputs": [],
   "source": [
    "from nltk.corpus import twitter_samples"
   ]
  },
  {
   "cell_type": "markdown",
   "metadata": {},
   "source": [
    "Essentially, NLTK corpora has three JSON files with Twitter samples:\n",
    "* positively and negatively classified tweets;\n",
    "* tweet samples"
   ]
  },
  {
   "cell_type": "code",
   "execution_count": 142,
   "metadata": {},
   "outputs": [
    {
     "data": {
      "text/plain": [
       "['negative_tweets.json', 'positive_tweets.json', 'tweets.20150430-223406.json']"
      ]
     },
     "execution_count": 142,
     "metadata": {},
     "output_type": "execute_result"
    }
   ],
   "source": [
    "twitter_samples.fileids()"
   ]
  },
  {
   "cell_type": "code",
   "execution_count": 143,
   "metadata": {},
   "outputs": [
    {
     "name": "stdout",
     "output_type": "stream",
     "text": [
      "5000 ;  5000\n"
     ]
    }
   ],
   "source": [
    "positive_tweets = twitter_samples.strings('positive_tweets.json')\n",
    "negative_tweets = twitter_samples.strings('negative_tweets.json')\n",
    "\n",
    "print (len(positive_tweets), '; ', len(negative_tweets))"
   ]
  },
  {
   "cell_type": "markdown",
   "metadata": {},
   "source": [
    "NLTK Corpora provides 10,000 sample tweets, 5,000 positive tweets and 5,000 negative tweets. Let's take a look at some of them."
   ]
  },
  {
   "cell_type": "code",
   "execution_count": 144,
   "metadata": {},
   "outputs": [
    {
     "data": {
      "text/plain": [
       "['#FollowFriday @France_Inte @PKuchly57 @Milipol_Paris for being top engaged members in my community this week :)',\n",
       " '@Lamb2ja Hey James! How odd :/ Please call our Contact Centre on 02392441234 and we will be able to assist you :) Many thanks!',\n",
       " '@DespiteOfficial we had a listen last night :) As You Bleed is an amazing track. When are you in Scotland?!',\n",
       " '@97sides CONGRATS :)',\n",
       " 'yeaaaah yippppy!!!  my accnt verified rqst has succeed got a blue tick mark on my fb profile :) in 15 days',\n",
       " '@BhaktisBanter @PallaviRuhail This one is irresistible :)\\n#FlipkartFashionFriday http://t.co/EbZ0L2VENM',\n",
       " \"We don't like to keep our lovely customers waiting for long! We hope you enjoy! Happy Friday! - LWWF :) https://t.co/smyYriipxI\",\n",
       " '@Impatientraider On second thought, there’s just not enough time for a DD :) But new shorts entering system. Sheep must be buying.',\n",
       " 'Jgh , but we have to go to Bayan :D bye',\n",
       " 'As an act of mischievousness, am calling the ETL layer of our in-house warehousing app Katamari.\\n\\nWell… as the name implies :p.']"
      ]
     },
     "execution_count": 144,
     "metadata": {},
     "output_type": "execute_result"
    }
   ],
   "source": [
    "positive_tweets[:10]"
   ]
  },
  {
   "cell_type": "markdown",
   "metadata": {},
   "source": [
    "We can see that sample tweets have mentions and URL we have cleaned up from our data. Let's repeat cleaning for NLTK tweet samples as well."
   ]
  },
  {
   "cell_type": "code",
   "execution_count": 145,
   "metadata": {},
   "outputs": [
    {
     "data": {
      "text/plain": [
       "['#FollowFriday for being top engaged members in my community this week :)',\n",
       " 'Hey James! How odd :/ Please call our Contact Centre on 02392441234 and we will be able to assist you :) Many thanks!',\n",
       " 'we had a listen last night :) As You Bleed is an amazing track. When are you in Scotland?!',\n",
       " 'CONGRATS :)',\n",
       " 'yeaaaah yippppy!!!  my accnt verified rqst has succeed got a blue tick mark on my fb profile :) in 15 days',\n",
       " 'This one is irresistible :)\\n#FlipkartFashionFriday ',\n",
       " \"We don't like to keep our lovely customers waiting for long! We hope you enjoy! Happy Friday! - LWWF :) \",\n",
       " 'On second thought, there’s just not enough time for a DD :) But new shorts entering system. Sheep must be buying.',\n",
       " 'Jgh , but we have to go to Bayan :D bye',\n",
       " 'As an act of mischievousness, am calling the ETL layer of our in-house warehousing app Katamari.\\n\\nWell… as the name implies :p.']"
      ]
     },
     "execution_count": 145,
     "metadata": {},
     "output_type": "execute_result"
    }
   ],
   "source": [
    "positive_tweets_filtered = []\n",
    "negative_tweets_filtered = []\n",
    "\n",
    "for x in positive_tweets:\n",
    "    positive_tweets_filtered.append(clean_up_tweets(x))\n",
    "\n",
    "for x in negative_tweets:\n",
    "    negative_tweets_filtered.append(clean_up_tweets(x))\n",
    "    \n",
    "positive_tweets_filtered[:10]"
   ]
  },
  {
   "cell_type": "markdown",
   "metadata": {},
   "source": [
    "In order to implement classification we need tokenize our datasets and also remove punctuation. We will use NLTK corpora to download stopwords and punctuation characters."
   ]
  },
  {
   "cell_type": "code",
   "execution_count": 146,
   "metadata": {},
   "outputs": [
    {
     "name": "stderr",
     "output_type": "stream",
     "text": [
      "[nltk_data] Downloading package punkt to\n",
      "[nltk_data]     C:\\Users\\surov\\AppData\\Roaming\\nltk_data...\n",
      "[nltk_data]   Package punkt is already up-to-date!\n",
      "[nltk_data] Downloading package stopwords to\n",
      "[nltk_data]     C:\\Users\\surov\\AppData\\Roaming\\nltk_data...\n",
      "[nltk_data]   Package stopwords is already up-to-date!\n"
     ]
    },
    {
     "data": {
      "text/plain": [
       "True"
      ]
     },
     "execution_count": 146,
     "metadata": {},
     "output_type": "execute_result"
    }
   ],
   "source": [
    "nltk.download('punkt')\n",
    "nltk.download('stopwords')"
   ]
  },
  {
   "cell_type": "code",
   "execution_count": 147,
   "metadata": {},
   "outputs": [],
   "source": [
    "useless_words = nltk.corpus.stopwords.words('english') + list(string.punctuation)"
   ]
  },
  {
   "cell_type": "markdown",
   "metadata": {},
   "source": [
    "Now let's create functions for creating feature dictionary for our classification model."
   ]
  },
  {
   "cell_type": "code",
   "execution_count": 148,
   "metadata": {},
   "outputs": [
    {
     "name": "stdout",
     "output_type": "stream",
     "text": [
      "['i', 'me', 'my', 'myself', 'we', 'our', 'ours', 'ourselves', 'you', \"you're\", \"you've\", \"you'll\", \"you'd\", 'your', 'yours', 'yourself', 'yourselves', 'he', 'him', 'his', 'himself', 'she', \"she's\", 'her', 'hers', 'herself', 'it', \"it's\", 'its', 'itself', 'they', 'them', 'their', 'theirs', 'themselves', 'what', 'which', 'who', 'whom', 'this', 'that', \"that'll\", 'these', 'those', 'am', 'is', 'are', 'was', 'were', 'be', 'been', 'being', 'have', 'has', 'had', 'having', 'do', 'does', 'did', 'doing', 'a', 'an', 'the', 'and', 'but', 'if', 'or', 'because', 'as', 'until', 'while', 'of', 'at', 'by', 'for', 'with', 'about', 'against', 'between', 'into', 'through', 'during', 'before', 'after', 'above', 'below', 'to', 'from', 'up', 'down', 'in', 'out', 'on', 'off', 'over', 'under', 'again', 'further', 'then', 'once']\n"
     ]
    }
   ],
   "source": [
    "def bag_word_features_filter(words):\n",
    "    return{\n",
    "        word:1 for word in words \\\n",
    "        if not word in useless_words\n",
    "    }\n",
    "\n",
    "def get_filtered_words_list(words):\n",
    "    return [word.lower() for word in words if not word in useless_words]\n",
    "\n",
    "print(useless_words[:100])"
   ]
  },
  {
   "cell_type": "markdown",
   "metadata": {},
   "source": [
    "Now we can tokenize our tweets."
   ]
  },
  {
   "cell_type": "code",
   "execution_count": 149,
   "metadata": {},
   "outputs": [],
   "source": [
    "all_df['Words'] = all_df['Tweet'].apply(nltk.word_tokenize)"
   ]
  },
  {
   "cell_type": "code",
   "execution_count": 150,
   "metadata": {},
   "outputs": [
    {
     "data": {
      "text/html": [
       "<div>\n",
       "<style scoped>\n",
       "    .dataframe tbody tr th:only-of-type {\n",
       "        vertical-align: middle;\n",
       "    }\n",
       "\n",
       "    .dataframe tbody tr th {\n",
       "        vertical-align: top;\n",
       "    }\n",
       "\n",
       "    .dataframe thead th {\n",
       "        text-align: right;\n",
       "    }\n",
       "</style>\n",
       "<table border=\"1\" class=\"dataframe\">\n",
       "  <thead>\n",
       "    <tr style=\"text-align: right;\">\n",
       "      <th></th>\n",
       "      <th>Tweet</th>\n",
       "      <th>Retweet Count</th>\n",
       "      <th>Subjectivity</th>\n",
       "      <th>Polarity</th>\n",
       "      <th>Classification</th>\n",
       "      <th>State</th>\n",
       "      <th>Words</th>\n",
       "    </tr>\n",
       "  </thead>\n",
       "  <tbody>\n",
       "    <tr>\n",
       "      <th>0</th>\n",
       "      <td>Size of raindrops can help identify potentiall...</td>\n",
       "      <td>0</td>\n",
       "      <td>0.525000</td>\n",
       "      <td>0.000000</td>\n",
       "      <td>pos</td>\n",
       "      <td>CA</td>\n",
       "      <td>[Size, of, raindrops, can, help, identify, pot...</td>\n",
       "    </tr>\n",
       "    <tr>\n",
       "      <th>1</th>\n",
       "      <td>New study ties solar variability to the onset ...</td>\n",
       "      <td>0</td>\n",
       "      <td>0.454545</td>\n",
       "      <td>0.136364</td>\n",
       "      <td>pos</td>\n",
       "      <td>CA</td>\n",
       "      <td>[New, study, ties, solar, variability, to, the...</td>\n",
       "    </tr>\n",
       "    <tr>\n",
       "      <th>2</th>\n",
       "      <td>It's just an erector set in the middle of a ar...</td>\n",
       "      <td>0</td>\n",
       "      <td>0.245833</td>\n",
       "      <td>0.100000</td>\n",
       "      <td>pos</td>\n",
       "      <td>CA</td>\n",
       "      <td>[It, 's, just, an, erector, set, in, the, midd...</td>\n",
       "    </tr>\n",
       "    <tr>\n",
       "      <th>3</th>\n",
       "      <td>15 days since Tesla recognized they also have ...</td>\n",
       "      <td>1</td>\n",
       "      <td>0.000000</td>\n",
       "      <td>0.000000</td>\n",
       "      <td>pos</td>\n",
       "      <td>CA</td>\n",
       "      <td>[15, days, since, Tesla, recognized, they, als...</td>\n",
       "    </tr>\n",
       "    <tr>\n",
       "      <th>4</th>\n",
       "      <td>#PPOD: This image is extraordinary. It shows a...</td>\n",
       "      <td>88</td>\n",
       "      <td>1.000000</td>\n",
       "      <td>0.333333</td>\n",
       "      <td>pos</td>\n",
       "      <td>CA</td>\n",
       "      <td>[#, PPOD, :, This, image, is, extraordinary, ....</td>\n",
       "    </tr>\n",
       "    <tr>\n",
       "      <th>5</th>\n",
       "      <td>Tesla Giga Nevada Adds More Solar Panels in Co...</td>\n",
       "      <td>9</td>\n",
       "      <td>0.500000</td>\n",
       "      <td>0.500000</td>\n",
       "      <td>pos</td>\n",
       "      <td>CA</td>\n",
       "      <td>[Tesla, Giga, Nevada, Adds, More, Solar, Panel...</td>\n",
       "    </tr>\n",
       "    <tr>\n",
       "      <th>6</th>\n",
       "      <td>Stream Wheein's concept film video moos ❤️ \\n\\...</td>\n",
       "      <td>2</td>\n",
       "      <td>0.583333</td>\n",
       "      <td>0.408333</td>\n",
       "      <td>pos</td>\n",
       "      <td>CA</td>\n",
       "      <td>[Stream, Wheein, 's, concept, film, video, moo...</td>\n",
       "    </tr>\n",
       "    <tr>\n",
       "      <th>7</th>\n",
       "      <td>#Minnesota’s community #solar program leads th...</td>\n",
       "      <td>3</td>\n",
       "      <td>0.000000</td>\n",
       "      <td>0.000000</td>\n",
       "      <td>pos</td>\n",
       "      <td>CA</td>\n",
       "      <td>[#, Minnesota, ’, s, community, #, solar, prog...</td>\n",
       "    </tr>\n",
       "    <tr>\n",
       "      <th>8</th>\n",
       "      <td>The “Magical” of using Tesla Solar System with...</td>\n",
       "      <td>28</td>\n",
       "      <td>1.000000</td>\n",
       "      <td>0.250000</td>\n",
       "      <td>pos</td>\n",
       "      <td>CA</td>\n",
       "      <td>[The, “, Magical, ”, of, using, Tesla, Solar, ...</td>\n",
       "    </tr>\n",
       "    <tr>\n",
       "      <th>9</th>\n",
       "      <td>China's green hydrogen gigafactories are comin...</td>\n",
       "      <td>5</td>\n",
       "      <td>0.300000</td>\n",
       "      <td>-0.200000</td>\n",
       "      <td>neg</td>\n",
       "      <td>CA</td>\n",
       "      <td>[China, 's, green, hydrogen, gigafactories, ar...</td>\n",
       "    </tr>\n",
       "    <tr>\n",
       "      <th>10</th>\n",
       "      <td>I hereby declare today Renewable Blackout Day,...</td>\n",
       "      <td>405</td>\n",
       "      <td>0.000000</td>\n",
       "      <td>0.000000</td>\n",
       "      <td>pos</td>\n",
       "      <td>CA</td>\n",
       "      <td>[I, hereby, declare, today, Renewable, Blackou...</td>\n",
       "    </tr>\n",
       "    <tr>\n",
       "      <th>11</th>\n",
       "      <td>#FunFactFriday: The Pacific Wheel, the world's...</td>\n",
       "      <td>4</td>\n",
       "      <td>0.333333</td>\n",
       "      <td>0.250000</td>\n",
       "      <td>pos</td>\n",
       "      <td>CA</td>\n",
       "      <td>[#, FunFactFriday, :, The, Pacific, Wheel, ,, ...</td>\n",
       "    </tr>\n",
       "    <tr>\n",
       "      <th>12</th>\n",
       "      <td>Buy box in terms of property specific... no so...</td>\n",
       "      <td>0</td>\n",
       "      <td>0.112500</td>\n",
       "      <td>0.000000</td>\n",
       "      <td>pos</td>\n",
       "      <td>CA</td>\n",
       "      <td>[Buy, box, in, terms, of, property, specific, ...</td>\n",
       "    </tr>\n",
       "    <tr>\n",
       "      <th>13</th>\n",
       "      <td>There is a lot of conflicting \"information\" ab...</td>\n",
       "      <td>6744</td>\n",
       "      <td>0.000000</td>\n",
       "      <td>0.000000</td>\n",
       "      <td>pos</td>\n",
       "      <td>CA</td>\n",
       "      <td>[There, is, a, lot, of, conflicting, ``, infor...</td>\n",
       "    </tr>\n",
       "    <tr>\n",
       "      <th>14</th>\n",
       "      <td>SunPower’s own shares with Bloomberg why creat...</td>\n",
       "      <td>4</td>\n",
       "      <td>1.000000</td>\n",
       "      <td>0.600000</td>\n",
       "      <td>pos</td>\n",
       "      <td>CA</td>\n",
       "      <td>[SunPower, ’, s, own, shares, with, Bloomberg,...</td>\n",
       "    </tr>\n",
       "    <tr>\n",
       "      <th>15</th>\n",
       "      <td>When it comes to clean energy, 2021 is off to ...</td>\n",
       "      <td>5</td>\n",
       "      <td>0.505556</td>\n",
       "      <td>0.388889</td>\n",
       "      <td>pos</td>\n",
       "      <td>CA</td>\n",
       "      <td>[When, it, comes, to, clean, energy, ,, 2021, ...</td>\n",
       "    </tr>\n",
       "    <tr>\n",
       "      <th>16</th>\n",
       "      <td>15 days since Tesla recognized they also have ...</td>\n",
       "      <td>1</td>\n",
       "      <td>0.000000</td>\n",
       "      <td>0.000000</td>\n",
       "      <td>pos</td>\n",
       "      <td>CA</td>\n",
       "      <td>[15, days, since, Tesla, recognized, they, als...</td>\n",
       "    </tr>\n",
       "    <tr>\n",
       "      <th>17</th>\n",
       "      <td>so what you're saying is you haven't done the ...</td>\n",
       "      <td>0</td>\n",
       "      <td>0.000000</td>\n",
       "      <td>0.000000</td>\n",
       "      <td>pos</td>\n",
       "      <td>CA</td>\n",
       "      <td>[so, what, you, 're, saying, is, you, have, n'...</td>\n",
       "    </tr>\n",
       "    <tr>\n",
       "      <th>18</th>\n",
       "      <td>China’s Longi Green Energy Technology to Join ...</td>\n",
       "      <td>0</td>\n",
       "      <td>0.300000</td>\n",
       "      <td>-0.200000</td>\n",
       "      <td>neg</td>\n",
       "      <td>CA</td>\n",
       "      <td>[China, ’, s, Longi, Green, Energy, Technology...</td>\n",
       "    </tr>\n",
       "    <tr>\n",
       "      <th>19</th>\n",
       "      <td>Stream Wheein's concept film video moos ❤️ \\n\\...</td>\n",
       "      <td>2</td>\n",
       "      <td>0.875000</td>\n",
       "      <td>0.612500</td>\n",
       "      <td>pos</td>\n",
       "      <td>CA</td>\n",
       "      <td>[Stream, Wheein, 's, concept, film, video, moo...</td>\n",
       "    </tr>\n",
       "    <tr>\n",
       "      <th>20</th>\n",
       "      <td>Here's the latest chart on what happened in TX...</td>\n",
       "      <td>141</td>\n",
       "      <td>0.900000</td>\n",
       "      <td>0.500000</td>\n",
       "      <td>pos</td>\n",
       "      <td>CA</td>\n",
       "      <td>[Here, 's, the, latest, chart, on, what, happe...</td>\n",
       "    </tr>\n",
       "    <tr>\n",
       "      <th>21</th>\n",
       "      <td>Inside #CleanEnergy: What Happens When #Solar ...</td>\n",
       "      <td>5</td>\n",
       "      <td>0.200000</td>\n",
       "      <td>0.200000</td>\n",
       "      <td>pos</td>\n",
       "      <td>CA</td>\n",
       "      <td>[Inside, #, CleanEnergy, :, What, Happens, Whe...</td>\n",
       "    </tr>\n",
       "    <tr>\n",
       "      <th>22</th>\n",
       "      <td>We sell the most solar.</td>\n",
       "      <td>0</td>\n",
       "      <td>0.500000</td>\n",
       "      <td>0.500000</td>\n",
       "      <td>pos</td>\n",
       "      <td>CA</td>\n",
       "      <td>[We, sell, the, most, solar, .]</td>\n",
       "    </tr>\n",
       "    <tr>\n",
       "      <th>23</th>\n",
       "      <td>New Halal Report Card for Canadian Solar $CSIQ...</td>\n",
       "      <td>0</td>\n",
       "      <td>0.454545</td>\n",
       "      <td>0.136364</td>\n",
       "      <td>pos</td>\n",
       "      <td>CA</td>\n",
       "      <td>[New, Halal, Report, Card, for, Canadian, Sola...</td>\n",
       "    </tr>\n",
       "    <tr>\n",
       "      <th>24</th>\n",
       "      <td>Voyager 1's Pale Blue Dot | NASA Solar System ...</td>\n",
       "      <td>0</td>\n",
       "      <td>0.140000</td>\n",
       "      <td>-0.105000</td>\n",
       "      <td>neg</td>\n",
       "      <td>CA</td>\n",
       "      <td>[Voyager, 1, 's, Pale, Blue, Dot, |, NASA, Sol...</td>\n",
       "    </tr>\n",
       "    <tr>\n",
       "      <th>25</th>\n",
       "      <td>There goes #Texas messing with Texas.\\n\\nBunch...</td>\n",
       "      <td>0</td>\n",
       "      <td>0.900000</td>\n",
       "      <td>-0.500000</td>\n",
       "      <td>neg</td>\n",
       "      <td>CA</td>\n",
       "      <td>[There, goes, #, Texas, messing, with, Texas, ...</td>\n",
       "    </tr>\n",
       "    <tr>\n",
       "      <th>26</th>\n",
       "      <td>Right now TX's plans include\\n* 0 new nuclear ...</td>\n",
       "      <td>559</td>\n",
       "      <td>0.481602</td>\n",
       "      <td>0.186147</td>\n",
       "      <td>pos</td>\n",
       "      <td>CA</td>\n",
       "      <td>[Right, now, TX, 's, plans, include, *, 0, new...</td>\n",
       "    </tr>\n",
       "    <tr>\n",
       "      <th>27</th>\n",
       "      <td>TX is having an electricity crisis during bad ...</td>\n",
       "      <td>452</td>\n",
       "      <td>0.583333</td>\n",
       "      <td>-0.350000</td>\n",
       "      <td>neg</td>\n",
       "      <td>CA</td>\n",
       "      <td>[TX, is, having, an, electricity, crisis, duri...</td>\n",
       "    </tr>\n",
       "    <tr>\n",
       "      <th>28</th>\n",
       "      <td>Experiencing low production from your #solarpa...</td>\n",
       "      <td>0</td>\n",
       "      <td>0.300000</td>\n",
       "      <td>0.000000</td>\n",
       "      <td>pos</td>\n",
       "      <td>CA</td>\n",
       "      <td>[Experiencing, low, production, from, your, #,...</td>\n",
       "    </tr>\n",
       "    <tr>\n",
       "      <th>29</th>\n",
       "      <td>Sustainable with solar roof! Fisker Ocean EV !...</td>\n",
       "      <td>71</td>\n",
       "      <td>0.600000</td>\n",
       "      <td>0.500000</td>\n",
       "      <td>pos</td>\n",
       "      <td>CA</td>\n",
       "      <td>[Sustainable, with, solar, roof, !, Fisker, Oc...</td>\n",
       "    </tr>\n",
       "    <tr>\n",
       "      <th>...</th>\n",
       "      <td>...</td>\n",
       "      <td>...</td>\n",
       "      <td>...</td>\n",
       "      <td>...</td>\n",
       "      <td>...</td>\n",
       "      <td>...</td>\n",
       "      <td>...</td>\n",
       "    </tr>\n",
       "    <tr>\n",
       "      <th>315</th>\n",
       "      <td>DW4988\\n🕒 2h | Current weather\\n\\nWind: 2.9 mp...</td>\n",
       "      <td>0</td>\n",
       "      <td>0.400000</td>\n",
       "      <td>0.000000</td>\n",
       "      <td>pos</td>\n",
       "      <td>UT</td>\n",
       "      <td>[DW4988, 🕒, 2h, |, Current, weather, Wind, :, ...</td>\n",
       "    </tr>\n",
       "    <tr>\n",
       "      <th>316</th>\n",
       "      <td>Australians can now exchange solar energy cred...</td>\n",
       "      <td>0</td>\n",
       "      <td>0.000000</td>\n",
       "      <td>0.000000</td>\n",
       "      <td>pos</td>\n",
       "      <td>UT</td>\n",
       "      <td>[Australians, can, now, exchange, solar, energ...</td>\n",
       "    </tr>\n",
       "    <tr>\n",
       "      <th>317</th>\n",
       "      <td>DW4988\\n🕒 1h | Current weather\\n\\nWind: 2.9 mp...</td>\n",
       "      <td>0</td>\n",
       "      <td>0.400000</td>\n",
       "      <td>0.000000</td>\n",
       "      <td>pos</td>\n",
       "      <td>UT</td>\n",
       "      <td>[DW4988, 🕒, 1h, |, Current, weather, Wind, :, ...</td>\n",
       "    </tr>\n",
       "    <tr>\n",
       "      <th>318</th>\n",
       "      <td>DW4988\\n🕒 0h | Current weather\\n\\nWind: 2.9 mp...</td>\n",
       "      <td>0</td>\n",
       "      <td>0.400000</td>\n",
       "      <td>0.000000</td>\n",
       "      <td>pos</td>\n",
       "      <td>UT</td>\n",
       "      <td>[DW4988, 🕒, 0h, |, Current, weather, Wind, :, ...</td>\n",
       "    </tr>\n",
       "    <tr>\n",
       "      <th>319</th>\n",
       "      <td>Larson's 2018 set was pretty great. I have all...</td>\n",
       "      <td>0</td>\n",
       "      <td>0.875000</td>\n",
       "      <td>0.525000</td>\n",
       "      <td>pos</td>\n",
       "      <td>UT</td>\n",
       "      <td>[Larson, 's, 2018, set, was, pretty, great, .,...</td>\n",
       "    </tr>\n",
       "    <tr>\n",
       "      <th>320</th>\n",
       "      <td>Researchers Develop Liquid That Absorbs And St...</td>\n",
       "      <td>0</td>\n",
       "      <td>0.000000</td>\n",
       "      <td>0.000000</td>\n",
       "      <td>pos</td>\n",
       "      <td>UT</td>\n",
       "      <td>[Researchers, Develop, Liquid, That, Absorbs, ...</td>\n",
       "    </tr>\n",
       "    <tr>\n",
       "      <th>321</th>\n",
       "      <td>DW4988\\n🕒 23h | Current weather\\n\\nWind: 2.0 m...</td>\n",
       "      <td>0</td>\n",
       "      <td>0.400000</td>\n",
       "      <td>0.000000</td>\n",
       "      <td>pos</td>\n",
       "      <td>UT</td>\n",
       "      <td>[DW4988, 🕒, 23h, |, Current, weather, Wind, :,...</td>\n",
       "    </tr>\n",
       "    <tr>\n",
       "      <th>322</th>\n",
       "      <td>Solar farms in the Imperial Valley. Why has so...</td>\n",
       "      <td>0</td>\n",
       "      <td>0.500000</td>\n",
       "      <td>0.500000</td>\n",
       "      <td>pos</td>\n",
       "      <td>UT</td>\n",
       "      <td>[Solar, farms, in, the, Imperial, Valley, ., W...</td>\n",
       "    </tr>\n",
       "    <tr>\n",
       "      <th>323</th>\n",
       "      <td>✌ Alternative Energy Market to Witness Massive...</td>\n",
       "      <td>0</td>\n",
       "      <td>1.000000</td>\n",
       "      <td>0.000000</td>\n",
       "      <td>pos</td>\n",
       "      <td>UT</td>\n",
       "      <td>[✌, Alternative, Energy, Market, to, Witness, ...</td>\n",
       "    </tr>\n",
       "    <tr>\n",
       "      <th>324</th>\n",
       "      <td>DW4988\\n🕒 22h | Current weather\\n\\nWind: 0.9 m...</td>\n",
       "      <td>0</td>\n",
       "      <td>0.400000</td>\n",
       "      <td>0.000000</td>\n",
       "      <td>pos</td>\n",
       "      <td>UT</td>\n",
       "      <td>[DW4988, 🕒, 22h, |, Current, weather, Wind, :,...</td>\n",
       "    </tr>\n",
       "    <tr>\n",
       "      <th>325</th>\n",
       "      <td>Las Vegas NV USA - Sales Representative - Our ...</td>\n",
       "      <td>0</td>\n",
       "      <td>0.000000</td>\n",
       "      <td>0.000000</td>\n",
       "      <td>pos</td>\n",
       "      <td>UT</td>\n",
       "      <td>[Las, Vegas, NV, USA, -, Sales, Representative...</td>\n",
       "    </tr>\n",
       "    <tr>\n",
       "      <th>326</th>\n",
       "      <td>Imagine being so dense that you think the poin...</td>\n",
       "      <td>0</td>\n",
       "      <td>0.000000</td>\n",
       "      <td>0.000000</td>\n",
       "      <td>pos</td>\n",
       "      <td>UT</td>\n",
       "      <td>[Imagine, being, so, dense, that, you, think, ...</td>\n",
       "    </tr>\n",
       "    <tr>\n",
       "      <th>327</th>\n",
       "      <td>Working a solar project then next few days, sh...</td>\n",
       "      <td>0</td>\n",
       "      <td>0.250000</td>\n",
       "      <td>0.050000</td>\n",
       "      <td>pos</td>\n",
       "      <td>UT</td>\n",
       "      <td>[Working, a, solar, project, then, next, few, ...</td>\n",
       "    </tr>\n",
       "    <tr>\n",
       "      <th>328</th>\n",
       "      <td>DW4988\\n🕒 21h | Current weather\\n\\nWind: 4.0 m...</td>\n",
       "      <td>0</td>\n",
       "      <td>0.400000</td>\n",
       "      <td>0.000000</td>\n",
       "      <td>pos</td>\n",
       "      <td>UT</td>\n",
       "      <td>[DW4988, 🕒, 21h, |, Current, weather, Wind, :,...</td>\n",
       "    </tr>\n",
       "    <tr>\n",
       "      <th>329</th>\n",
       "      <td>Biden Unveils What He Calls A 'Once-In-A-Gener...</td>\n",
       "      <td>0</td>\n",
       "      <td>0.000000</td>\n",
       "      <td>0.000000</td>\n",
       "      <td>pos</td>\n",
       "      <td>UT</td>\n",
       "      <td>[Biden, Unveils, What, He, Calls, A, 'Once-In-...</td>\n",
       "    </tr>\n",
       "    <tr>\n",
       "      <th>330</th>\n",
       "      <td>Be warned. A solar company scam! Apricot solar...</td>\n",
       "      <td>0</td>\n",
       "      <td>0.000000</td>\n",
       "      <td>0.000000</td>\n",
       "      <td>pos</td>\n",
       "      <td>UT</td>\n",
       "      <td>[Be, warned, ., A, solar, company, scam, !, Ap...</td>\n",
       "    </tr>\n",
       "    <tr>\n",
       "      <th>331</th>\n",
       "      <td>Apple will use Tesla’s ‘megapack’ batteries at...</td>\n",
       "      <td>1</td>\n",
       "      <td>0.000000</td>\n",
       "      <td>0.000000</td>\n",
       "      <td>pos</td>\n",
       "      <td>UT</td>\n",
       "      <td>[Apple, will, use, Tesla, ’, s, ‘, megapack, ’...</td>\n",
       "    </tr>\n",
       "    <tr>\n",
       "      <th>332</th>\n",
       "      <td>DW4988\\n🕒 20h | Current weather\\n\\nWind: 2.9 m...</td>\n",
       "      <td>0</td>\n",
       "      <td>0.400000</td>\n",
       "      <td>0.000000</td>\n",
       "      <td>pos</td>\n",
       "      <td>UT</td>\n",
       "      <td>[DW4988, 🕒, 20h, |, Current, weather, Wind, :,...</td>\n",
       "    </tr>\n",
       "    <tr>\n",
       "      <th>333</th>\n",
       "      <td>We’ve touched a lot of homes over the years an...</td>\n",
       "      <td>0</td>\n",
       "      <td>0.000000</td>\n",
       "      <td>0.000000</td>\n",
       "      <td>pos</td>\n",
       "      <td>UT</td>\n",
       "      <td>[We, ’, ve, touched, a, lot, of, homes, over, ...</td>\n",
       "    </tr>\n",
       "    <tr>\n",
       "      <th>334</th>\n",
       "      <td>DW4988\\n🕒 19h | Current weather\\n\\nWind: 6.9 m...</td>\n",
       "      <td>0</td>\n",
       "      <td>0.400000</td>\n",
       "      <td>0.000000</td>\n",
       "      <td>pos</td>\n",
       "      <td>UT</td>\n",
       "      <td>[DW4988, 🕒, 19h, |, Current, weather, Wind, :,...</td>\n",
       "    </tr>\n",
       "    <tr>\n",
       "      <th>335</th>\n",
       "      <td>Come say \"hi\" to The #RV Addict as we install ...</td>\n",
       "      <td>1</td>\n",
       "      <td>0.260606</td>\n",
       "      <td>-0.015152</td>\n",
       "      <td>neg</td>\n",
       "      <td>UT</td>\n",
       "      <td>[Come, say, ``, hi, '', to, The, #, RV, Addict...</td>\n",
       "    </tr>\n",
       "    <tr>\n",
       "      <th>336</th>\n",
       "      <td>DW4988\\n🕒 18h | Current weather\\n\\nWind: 4.9 m...</td>\n",
       "      <td>0</td>\n",
       "      <td>0.400000</td>\n",
       "      <td>0.000000</td>\n",
       "      <td>pos</td>\n",
       "      <td>UT</td>\n",
       "      <td>[DW4988, 🕒, 18h, |, Current, weather, Wind, :,...</td>\n",
       "    </tr>\n",
       "    <tr>\n",
       "      <th>337</th>\n",
       "      <td>NovaSource Power Services is World's Largest S...</td>\n",
       "      <td>0</td>\n",
       "      <td>0.166667</td>\n",
       "      <td>0.125000</td>\n",
       "      <td>pos</td>\n",
       "      <td>UT</td>\n",
       "      <td>[NovaSource, Power, Services, is, World, 's, L...</td>\n",
       "    </tr>\n",
       "    <tr>\n",
       "      <th>338</th>\n",
       "      <td>I don't know who is but that is a long time to...</td>\n",
       "      <td>0</td>\n",
       "      <td>0.400000</td>\n",
       "      <td>-0.050000</td>\n",
       "      <td>neg</td>\n",
       "      <td>UT</td>\n",
       "      <td>[I, do, n't, know, who, is, but, that, is, a, ...</td>\n",
       "    </tr>\n",
       "    <tr>\n",
       "      <th>339</th>\n",
       "      <td>DW4988\\n🕒 17h | Current weather\\n\\nWind: 4.0 m...</td>\n",
       "      <td>0</td>\n",
       "      <td>0.400000</td>\n",
       "      <td>0.000000</td>\n",
       "      <td>pos</td>\n",
       "      <td>UT</td>\n",
       "      <td>[DW4988, 🕒, 17h, |, Current, weather, Wind, :,...</td>\n",
       "    </tr>\n",
       "    <tr>\n",
       "      <th>340</th>\n",
       "      <td>The new base camp tent really helped. Just sli...</td>\n",
       "      <td>0</td>\n",
       "      <td>0.413636</td>\n",
       "      <td>-0.115909</td>\n",
       "      <td>neg</td>\n",
       "      <td>UT</td>\n",
       "      <td>[The, new, base, camp, tent, really, helped, ....</td>\n",
       "    </tr>\n",
       "    <tr>\n",
       "      <th>341</th>\n",
       "      <td>DW4988\\n🕒 16h | Current weather\\n\\nWind: 4.0 m...</td>\n",
       "      <td>0</td>\n",
       "      <td>0.400000</td>\n",
       "      <td>0.000000</td>\n",
       "      <td>pos</td>\n",
       "      <td>UT</td>\n",
       "      <td>[DW4988, 🕒, 16h, |, Current, weather, Wind, :,...</td>\n",
       "    </tr>\n",
       "    <tr>\n",
       "      <th>342</th>\n",
       "      <td>Because of the hundreds of Wyoming citizens li...</td>\n",
       "      <td>1</td>\n",
       "      <td>0.000000</td>\n",
       "      <td>0.000000</td>\n",
       "      <td>pos</td>\n",
       "      <td>UT</td>\n",
       "      <td>[Because, of, the, hundreds, of, Wyoming, citi...</td>\n",
       "    </tr>\n",
       "    <tr>\n",
       "      <th>344</th>\n",
       "      <td>Because of the hundreds of Wyoming citizens li...</td>\n",
       "      <td>1</td>\n",
       "      <td>0.000000</td>\n",
       "      <td>0.000000</td>\n",
       "      <td>pos</td>\n",
       "      <td>UT</td>\n",
       "      <td>[Because, of, the, hundreds, of, Wyoming, citi...</td>\n",
       "    </tr>\n",
       "    <tr>\n",
       "      <th>345</th>\n",
       "      <td>Skin be like solar panel wey absorb sun</td>\n",
       "      <td>0</td>\n",
       "      <td>0.000000</td>\n",
       "      <td>0.000000</td>\n",
       "      <td>pos</td>\n",
       "      <td>UT</td>\n",
       "      <td>[Skin, be, like, solar, panel, wey, absorb, sun]</td>\n",
       "    </tr>\n",
       "  </tbody>\n",
       "</table>\n",
       "<p>2184 rows × 7 columns</p>\n",
       "</div>"
      ],
      "text/plain": [
       "                                                 Tweet  Retweet Count  \\\n",
       "0    Size of raindrops can help identify potentiall...              0   \n",
       "1    New study ties solar variability to the onset ...              0   \n",
       "2    It's just an erector set in the middle of a ar...              0   \n",
       "3    15 days since Tesla recognized they also have ...              1   \n",
       "4    #PPOD: This image is extraordinary. It shows a...             88   \n",
       "..                                                 ...            ...   \n",
       "340  The new base camp tent really helped. Just sli...              0   \n",
       "341  DW4988\\n🕒 16h | Current weather\\n\\nWind: 4.0 m...              0   \n",
       "342  Because of the hundreds of Wyoming citizens li...              1   \n",
       "344  Because of the hundreds of Wyoming citizens li...              1   \n",
       "345           Skin be like solar panel wey absorb sun               0   \n",
       "\n",
       "     Subjectivity  Polarity Classification State  \\\n",
       "0        0.525000  0.000000            pos    CA   \n",
       "1        0.454545  0.136364            pos    CA   \n",
       "2        0.245833  0.100000            pos    CA   \n",
       "3        0.000000  0.000000            pos    CA   \n",
       "4        1.000000  0.333333            pos    CA   \n",
       "..            ...       ...            ...   ...   \n",
       "340      0.413636 -0.115909            neg    UT   \n",
       "341      0.400000  0.000000            pos    UT   \n",
       "342      0.000000  0.000000            pos    UT   \n",
       "344      0.000000  0.000000            pos    UT   \n",
       "345      0.000000  0.000000            pos    UT   \n",
       "\n",
       "                                                 Words  \n",
       "0    [Size, of, raindrops, can, help, identify, pot...  \n",
       "1    [New, study, ties, solar, variability, to, the...  \n",
       "2    [It, 's, just, an, erector, set, in, the, midd...  \n",
       "3    [15, days, since, Tesla, recognized, they, als...  \n",
       "4    [#, PPOD, :, This, image, is, extraordinary, ....  \n",
       "..                                                 ...  \n",
       "340  [The, new, base, camp, tent, really, helped, ....  \n",
       "341  [DW4988, 🕒, 16h, |, Current, weather, Wind, :,...  \n",
       "342  [Because, of, the, hundreds, of, Wyoming, citi...  \n",
       "344  [Because, of, the, hundreds, of, Wyoming, citi...  \n",
       "345   [Skin, be, like, solar, panel, wey, absorb, sun]  \n",
       "\n",
       "[2184 rows x 7 columns]"
      ]
     },
     "execution_count": 150,
     "metadata": {},
     "output_type": "execute_result"
    }
   ],
   "source": [
    "all_df.head(-20)"
   ]
  },
  {
   "cell_type": "markdown",
   "metadata": {},
   "source": [
    "For calculating most common words we will need a list of our words. Let's create it also."
   ]
  },
  {
   "cell_type": "code",
   "execution_count": 151,
   "metadata": {},
   "outputs": [
    {
     "data": {
      "text/html": [
       "<div>\n",
       "<style scoped>\n",
       "    .dataframe tbody tr th:only-of-type {\n",
       "        vertical-align: middle;\n",
       "    }\n",
       "\n",
       "    .dataframe tbody tr th {\n",
       "        vertical-align: top;\n",
       "    }\n",
       "\n",
       "    .dataframe thead th {\n",
       "        text-align: right;\n",
       "    }\n",
       "</style>\n",
       "<table border=\"1\" class=\"dataframe\">\n",
       "  <thead>\n",
       "    <tr style=\"text-align: right;\">\n",
       "      <th></th>\n",
       "      <th>Tweet</th>\n",
       "      <th>Retweet Count</th>\n",
       "      <th>Subjectivity</th>\n",
       "      <th>Polarity</th>\n",
       "      <th>Classification</th>\n",
       "      <th>State</th>\n",
       "      <th>Words</th>\n",
       "      <th>Filtered_words</th>\n",
       "    </tr>\n",
       "  </thead>\n",
       "  <tbody>\n",
       "    <tr>\n",
       "      <th>0</th>\n",
       "      <td>Size of raindrops can help identify potentiall...</td>\n",
       "      <td>0</td>\n",
       "      <td>0.525000</td>\n",
       "      <td>0.000000</td>\n",
       "      <td>pos</td>\n",
       "      <td>CA</td>\n",
       "      <td>[Size, of, raindrops, can, help, identify, pot...</td>\n",
       "      <td>[size, raindrops, help, identify, potentially,...</td>\n",
       "    </tr>\n",
       "    <tr>\n",
       "      <th>1</th>\n",
       "      <td>New study ties solar variability to the onset ...</td>\n",
       "      <td>0</td>\n",
       "      <td>0.454545</td>\n",
       "      <td>0.136364</td>\n",
       "      <td>pos</td>\n",
       "      <td>CA</td>\n",
       "      <td>[New, study, ties, solar, variability, to, the...</td>\n",
       "      <td>[new, study, ties, solar, variability, onset, ...</td>\n",
       "    </tr>\n",
       "    <tr>\n",
       "      <th>2</th>\n",
       "      <td>It's just an erector set in the middle of a ar...</td>\n",
       "      <td>0</td>\n",
       "      <td>0.245833</td>\n",
       "      <td>0.100000</td>\n",
       "      <td>pos</td>\n",
       "      <td>CA</td>\n",
       "      <td>[It, 's, just, an, erector, set, in, the, midd...</td>\n",
       "      <td>[it, 's, erector, set, middle, area, full, bus...</td>\n",
       "    </tr>\n",
       "    <tr>\n",
       "      <th>3</th>\n",
       "      <td>15 days since Tesla recognized they also have ...</td>\n",
       "      <td>1</td>\n",
       "      <td>0.000000</td>\n",
       "      <td>0.000000</td>\n",
       "      <td>pos</td>\n",
       "      <td>CA</td>\n",
       "      <td>[15, days, since, Tesla, recognized, they, als...</td>\n",
       "      <td>[15, days, since, tesla, recognized, also, sol...</td>\n",
       "    </tr>\n",
       "    <tr>\n",
       "      <th>4</th>\n",
       "      <td>#PPOD: This image is extraordinary. It shows a...</td>\n",
       "      <td>88</td>\n",
       "      <td>1.000000</td>\n",
       "      <td>0.333333</td>\n",
       "      <td>pos</td>\n",
       "      <td>CA</td>\n",
       "      <td>[#, PPOD, :, This, image, is, extraordinary, ....</td>\n",
       "      <td>[ppod, this, image, extraordinary, it, shows, ...</td>\n",
       "    </tr>\n",
       "    <tr>\n",
       "      <th>5</th>\n",
       "      <td>Tesla Giga Nevada Adds More Solar Panels in Co...</td>\n",
       "      <td>9</td>\n",
       "      <td>0.500000</td>\n",
       "      <td>0.500000</td>\n",
       "      <td>pos</td>\n",
       "      <td>CA</td>\n",
       "      <td>[Tesla, Giga, Nevada, Adds, More, Solar, Panel...</td>\n",
       "      <td>[tesla, giga, nevada, adds, more, solar, panel...</td>\n",
       "    </tr>\n",
       "    <tr>\n",
       "      <th>6</th>\n",
       "      <td>Stream Wheein's concept film video moos ❤️ \\n\\...</td>\n",
       "      <td>2</td>\n",
       "      <td>0.583333</td>\n",
       "      <td>0.408333</td>\n",
       "      <td>pos</td>\n",
       "      <td>CA</td>\n",
       "      <td>[Stream, Wheein, 's, concept, film, video, moo...</td>\n",
       "      <td>[stream, wheein, 's, concept, film, video, moo...</td>\n",
       "    </tr>\n",
       "    <tr>\n",
       "      <th>7</th>\n",
       "      <td>#Minnesota’s community #solar program leads th...</td>\n",
       "      <td>3</td>\n",
       "      <td>0.000000</td>\n",
       "      <td>0.000000</td>\n",
       "      <td>pos</td>\n",
       "      <td>CA</td>\n",
       "      <td>[#, Minnesota, ’, s, community, #, solar, prog...</td>\n",
       "      <td>[minnesota, ’, community, solar, program, lead...</td>\n",
       "    </tr>\n",
       "    <tr>\n",
       "      <th>8</th>\n",
       "      <td>The “Magical” of using Tesla Solar System with...</td>\n",
       "      <td>28</td>\n",
       "      <td>1.000000</td>\n",
       "      <td>0.250000</td>\n",
       "      <td>pos</td>\n",
       "      <td>CA</td>\n",
       "      <td>[The, “, Magical, ”, of, using, Tesla, Solar, ...</td>\n",
       "      <td>[the, “, magical, ”, using, tesla, solar, syst...</td>\n",
       "    </tr>\n",
       "    <tr>\n",
       "      <th>9</th>\n",
       "      <td>China's green hydrogen gigafactories are comin...</td>\n",
       "      <td>5</td>\n",
       "      <td>0.300000</td>\n",
       "      <td>-0.200000</td>\n",
       "      <td>neg</td>\n",
       "      <td>CA</td>\n",
       "      <td>[China, 's, green, hydrogen, gigafactories, ar...</td>\n",
       "      <td>[china, 's, green, hydrogen, gigafactories, co...</td>\n",
       "    </tr>\n",
       "  </tbody>\n",
       "</table>\n",
       "</div>"
      ],
      "text/plain": [
       "                                               Tweet  Retweet Count  \\\n",
       "0  Size of raindrops can help identify potentiall...              0   \n",
       "1  New study ties solar variability to the onset ...              0   \n",
       "2  It's just an erector set in the middle of a ar...              0   \n",
       "3  15 days since Tesla recognized they also have ...              1   \n",
       "4  #PPOD: This image is extraordinary. It shows a...             88   \n",
       "5  Tesla Giga Nevada Adds More Solar Panels in Co...              9   \n",
       "6  Stream Wheein's concept film video moos ❤️ \\n\\...              2   \n",
       "7  #Minnesota’s community #solar program leads th...              3   \n",
       "8  The “Magical” of using Tesla Solar System with...             28   \n",
       "9  China's green hydrogen gigafactories are comin...              5   \n",
       "\n",
       "   Subjectivity  Polarity Classification State  \\\n",
       "0      0.525000  0.000000            pos    CA   \n",
       "1      0.454545  0.136364            pos    CA   \n",
       "2      0.245833  0.100000            pos    CA   \n",
       "3      0.000000  0.000000            pos    CA   \n",
       "4      1.000000  0.333333            pos    CA   \n",
       "5      0.500000  0.500000            pos    CA   \n",
       "6      0.583333  0.408333            pos    CA   \n",
       "7      0.000000  0.000000            pos    CA   \n",
       "8      1.000000  0.250000            pos    CA   \n",
       "9      0.300000 -0.200000            neg    CA   \n",
       "\n",
       "                                               Words  \\\n",
       "0  [Size, of, raindrops, can, help, identify, pot...   \n",
       "1  [New, study, ties, solar, variability, to, the...   \n",
       "2  [It, 's, just, an, erector, set, in, the, midd...   \n",
       "3  [15, days, since, Tesla, recognized, they, als...   \n",
       "4  [#, PPOD, :, This, image, is, extraordinary, ....   \n",
       "5  [Tesla, Giga, Nevada, Adds, More, Solar, Panel...   \n",
       "6  [Stream, Wheein, 's, concept, film, video, moo...   \n",
       "7  [#, Minnesota, ’, s, community, #, solar, prog...   \n",
       "8  [The, “, Magical, ”, of, using, Tesla, Solar, ...   \n",
       "9  [China, 's, green, hydrogen, gigafactories, ar...   \n",
       "\n",
       "                                      Filtered_words  \n",
       "0  [size, raindrops, help, identify, potentially,...  \n",
       "1  [new, study, ties, solar, variability, onset, ...  \n",
       "2  [it, 's, erector, set, middle, area, full, bus...  \n",
       "3  [15, days, since, tesla, recognized, also, sol...  \n",
       "4  [ppod, this, image, extraordinary, it, shows, ...  \n",
       "5  [tesla, giga, nevada, adds, more, solar, panel...  \n",
       "6  [stream, wheein, 's, concept, film, video, moo...  \n",
       "7  [minnesota, ’, community, solar, program, lead...  \n",
       "8  [the, “, magical, ”, using, tesla, solar, syst...  \n",
       "9  [china, 's, green, hydrogen, gigafactories, co...  "
      ]
     },
     "execution_count": 151,
     "metadata": {},
     "output_type": "execute_result"
    }
   ],
   "source": [
    "all_df['Filtered_words'] = all_df['Words'].apply(get_filtered_words_list)\n",
    "all_df.head(10)"
   ]
  },
  {
   "cell_type": "code",
   "execution_count": 152,
   "metadata": {},
   "outputs": [
    {
     "data": {
      "text/plain": [
       "['size',\n",
       " 'raindrops',\n",
       " 'help',\n",
       " 'identify',\n",
       " 'potentially',\n",
       " 'habitable',\n",
       " 'planets',\n",
       " 'outside',\n",
       " 'solar',\n",
       " 'system',\n",
       " 'via',\n",
       " 'new',\n",
       " 'study',\n",
       " 'ties',\n",
       " 'solar',\n",
       " 'variability',\n",
       " 'onset',\n",
       " 'decadal',\n",
       " 'la',\n",
       " 'nina']"
      ]
     },
     "execution_count": 152,
     "metadata": {},
     "output_type": "execute_result"
    }
   ],
   "source": [
    "all_word_list = all_df['Filtered_words'].to_list()\n",
    "all_word_list = sum(all_word_list, [])\n",
    "all_word_list[:20]"
   ]
  },
  {
   "cell_type": "markdown",
   "metadata": {},
   "source": [
    "We can see words like 'solar', 'system' in the list of all words from tweets. Let's calculate frequency of words and display top 20 most frequent words we found in tweets with 'solar' topic"
   ]
  },
  {
   "cell_type": "code",
   "execution_count": 153,
   "metadata": {},
   "outputs": [],
   "source": [
    "all_word_counter = Counter(all_word_list)\n",
    "all_common_words = all_word_counter.most_common()[:20]"
   ]
  },
  {
   "cell_type": "code",
   "execution_count": 155,
   "metadata": {},
   "outputs": [
    {
     "data": {
      "text/plain": [
       "[('solar', 1211),\n",
       " ('mph', 495),\n",
       " ('wind', 394),\n",
       " ('i', 310),\n",
       " ('weather', 267),\n",
       " ('temperature', 261),\n",
       " ('’', 257),\n",
       " ('gust', 257),\n",
       " ('humidity', 257),\n",
       " ('current', 255),\n",
       " ('°f', 253),\n",
       " ('🕒', 252),\n",
       " ('energy', 204),\n",
       " ('pressure', 185),\n",
       " (\"'s\", 175),\n",
       " ('the', 171),\n",
       " ('new', 165),\n",
       " ('amp', 153),\n",
       " ('dw4988', 143),\n",
       " ('power', 139)]"
      ]
     },
     "execution_count": 155,
     "metadata": {},
     "output_type": "execute_result"
    }
   ],
   "source": [
    "all_common_words"
   ]
  },
  {
   "cell_type": "markdown",
   "metadata": {},
   "source": [
    "Solar unsurprizingly took a top place in the list, we also see words like wind, energy, pressure, tempreture, amp, power related to solar energy. Let's display the frequency of the words on a plot."
   ]
  },
  {
   "cell_type": "code",
   "execution_count": 162,
   "metadata": {},
   "outputs": [
    {
     "data": {
      "image/png": "[encoded data removed]",
      "text/plain": [
       "<Figure size 1080x720 with 1 Axes>"
      ]
     },
     "metadata": {
      "needs_background": "light"
     },
     "output_type": "display_data"
    }
   ],
   "source": [
    "xTicks = []\n",
    "y = []\n",
    "\n",
    "for row in all_common_words:\n",
    "    y.append(int(row[-1]))\n",
    "    xTicks.append(str(row[-2]))\n",
    "    \n",
    "x = range(len(y))\n",
    "plt.figure(figsize=(15, 10))\n",
    "plt.xticks(x, xTicks, rotation=90) \n",
    "plt.plot(x, y, '*')\n",
    "plt.xlabel('Most frequent words', fontsize=14)\n",
    "plt.ylabel('Word frequency in tweets', fontsize=14)\n",
    "plt.title('20 Most frequent Twitter words on solar topic')\n",
    "\n",
    "plt.show()"
   ]
  },
  {
   "cell_type": "markdown",
   "metadata": {},
   "source": [
    "## Training a Classifier for Sentiment Analysis"
   ]
  },
  {
   "cell_type": "markdown",
   "metadata": {},
   "source": [
    "For Naive Bayes Classifier we need to create a list of positive and negative features. Let's use this classifier on NLTK Twitter sample data first"
   ]
  },
  {
   "cell_type": "code",
   "execution_count": 163,
   "metadata": {},
   "outputs": [
    {
     "name": "stdout",
     "output_type": "stream",
     "text": [
      "['#', 'followfriday', 'for', 'being', 'top', 'engaged', 'members', 'in', 'my', 'community', 'this', 'week', ':', ')', 'hey', 'james', '!', 'how', 'odd', ':', '/', 'please', 'call', 'our', 'contact', 'centre', 'on', '02392441234', 'and', 'we', 'will', 'be', 'able', 'to', 'assist', 'you', ':', ')', 'many', 'thanks', '!', 'we', 'had', 'a', 'listen', 'last', 'night', ':', ')', 'as', 'you', 'bleed', 'is', 'an', 'amazing', 'track', '.', 'when', 'are', 'you', 'in', 'scotland', '?', '!', 'congrats', ':', ')', 'yeaaaah', 'yippppy', '!', '!', '!', 'my', 'accnt', 'verified', 'rqst', 'has', 'succeed', 'got', 'a', 'blue', 'tick', 'mark', 'on', 'my', 'fb', 'profile', ':', ')', 'in', '15', 'days', 'this', 'one', 'is', 'irresistible', ':', ')', '#', 'flipkartfashionfriday']\n",
      "['hopeless', 'for', 'tmr', ':', '(', 'everything', 'in', 'the', 'kids', 'section', 'of', 'ikea', 'is', 'so', 'cute', '.', 'shame', 'i', \"'m\", 'nearly', '19', 'in', '2', 'months', ':', '(', 'that', 'heart', 'sliding', 'into', 'the', 'waste', 'basket', '.', ':', '(', 'i', 'hate', 'japanese', 'call', 'him', '``', 'bani', \"''\", ':', '(', ':', '(', '”', 'me', 'too', 'dang', 'starting', 'next', 'week', 'i', 'have', '``', 'work', \"''\", ':', '(', 'oh', 'god', ',', 'my', 'babies', \"'\", 'faces', ':', '(', 'make', 'me', 'smile', ':', '(', '(', 'work', 'neighbour', 'on', 'motors', '.', 'asked', 'why', 'and', 'he', 'said', 'hates', 'the', 'updates', 'on', 'search', ':', '(', 'sialan', ':', '(', '``', 'athabasca', 'glacier']\n"
     ]
    }
   ],
   "source": [
    "positive_token_list = []\n",
    "negative_token_list = []\n",
    "\n",
    "for i in positive_tweets_filtered:\n",
    "    positive_token_list.append(nltk.word_tokenize(i.lower()))\n",
    "positive_token_list = sum(positive_token_list, [])\n",
    "\n",
    "for i in negative_tweets_filtered:\n",
    "    negative_token_list.append(nltk.word_tokenize(i.lower()))\n",
    "negative_token_list = sum(negative_token_list, [])\n",
    "\n",
    "print(positive_token_list[:100])\n",
    "print(negative_token_list[:100])"
   ]
  },
  {
   "cell_type": "code",
   "execution_count": 164,
   "metadata": {},
   "outputs": [],
   "source": [
    "def get_tweets_for_model(token_list):\n",
    "    for tweet_tokens in token_list:\n",
    "        return dict([token, True] for token in tweet_tokens)"
   ]
  },
  {
   "cell_type": "markdown",
   "metadata": {},
   "source": [
    "Once we have a list of words, we can create a feature dictionaries, positive and negative feature dictionary respectively."
   ]
  },
  {
   "cell_type": "code",
   "execution_count": 165,
   "metadata": {},
   "outputs": [],
   "source": [
    "positive_features = [\n",
    "    (bag_word_features_filter(nltk.word_tokenize(f.lower())), 'pos') \\\n",
    "    for f in positive_tweets_filtered\n",
    "]"
   ]
  },
  {
   "cell_type": "code",
   "execution_count": 166,
   "metadata": {},
   "outputs": [
    {
     "name": "stdout",
     "output_type": "stream",
     "text": [
      "({'listen': 1, 'last': 1, 'night': 1, 'bleed': 1, 'amazing': 1, 'track': 1, 'scotland': 1}, 'pos')\n"
     ]
    }
   ],
   "source": [
    "print(positive_features[2])"
   ]
  },
  {
   "cell_type": "code",
   "execution_count": 167,
   "metadata": {},
   "outputs": [],
   "source": [
    "negative_features = [\n",
    "    (bag_word_features_filter(nltk.word_tokenize(f.lower())), 'neg') \\\n",
    "    for f in negative_tweets_filtered\n",
    "]"
   ]
  },
  {
   "cell_type": "code",
   "execution_count": 168,
   "metadata": {},
   "outputs": [
    {
     "name": "stdout",
     "output_type": "stream",
     "text": [
      "({'oh': 1, 'god': 1, 'babies': 1, 'faces': 1}, 'neg')\n"
     ]
    }
   ],
   "source": [
    "print(negative_features[5])"
   ]
  },
  {
   "cell_type": "markdown",
   "metadata": {},
   "source": [
    "Let's find out the lenght of our feature dictionary:"
   ]
  },
  {
   "cell_type": "code",
   "execution_count": 169,
   "metadata": {},
   "outputs": [
    {
     "name": "stdout",
     "output_type": "stream",
     "text": [
      "5000\n"
     ]
    }
   ],
   "source": [
    "print(len(negative_features))"
   ]
  },
  {
   "cell_type": "markdown",
   "metadata": {},
   "source": [
    "We will use 30% split to train our classifier. As we have 10,000 tweet samples, 30% is equal to 3,000 features."
   ]
  },
  {
   "cell_type": "code",
   "execution_count": 170,
   "metadata": {},
   "outputs": [],
   "source": [
    "split = 3000"
   ]
  },
  {
   "cell_type": "code",
   "execution_count": 171,
   "metadata": {},
   "outputs": [],
   "source": [
    "sentiment_classifier = NaiveBayesClassifier.train(positive_features[:split] + negative_features[:split])"
   ]
  },
  {
   "cell_type": "markdown",
   "metadata": {},
   "source": [
    "Once we trained our model on sample data, we can find out its accuracy on test data:"
   ]
  },
  {
   "cell_type": "code",
   "execution_count": 191,
   "metadata": {},
   "outputs": [
    {
     "data": {
      "text/plain": [
       "0.5353409090909091"
      ]
     },
     "execution_count": 191,
     "metadata": {},
     "output_type": "execute_result"
    }
   ],
   "source": [
    "nltk.classify.util.accuracy(sentiment_classifier, positive_features[split:] + negative_features[split:])"
   ]
  },
  {
   "cell_type": "markdown",
   "metadata": {},
   "source": [
    "The Naive Bayes classifier shows rather low accuracy on NLTK Twitter sample data. Let's take a look at the list of most informative features:"
   ]
  },
  {
   "cell_type": "code",
   "execution_count": 173,
   "metadata": {},
   "outputs": [
    {
     "name": "stdout",
     "output_type": "stream",
     "text": [
      "Most Informative Features\n",
      "                     sad = 1                 neg : pos    =     21.3 : 1.0\n",
      "                      ff = 1                 pos : neg    =     19.7 : 1.0\n",
      "                    glad = 1                 pos : neg    =     17.7 : 1.0\n",
      "                    sick = 1                 neg : pos    =     17.7 : 1.0\n",
      "                   loves = 1                 pos : neg    =     16.2 : 1.0\n",
      "               community = 1                 pos : neg    =     15.7 : 1.0\n",
      "                    miss = 1                 neg : pos    =     14.7 : 1.0\n",
      "                     ugh = 1                 neg : pos    =     13.0 : 1.0\n",
      "              definitely = 1                 pos : neg    =     12.3 : 1.0\n",
      "               followers = 1                 pos : neg    =     12.3 : 1.0\n"
     ]
    }
   ],
   "source": [
    "sentiment_classifier.show_most_informative_features()"
   ]
  },
  {
   "cell_type": "markdown",
   "metadata": {},
   "source": [
    "As Naive Bayes Classifier is supervising learning model, we need to split our solar-related tweets into two lists: positive and negative tweets. We will do this using classification based on TextBlob polarity metric."
   ]
  },
  {
   "cell_type": "code",
   "execution_count": 174,
   "metadata": {},
   "outputs": [],
   "source": [
    "def get_classified_tweet_list(df, cl):\n",
    "    temp_df = df[df['Classification'] == cl]\n",
    "    return temp_df['Tweet'].tolist()   "
   ]
  },
  {
   "cell_type": "code",
   "execution_count": 175,
   "metadata": {},
   "outputs": [],
   "source": [
    "all_pos_tweet_list = get_classified_tweet_list(all_df, 'pos')\n",
    "all_neg_tweet_list = get_classified_tweet_list(all_df, 'neg')"
   ]
  },
  {
   "cell_type": "markdown",
   "metadata": {},
   "source": [
    "Let's take a look at some of negative tweets:"
   ]
  },
  {
   "cell_type": "code",
   "execution_count": 176,
   "metadata": {},
   "outputs": [
    {
     "data": {
      "text/plain": [
       "[\"China's green hydrogen gigafactories are coming...\",\n",
       " 'China’s Longi Green Energy Technology to Join Hydrogen Market, Solarzoom Says - Bloomberg ',\n",
       " \"Voyager 1's Pale Blue Dot | NASA Solar System Exploration -&gt; The Pale Blue Dot is a photograph of Earth taken Feb.… \",\n",
       " 'There goes #Texas messing with Texas.\\n\\nBunch of cowardly jackasses.\\n\\n',\n",
       " 'TX is having an electricity crisis during bad winter weather because it did not focus enough on building reliable power pl…',\n",
       " \"I'm not sure why the future tense is being used here, since it has been going on for a whi… \",\n",
       " \"there's been at least 4 ice ages in the last couple of hundreds of years. The entire solar system is experi… \",\n",
       " 'A part of me is looking forward to the one year anniversary of ordering solar from late last July thinking i… ',\n",
       " 'how long of a wait should we expect solar roof orders to be fulfilled?',\n",
       " \"China's green hydrogen gigafactories are coming...\"]"
      ]
     },
     "execution_count": 176,
     "metadata": {},
     "output_type": "execute_result"
    }
   ],
   "source": [
    "all_neg_tweet_list[:10]"
   ]
  },
  {
   "cell_type": "markdown",
   "metadata": {},
   "source": [
    "And create another set of dictionaries for positive and negative features out of tweets we collected."
   ]
  },
  {
   "cell_type": "code",
   "execution_count": 177,
   "metadata": {},
   "outputs": [],
   "source": [
    "all_positive_features = [\n",
    "    (bag_word_features_filter(nltk.word_tokenize(f.lower())), 'pos') \\\n",
    "    for f in all_pos_tweet_list\n",
    "]"
   ]
  },
  {
   "cell_type": "code",
   "execution_count": 178,
   "metadata": {},
   "outputs": [],
   "source": [
    "all_negative_features = [\n",
    "    (bag_word_features_filter(nltk.word_tokenize(f.lower())), 'neg') \\\n",
    "    for f in all_neg_tweet_list\n",
    "]"
   ]
  },
  {
   "cell_type": "markdown",
   "metadata": {},
   "source": [
    "Also, let's check some features:"
   ]
  },
  {
   "cell_type": "code",
   "execution_count": 179,
   "metadata": {},
   "outputs": [
    {
     "name": "stdout",
     "output_type": "stream",
     "text": [
      "[({'size': 1, 'raindrops': 1, 'help': 1, 'identify': 1, 'potentially': 1, 'habitable': 1, 'planets': 1, 'outside': 1, 'solar': 1, 'system': 1, 'via': 1}, 'pos'), ({'new': 1, 'study': 1, 'ties': 1, 'solar': 1, 'variability': 1, 'onset': 1, 'decadal': 1, 'la': 1, 'nina': 1, 'events': 1, 'via': 1}, 'pos')]\n",
      "[({'voyager': 1, '1': 1, \"'s\": 1, 'pale': 1, 'blue': 1, 'dot': 1, 'nasa': 1, 'solar': 1, 'system': 1, 'exploration': 1, 'gt': 1, 'photograph': 1, 'earth': 1, 'taken': 1, 'feb.…': 1}, 'neg'), ({'goes': 1, 'texas': 1, 'messing': 1, 'bunch': 1, 'cowardly': 1, 'jackasses': 1}, 'neg')]\n"
     ]
    }
   ],
   "source": [
    "print(all_positive_features[:2])\n",
    "print(all_negative_features[2:4])"
   ]
  },
  {
   "cell_type": "markdown",
   "metadata": {},
   "source": [
    "We will use similar 30% split for testing and training datasets. First, let's find out the size of our dataset"
   ]
  },
  {
   "cell_type": "code",
   "execution_count": 193,
   "metadata": {},
   "outputs": [
    {
     "name": "stdout",
     "output_type": "stream",
     "text": [
      "2204\n"
     ]
    }
   ],
   "source": [
    "print(len(all_positive_features) + len(all_negative_features))"
   ]
  },
  {
   "cell_type": "code",
   "execution_count": 194,
   "metadata": {},
   "outputs": [],
   "source": [
    "split = 650"
   ]
  },
  {
   "cell_type": "code",
   "execution_count": 195,
   "metadata": {},
   "outputs": [],
   "source": [
    "sentiment_classifier = NaiveBayesClassifier.train(all_positive_features[:split] + all_negative_features[:split])"
   ]
  },
  {
   "cell_type": "code",
   "execution_count": 196,
   "metadata": {},
   "outputs": [
    {
     "data": {
      "text/plain": [
       "0.9510807736063709"
      ]
     },
     "execution_count": 196,
     "metadata": {},
     "output_type": "execute_result"
    }
   ],
   "source": [
    "nltk.classify.util.accuracy(sentiment_classifier, all_positive_features[:split] + all_negative_features[:split])"
   ]
  },
  {
   "cell_type": "markdown",
   "metadata": {},
   "source": [
    "Model accuracy on train data is 95% which is high."
   ]
  },
  {
   "cell_type": "code",
   "execution_count": 197,
   "metadata": {},
   "outputs": [
    {
     "data": {
      "text/plain": [
       "0.7781132075471698"
      ]
     },
     "execution_count": 197,
     "metadata": {},
     "output_type": "execute_result"
    }
   ],
   "source": [
    "nltk.classify.util.accuracy(sentiment_classifier, all_positive_features[split:] + all_negative_features[split:])"
   ]
  },
  {
   "cell_type": "markdown",
   "metadata": {},
   "source": [
    "Model accuracy on test data is 77.8% which is much higher than on Twitter sample data. TextBlob classification works well with NLTK Naive Bayes Classifier on our data. Let's take a look at the most informative features identified by Naive Bayes classifier:"
   ]
  },
  {
   "cell_type": "code",
   "execution_count": 198,
   "metadata": {},
   "outputs": [
    {
     "name": "stdout",
     "output_type": "stream",
     "text": [
      "Most Informative Features\n",
      "                   every = 1                 neg : pos    =     14.2 : 1.0\n",
      "                  remote = 1                 neg : pos    =     14.2 : 1.0\n",
      "                   green = 1                 neg : pos    =     13.1 : 1.0\n",
      "                 parking = 1                 neg : pos    =     12.3 : 1.0\n",
      "                   waste = 1                 neg : pos    =     12.3 : 1.0\n",
      "                  behind = 1                 neg : pos    =     10.4 : 1.0\n",
      "              electrical = 1                 neg : pos    =     10.4 : 1.0\n",
      "                 install = 1                 neg : pos    =     10.4 : 1.0\n",
      "                     per = 1                 neg : pos    =     10.4 : 1.0\n",
      "                hydrogen = 1                 neg : pos    =      9.3 : 1.0\n"
     ]
    }
   ],
   "source": [
    "sentiment_classifier.show_most_informative_features()"
   ]
  },
  {
   "cell_type": "markdown",
   "metadata": {},
   "source": [
    "## Conclusion"
   ]
  },
  {
   "cell_type": "markdown",
   "metadata": {},
   "source": [
    "Finally, we create a word cloud to get some impression which words used most often in Twitter for topics related to solar."
   ]
  },
  {
   "cell_type": "code",
   "execution_count": 199,
   "metadata": {},
   "outputs": [
    {
     "data": {
      "image/png": "[encoded data removed]",
      "text/plain": [
       "<Figure size 1080x720 with 1 Axes>"
      ]
     },
     "metadata": {
      "needs_background": "light"
     },
     "output_type": "display_data"
    }
   ],
   "source": [
    "words = ' '.join([tweet for tweet in all_df['Tweet']])\n",
    "wordCloud = WordCloud(width=600, height=400).generate(words)\n",
    "\n",
    "plt.imshow(wordCloud)\n",
    "plt.show()"
   ]
  },
  {
   "cell_type": "markdown",
   "metadata": {},
   "source": [
    "Based on conducted analysis, we can conclude that majority of Twitter users from Californica, North Carolina, Arizona, Nevada, New Jersey, Massachusetts, Texas, Utah positively speak about solar.\n",
    "\n",
    "Among these US states with the largest installed solar capacity we did not find any where Twitter users have neutral or negative attitude towards solar topic.\n",
    "\n",
    "From collected tweets and word cloud we also see that news about solar ofter related to weather conditions, solar panels, renewable energy, including physical units of energy and weather condition. From curious things, we can notice the name of Mr. Biden who recently announced major efforts on increasing the amounts of energy produced in US from solar, including reducing solar cost by 60% in 10 years."
   ]
  }
 ],
 "metadata": {
  "kernelspec": {
   "display_name": "Python 3",
   "language": "python",
   "name": "python3"
  },
  "language_info": {
   "codemirror_mode": {
    "name": "ipython",
    "version": 3
   },
   "file_extension": ".py",
   "mimetype": "text/x-python",
   "name": "python",
   "nbconvert_exporter": "python",
   "pygments_lexer": "ipython3",
   "version": "3.7.2"
  }
 },
 "nbformat": 4,
 "nbformat_minor": 4
}
